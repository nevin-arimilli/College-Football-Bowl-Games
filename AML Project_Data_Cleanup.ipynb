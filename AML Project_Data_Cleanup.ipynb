{
 "cells": [
  {
   "cell_type": "code",
   "execution_count": 166,
   "id": "b293875e",
   "metadata": {},
   "outputs": [],
   "source": [
    "import pandas as pd\n",
    "from matplotlib import pyplot as plt\n",
    "import seaborn as sns\n",
    "import matplotlib.ticker as plticker\n",
    "import numpy as np\n",
    "import sklearn.model_selection as ms\n",
    "\n",
    "from sklearn.model_selection import cross_val_score\n",
    "from sklearn.linear_model import LogisticRegression\n",
    "from sklearn.pipeline import Pipeline\n",
    "from sklearn.neural_network import MLPRegressor\n",
    "from sklearn.preprocessing import OneHotEncoder, StandardScaler\n",
    "\n",
    "plt.style.use('seaborn-talk')\n",
    "plt.style.use('ggplot')\n"
   ]
  },
  {
   "cell_type": "code",
   "execution_count": 167,
   "id": "c087ba73",
   "metadata": {},
   "outputs": [],
   "source": [
    "fbsplays14 = pd.read_csv('fbsplays/fbsplays_14.csv')\n",
    "fbsplays15 = pd.read_csv('fbsplays/fbsplays_15.csv')\n",
    "fbsplays16 = pd.read_csv('fbsplays/fbsplays_16.csv')\n",
    "fbsplays17 = pd.read_csv('fbsplays/fbsplays_17.csv')\n",
    "fbsplays18 = pd.read_csv('fbsplays/fbsplays_18.csv')\n",
    "fbsplays19 = pd.read_csv('fbsplays/fbsplays_19.csv')\n",
    "fbsplays20 = pd.read_csv('fbsplays/fbsplays_20.csv')\n",
    "fbsplays21 = pd.read_csv('fbsplays/fbsplays_21.csv')\n",
    "fbsplays22 = pd.read_csv('fbsplays/fbsplays_22.csv')"
   ]
  },
  {
   "cell_type": "code",
   "execution_count": 170,
   "id": "ce1e427d",
   "metadata": {},
   "outputs": [],
   "source": [
    "def offense_calcs(x):\n",
    "    names = {'game_id': str(x['game_id'].unique()),\n",
    "             'home': str(x['home'].unique()),\n",
    "             'away': str(x['away'].unique()),\n",
    "             'Off. Conf': str(x['offense_conference'].unique()),\n",
    "             'Def. Conf': str(x['defense_conference'].unique()),\n",
    "             'Plays': x[x['rush']==1]['rush'].count() + x[x['pass']==1]['pass'].count(),\n",
    "             'Rush Atts': x[x['rush'] == 1]['yards_gained'].count(),\n",
    "             'Rush Yards': x[x['rush'] == 1]['yards_gained'].sum(),\n",
    "             'Pass Atts': x[x['pass'] == 1]['yards_gained'].count(),\n",
    "             'Pass Yards': x[(x['pass'] == 1) & (x['play_type']!= 'Sack')]['yards_gained'].sum(),\n",
    "             'Off. Drives' : len(x['drive_id'].unique()), # Number of Offensive Drives vs Defense\n",
    "             'Turnover': x[x['play_type'].str.contains('Interception')]['play_type'].count() + x[x['play_type'].str.contains('Opponent')]['play_type'].count(), # Number of Turnovers\n",
    "             'Field Goal Made': x[x['play_type'].str.contains('Field Goal Good')]['play_type'].count(),\n",
    "             'Field Goal Attempt': x[x['play_type'].str.contains('Field Goal')]['play_type'].count()\n",
    "            }\n",
    "    return pd.Series(names)\n",
    "\n"
   ]
  },
  {
   "cell_type": "code",
   "execution_count": 171,
   "id": "78457d90",
   "metadata": {},
   "outputs": [],
   "source": [
    "offense14 =  fbsplays14.groupby(['offense','defense'], sort = False).apply(offense_calcs)\n",
    "offense15 =  fbsplays15.groupby(['offense','defense'], sort = False).apply(offense_calcs)\n",
    "offense16 =  fbsplays16.groupby(['offense','defense'], sort = False).apply(offense_calcs)\n",
    "offense17 =  fbsplays17.groupby(['offense','defense'], sort = False).apply(offense_calcs)\n",
    "offense18 =  fbsplays18.groupby(['offense','defense'], sort = False).apply(offense_calcs)\n",
    "offense19 =  fbsplays19.groupby(['offense','defense'], sort = False).apply(offense_calcs)\n",
    "offense20 =  fbsplays20.groupby(['offense','defense'], sort = False).apply(offense_calcs)\n",
    "offense21 =  fbsplays21.groupby(['offense','defense'], sort = False).apply(offense_calcs)\n",
    "offense22 =  fbsplays22.groupby(['offense','defense'], sort = False).apply(offense_calcs)\n"
   ]
  },
  {
   "cell_type": "code",
   "execution_count": 172,
   "id": "990a827c",
   "metadata": {},
   "outputs": [],
   "source": [
    "score14 =  fbsplays14.groupby(['offense','defense'], sort = False)['offense_score'].nth(-1)\n",
    "score15 =  fbsplays15.groupby(['offense','defense'], sort = False)['offense_score'].nth(-1)\n",
    "score16 =  fbsplays16.groupby(['offense','defense'], sort = False)['offense_score'].nth(-1)\n",
    "score17 =  fbsplays17.groupby(['offense','defense'], sort = False)['offense_score'].nth(-1)\n",
    "score18 =  fbsplays18.groupby(['offense','defense'], sort = False)['offense_score'].nth(-1)\n",
    "score19 =  fbsplays19.groupby(['offense','defense'], sort = False)['offense_score'].nth(-1)\n",
    "score20 =  fbsplays20.groupby(['offense','defense'], sort = False)['offense_score'].nth(-1)\n",
    "score21 =  fbsplays21.groupby(['offense','defense'], sort = False)['offense_score'].nth(-1)\n",
    "score22 =  fbsplays22.groupby(['offense','defense'], sort = False)['offense_score'].nth(-1)"
   ]
  },
  {
   "cell_type": "code",
   "execution_count": 208,
   "id": "259c2d97",
   "metadata": {},
   "outputs": [],
   "source": [
    "df14 = pd.merge(offense14, score14, on=['offense','defense'])\n",
    "df15 = pd.merge(offense15, score15, on=['offense','defense'])\n",
    "df16 = pd.merge(offense16, score16, on=['offense','defense'])\n",
    "df17 = pd.merge(offense17, score17, on=['offense','defense'])\n",
    "df18 = pd.merge(offense18, score18, on=['offense','defense'])\n",
    "df19 = pd.merge(offense19, score19, on=['offense','defense'])\n",
    "df20 = pd.merge(offense20, score20, on=['offense','defense'])\n",
    "df21 = pd.merge(offense21, score21, on=['offense','defense'])\n",
    "df22 = pd.merge(offense22, score22, on=['offense','defense'])\n"
   ]
  },
  {
   "cell_type": "code",
   "execution_count": 209,
   "id": "442e5892",
   "metadata": {},
   "outputs": [],
   "source": [
    "df = [df14, df15, df16, df17, df18, df19, df20, df21, df22]\n",
    "\n",
    "for df in df:\n",
    "    df['defense_score'] = df.swaplevel(0,1)['offense_score']\n",
    "    df['defense_score'] = df['defense_score'].fillna(0)"
   ]
  },
  {
   "cell_type": "markdown",
   "id": "155ff444",
   "metadata": {},
   "source": [
    "### Points per Drive, Win, Score Difference (Offense - Defense)"
   ]
  },
  {
   "cell_type": "code",
   "execution_count": 210,
   "id": "22db4c13",
   "metadata": {},
   "outputs": [],
   "source": [
    "df = [df14, df15, df16, df17, df18, df19, df20, df21, df22]\n",
    "\n",
    "for df in df:\n",
    "    df['PPD'] = df['offense_score']/df['Off. Drives']\n",
    "    df['Win'] = df['offense_score'] > df['defense_score']\n",
    "    df['Win'] = df['Win'].astype(int)\n",
    "    df['score_diff'] = df['offense_score'] - df['defense_score']\n",
    "    df['OT'] = df['score_diff'] == 0\n",
    "    df['OT'] = df['OT'].astype(int)\n"
   ]
  },
  {
   "cell_type": "code",
   "execution_count": 211,
   "id": "0cfff5f6",
   "metadata": {},
   "outputs": [],
   "source": [
    "df14 = df14.reset_index()\n",
    "df15 = df15.reset_index()\n",
    "df16 = df16.reset_index()\n",
    "df17 = df17.reset_index()\n",
    "df18 = df18.reset_index()\n",
    "df19 = df19.reset_index()\n",
    "df20 = df20.reset_index()\n",
    "df21 = df21.reset_index()\n",
    "df22 = df22.reset_index()\n"
   ]
  },
  {
   "cell_type": "code",
   "execution_count": 212,
   "id": "6f1573cb",
   "metadata": {},
   "outputs": [],
   "source": [
    "df_list = [df14,df15,df16,df17,df18,df19,df20,df21,df22]\n",
    "\n",
    "dict = {'offense_score' : 'home_score','defense_score' : 'away_score'}\n",
    "\n",
    "for df in df_list:\n",
    "    df.rename(dict,axis = 'columns',inplace = True)\n"
   ]
  },
  {
   "cell_type": "code",
   "execution_count": 222,
   "id": "ff7a7da2",
   "metadata": {},
   "outputs": [],
   "source": [
    "df14.drop(df14.index[114],inplace = True)\n",
    "df14.drop(df14.index[1199],inplace = True)"
   ]
  },
  {
   "cell_type": "code",
   "execution_count": 233,
   "id": "852dbbee",
   "metadata": {},
   "outputs": [],
   "source": [
    "df_list = [df14,df15,df16,df17,df18,df19,df20,df21,df22]\n",
    "\n",
    "def change_values(df):\n",
    "    df.loc[df['home'] == '['+\"'\"+df['offense']+\"'\"+']', 'home'] = 1\n",
    "    df.loc[df['away'] == '['+\"'\"+df['defense']+\"'\"+']', 'away'] = -1\n",
    "    return df\n",
    "\n",
    "dict = {'home': 'LocOff', 'away': 'LocDef','home_score': 'offense_score', 'away_score': 'defense_score'}\n",
    "\n",
    "for df in df_list:\n",
    "    change_values(df)\n",
    "    df.rename(dict,axis = 'columns',inplace = True)\n",
    "    df['LocOff'] = pd.to_numeric(df['LocOff'], errors='coerce').fillna(-1).astype(int)\n",
    "    df['LocDef'] = pd.to_numeric(df['LocDef'], errors='coerce').fillna(1).astype(int)\n",
    "    \n",
    "    \n",
    "    \n"
   ]
  },
  {
   "cell_type": "code",
   "execution_count": 234,
   "id": "d1881bb1",
   "metadata": {},
   "outputs": [],
   "source": [
    "df14 = df14.reset_index(drop = True)\n",
    "df15 = df15.reset_index(drop = True)\n",
    "df16 = df16.reset_index(drop = True)\n",
    "df17 = df17.reset_index(drop = True)\n",
    "df18 = df18.reset_index(drop = True)\n",
    "df19 = df19.reset_index(drop = True)\n",
    "df20 = df20.reset_index(drop = True)\n",
    "df21 = df21.reset_index(drop = True)\n",
    "df22 = df22.reset_index(drop = True)\n"
   ]
  },
  {
   "cell_type": "code",
   "execution_count": 235,
   "id": "9ccbcd93",
   "metadata": {},
   "outputs": [],
   "source": [
    "df14.to_csv('games14.csv')\n",
    "df15.to_csv('games15.csv')\n",
    "df16.to_csv('games16.csv')\n",
    "df17.to_csv('games17.csv')\n",
    "df18.to_csv('games18.csv')\n",
    "df19.to_csv('games19.csv')\n",
    "df20.to_csv('games20.csv')\n",
    "df21.to_csv('games21.csv')\n",
    "df22.to_csv('games22.csv')"
   ]
  }
 ],
 "metadata": {
  "kernelspec": {
   "display_name": "Python 3 (ipykernel)",
   "language": "python",
   "name": "python3"
  },
  "language_info": {
   "codemirror_mode": {
    "name": "ipython",
    "version": 3
   },
   "file_extension": ".py",
   "mimetype": "text/x-python",
   "name": "python",
   "nbconvert_exporter": "python",
   "pygments_lexer": "ipython3",
   "version": "3.9.12"
  }
 },
 "nbformat": 4,
 "nbformat_minor": 5
}
