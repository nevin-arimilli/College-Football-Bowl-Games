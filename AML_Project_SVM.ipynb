{
 "cells": [
  {
   "cell_type": "code",
   "execution_count": 1,
   "id": "5ed4ef9f",
   "metadata": {},
   "outputs": [],
   "source": [
    "import pandas as pd\n",
    "from matplotlib import pyplot as plt\n",
    "import seaborn as sns\n",
    "import matplotlib.ticker as plticker\n",
    "import numpy as np\n",
    "import sklearn.model_selection as ms\n",
    "\n",
    "from sklearn.model_selection import train_test_split\n",
    "\n",
    "from sklearn.model_selection import cross_val_score\n",
    "from sklearn.linear_model import LogisticRegression\n",
    "from sklearn.pipeline import Pipeline\n",
    "from sklearn.neural_network import MLPRegressor\n",
    "from sklearn.preprocessing import OneHotEncoder, StandardScaler\n",
    "from sklearn.neural_network import MLPClassifier\n",
    "from sklearn.model_selection import GridSearchCV\n",
    "\n",
    "from sklearn.metrics import classification_report, confusion_matrix, accuracy_score\n",
    "import itertools\n",
    "from sklearn import svm\n",
    "\n",
    "plt.style.use('seaborn-talk')\n",
    "plt.style.use('ggplot')"
   ]
  },
  {
   "cell_type": "markdown",
   "id": "e5d697c1",
   "metadata": {},
   "source": [
    "# Start Here"
   ]
  },
  {
   "cell_type": "markdown",
   "id": "3fafc936",
   "metadata": {},
   "source": [
    "After creating the .csv files in the format needed, the bowl prediction code begins here."
   ]
  },
  {
   "cell_type": "code",
   "execution_count": 2,
   "id": "9b28ab66",
   "metadata": {},
   "outputs": [],
   "source": [
    "games14 = pd.read_csv('games/games14.csv')\n",
    "games15 = pd.read_csv('games/games15.csv')\n",
    "games16 = pd.read_csv('games/games16.csv')\n",
    "games17 = pd.read_csv('games/games17.csv')\n",
    "games18 = pd.read_csv('games/games18.csv')\n",
    "games19 = pd.read_csv('games/games19.csv')\n",
    "games20 = pd.read_csv('games/games20.csv')\n",
    "games21 = pd.read_csv('games/games21.csv')\n",
    "games22 = pd.read_csv('games/games22.csv')"
   ]
  },
  {
   "cell_type": "code",
   "execution_count": 3,
   "id": "f9a16f16",
   "metadata": {},
   "outputs": [],
   "source": [
    "bowls14 = pd.read_csv('Bowl_Games/bowls_14.csv')\n",
    "bowls15 = pd.read_csv('Bowl_Games/bowls_15.csv')\n",
    "bowls16 = pd.read_csv('Bowl_Games/bowls_16.csv')\n",
    "bowls17 = pd.read_csv('Bowl_Games/bowls_17.csv')\n",
    "bowls18 = pd.read_csv('Bowl_Games/bowls_18.csv')\n",
    "bowls19 = pd.read_csv('Bowl_Games/bowls_19.csv')\n",
    "bowls20 = pd.read_csv('Bowl_Games/bowls_20.csv')\n",
    "bowls21 = pd.read_csv('Bowl_Games/bowls_21.csv')\n"
   ]
  },
  {
   "cell_type": "code",
   "execution_count": 4,
   "id": "5374fabe",
   "metadata": {},
   "outputs": [],
   "source": [
    "games14['Year'] = 2014\n",
    "games15['Year'] = 2015\n",
    "games16['Year'] = 2016\n",
    "games17['Year'] = 2017\n",
    "games18['Year'] = 2018\n",
    "games19['Year'] = 2019\n",
    "games20['Year'] = 2020\n",
    "games21['Year'] = 2021\n",
    "games22['Year'] = 2022\n",
    "\n",
    "bowls14['Year'] = 2014\n",
    "bowls15['Year'] = 2015\n",
    "bowls16['Year'] = 2016\n",
    "bowls17['Year'] = 2017\n",
    "bowls18['Year'] = 2018\n",
    "bowls19['Year'] = 2019\n",
    "bowls20['Year'] = 2020\n",
    "bowls21['Year'] = 2021\n",
    "\n"
   ]
  },
  {
   "cell_type": "markdown",
   "id": "84c4dec8",
   "metadata": {},
   "source": [
    "# Games Into One Row"
   ]
  },
  {
   "cell_type": "code",
   "execution_count": 5,
   "id": "02077f7f",
   "metadata": {},
   "outputs": [],
   "source": [
    "games_list = [games14,games15,games16,games17,games18,games19,games20,games21,games22]\n",
    "dict = {'H_offense':'home_team',\n",
    "        'H_defense':'away_team',\n",
    "        'H_game_id': 'game_id',\n",
    "        'H_Off. Conf': 'home_conf',\n",
    "        'H_Def. Conf': 'away_conf',\n",
    "        'H_Win':'home_win',\n",
    "        'H_offense_score':'H_score',\n",
    "        'H_defense_score': 'A_score',\n",
    "        'H_score_diff':'H_score_diff',\n",
    "        'H_Def SoS':'H_SoS',\n",
    "        'A_Def SoS':'A_SoS'  \n",
    "       }\n",
    "comb_games = []\n",
    "for df in games_list:\n",
    "    temp1 = df[df['LocOff'] == 1].add_prefix('H_')\n",
    "    temp2 = df[df['LocOff'] == -1].add_prefix('A_')\n",
    "    temp3 = temp1.join(temp2.set_index('A_game_id'), on='H_game_id', how='left')\n",
    "    \n",
    "    temp3 = temp3.drop(['H_Unnamed: 0','H_LocOff','H_LocDef','H_Year','A_Unnamed: 0','A_offense', 'A_defense', 'A_LocOff', 'A_LocDef', 'A_Off. Conf', 'A_Def. Conf','A_offense_score', 'A_defense_score','A_Win', 'A_score_diff'], axis=1)\n",
    "    temp3.rename(columns=dict,inplace=True)\n",
    "    comb_games.append(temp3)\n",
    "\n",
    "for i, df in enumerate(comb_games):\n",
    "    globals()[f\"games{i+14}\"] = df"
   ]
  },
  {
   "cell_type": "code",
   "execution_count": 6,
   "id": "80a75263",
   "metadata": {},
   "outputs": [
    {
     "data": {
      "text/plain": [
       "Index(['home_team', 'away_team', 'game_id', 'home_conf', 'away_conf',\n",
       "       'H_Plays', 'H_Rush Atts', 'H_Rush Yards', 'H_Pass Atts', 'H_Pass Yards',\n",
       "       'H_Off. Drives', 'H_Turnover', 'H_Field Goal Made',\n",
       "       'H_Field Goal Attempt', 'H_score', 'A_score', 'H_PPD', 'home_win',\n",
       "       'H_score_diff', 'H_OT', 'H_SoS', 'A_Plays', 'A_Rush Atts',\n",
       "       'A_Rush Yards', 'A_Pass Atts', 'A_Pass Yards', 'A_Off. Drives',\n",
       "       'A_Turnover', 'A_Field Goal Made', 'A_Field Goal Attempt', 'A_PPD',\n",
       "       'A_OT', 'A_SoS', 'A_Year'],\n",
       "      dtype='object')"
      ]
     },
     "execution_count": 6,
     "metadata": {},
     "output_type": "execute_result"
    }
   ],
   "source": [
    "games14.columns"
   ]
  },
  {
   "cell_type": "markdown",
   "id": "c56ab9cd",
   "metadata": {},
   "source": [
    "# Season Means (For Bowl Prediction)"
   ]
  },
  {
   "cell_type": "code",
   "execution_count": 7,
   "id": "c5d3b207",
   "metadata": {},
   "outputs": [],
   "source": [
    "def home_calcs(x):\n",
    "    names = {'Plays': x['H_Plays'].sum(),\n",
    "             'Rush Atts': x['H_Rush Atts'].sum(),\n",
    "             'Rush Yards': x['H_Rush Yards'].sum(),\n",
    "             'Pass Atts': x['H_Pass Atts'].sum(),\n",
    "             'Pass Yards': x['H_Pass Yards'].sum(),\n",
    "             'Off. Drives': x['H_Off. Drives'].sum(),\n",
    "             'Turnover': x['H_Turnover'].sum(),\n",
    "             'Field Goal Made': x['H_Field Goal Made'].sum(),\n",
    "             'Field Goal Attempt': x['H_Field Goal Attempt'].sum(),\n",
    "             'PPD': x['H_PPD'].sum(),\n",
    "             'SoS': x['H_SoS'].sum(),\n",
    "             'OT': x['H_OT'].sum()\n",
    "            }\n",
    "    return pd.Series(names)\n",
    "\n",
    "def away_calcs(x):\n",
    "    names = {'Plays': x['A_Plays'].sum(),\n",
    "             'Rush Atts': x['A_Rush Atts'].sum(),\n",
    "             'Rush Yards': x['A_Rush Yards'].sum(), \n",
    "             'Pass Atts': x['A_Pass Atts'].sum(), \n",
    "             'Pass Yards': x['A_Pass Yards'].sum(), \n",
    "             'Off. Drives': x['A_Off. Drives'].sum(),\n",
    "             'Turnover': x['A_Turnover'].sum(),\n",
    "             'Field Goal Made': x['A_Field Goal Made'].sum(),\n",
    "             'Field Goal Attempt': x['A_Field Goal Attempt'].sum(),\n",
    "             'PPD': x['A_PPD'].sum(),\n",
    "             'SoS': x['A_SoS'].sum(),\n",
    "             'OT': x['A_OT'].sum()\n",
    "            }\n",
    "    return pd.Series(names)"
   ]
  },
  {
   "cell_type": "code",
   "execution_count": 8,
   "id": "052850e6",
   "metadata": {},
   "outputs": [],
   "source": [
    "\n",
    "home14 =  games14.groupby(['home_team'], sort = False).apply(home_calcs)\n",
    "home15 =  games15.groupby('home_team', sort = False).apply(home_calcs)\n",
    "home16 =  games16.groupby('home_team', sort = False).apply(home_calcs)\n",
    "home17 =  games17.groupby('home_team', sort = False).apply(home_calcs)\n",
    "home18 =  games18.groupby('home_team', sort = False).apply(home_calcs)\n",
    "home19 =  games19.groupby('home_team', sort = False).apply(home_calcs)\n",
    "home20 =  games20.groupby('home_team', sort = False).apply(home_calcs)\n",
    "home21 =  games21.groupby('home_team', sort = False).apply(home_calcs)\n",
    "home22 =  games22.groupby('home_team', sort = False).apply(home_calcs)"
   ]
  },
  {
   "cell_type": "code",
   "execution_count": 9,
   "id": "fb5d6ae5",
   "metadata": {},
   "outputs": [],
   "source": [
    "away14 =  games14.groupby(['away_team'], sort = False).apply(away_calcs)\n",
    "away15 =  games15.groupby('away_team', sort = False).apply(away_calcs)\n",
    "away16 =  games16.groupby('away_team', sort = False).apply(away_calcs)\n",
    "away17 =  games17.groupby('away_team', sort = False).apply(away_calcs)\n",
    "away18 =  games18.groupby('away_team', sort = False).apply(away_calcs)\n",
    "away19 =  games19.groupby('away_team', sort = False).apply(away_calcs)\n",
    "away20 =  games20.groupby('away_team', sort = False).apply(away_calcs)\n",
    "away21 =  games21.groupby('away_team', sort = False).apply(away_calcs)\n",
    "away22 =  games22.groupby('away_team', sort = False).apply(away_calcs)"
   ]
  },
  {
   "cell_type": "code",
   "execution_count": 10,
   "id": "ae4c593f",
   "metadata": {},
   "outputs": [],
   "source": [
    "\n",
    "season14 = home14.add(away14, fill_value=0)/12\n",
    "season15 = home15.add(away15, fill_value=0)/12\n",
    "season16 = home16.add(away16, fill_value=0)/12\n",
    "season17 = home17.add(away17, fill_value=0)/12\n",
    "season18 = home18.add(away18, fill_value=0)/12\n",
    "season19 = home19.add(away19, fill_value=0)/12\n",
    "season20 = home20.add(away20, fill_value=0)/12\n",
    "season21 = home21.add(away21, fill_value=0)/12\n",
    "season22 = home22.add(away22, fill_value=0)/12\n"
   ]
  },
  {
   "cell_type": "code",
   "execution_count": 11,
   "id": "e6573226",
   "metadata": {},
   "outputs": [],
   "source": [
    "bowls22 = pd.DataFrame({'home_team':['TCU','Georgia','Kansas State','Clemson','Texas','Oklahoma','Georgia'],'away_team':['Michigan','Ohio State','Alabama','Tennessee','Washington','Florida State','Michigan'],'home_conference':['Big 12','SEC','Big 12','ACC','Big 12','Big 12','SEC'],'away_conference':['Big Ten','Big Ten','SEC','SEC','Pac-12','ACC','Big Ten']})"
   ]
  },
  {
   "cell_type": "code",
   "execution_count": 12,
   "id": "10f6b76d",
   "metadata": {},
   "outputs": [],
   "source": [
    "bowls22['Year'] = 2022"
   ]
  },
  {
   "cell_type": "code",
   "execution_count": 13,
   "id": "f0a75be7",
   "metadata": {},
   "outputs": [],
   "source": [
    "bowls14 = bowls14.merge(season14, left_on='home_team', right_index=True, how='left')\n",
    "bowls15 = bowls15.merge(season15, left_on='home_team', right_index=True, how='left')\n",
    "bowls16 = bowls16.merge(season16, left_on='home_team', right_index=True, how='left')\n",
    "bowls17 = bowls17.merge(season17, left_on='home_team', right_index=True, how='left')\n",
    "bowls18 = bowls18.merge(season18, left_on='home_team', right_index=True, how='left')\n",
    "bowls19 = bowls19.merge(season19, left_on='home_team', right_index=True, how='left')\n",
    "bowls20 = bowls20.merge(season20, left_on='home_team', right_index=True, how='left')\n",
    "bowls21 = bowls21.merge(season21, left_on='home_team', right_index=True, how='left')\n",
    "bowls22 = bowls22.merge(season22, left_on='home_team', right_index=True, how='left')\n"
   ]
  },
  {
   "cell_type": "code",
   "execution_count": 14,
   "id": "d4fc8990",
   "metadata": {},
   "outputs": [],
   "source": [
    "bowls14 = bowls14.merge(season14, left_on='away_team', right_index=True, how='left')\n",
    "bowls15 = bowls15.merge(season15, left_on='away_team', right_index=True, how='left')\n",
    "bowls16 = bowls16.merge(season16, left_on='away_team', right_index=True, how='left')\n",
    "bowls17 = bowls17.merge(season17, left_on='away_team', right_index=True, how='left')\n",
    "bowls18 = bowls18.merge(season18, left_on='away_team', right_index=True, how='left')\n",
    "bowls19 = bowls19.merge(season19, left_on='away_team', right_index=True, how='left')\n",
    "bowls20 = bowls20.merge(season20, left_on='away_team', right_index=True, how='left')\n",
    "bowls21 = bowls21.merge(season21, left_on='away_team', right_index=True, how='left')\n",
    "bowls22 = bowls22.merge(season22, left_on='away_team', right_index=True, how='left')\n",
    "\n"
   ]
  },
  {
   "cell_type": "code",
   "execution_count": 15,
   "id": "328b9381",
   "metadata": {},
   "outputs": [],
   "source": [
    "dict = {'home_conference':'home_conf','away_conference':'away_conf','home_points':'H_score','away_points':'A_score','Plays_x':'H_Plays', 'Rush Atts_x':'H_Rush Atts', 'Rush Yards_x':'H_Rush Yards', 'Pass Atts_x':'H_Pass Atts', 'Pass Yards_x':'H_Pass Yards',\n",
    "       'Off. Drives_x':'H_Off. Drives', 'Turnover_x':'H_Turnover', 'Field Goal Made_x':'H_Field Goal Made',\n",
    "       'Field Goal Attempt_x':'H_Field Goal Attempts', 'PPD_x':'H_PPD', 'SoS_x':'H_SoS','OT_x':'H_OT', 'Plays_y':'A_Plays', 'Rush Atts_y':'A_Rush Atts',\n",
    "       'Rush Yards_y':'A_Rush Yards', 'Pass Atts_y':'A_Pass Atts', 'Pass Yards_y':'A_Pass Yards', 'Off. Drives_y':'A_Off. Drives',\n",
    "       'Turnover_y':'A_Turnover', 'Field Goal Made_y':'A_Field Goal Made', 'Field Goal Attempt_y':'A_Field Goal Attempt', 'PPD_y':'A_PPD',\n",
    "       'SoS_y':'A_SoS','OT_y':'A_OT','Year':'A_Year'}\n",
    "\n",
    "bowls14.rename(columns=dict, inplace=True)\n",
    "bowls15.rename(columns=dict, inplace=True)\n",
    "bowls16.rename(columns=dict, inplace=True)\n",
    "bowls17.rename(columns=dict, inplace=True)\n",
    "bowls18.rename(columns=dict, inplace=True)\n",
    "bowls19.rename(columns=dict, inplace=True)\n",
    "bowls20.rename(columns=dict, inplace=True)\n",
    "bowls21.rename(columns=dict, inplace=True)\n",
    "bowls22.rename(columns=dict, inplace = True)\n"
   ]
  },
  {
   "cell_type": "code",
   "execution_count": 16,
   "id": "8bf24a51",
   "metadata": {},
   "outputs": [],
   "source": [
    "games_list = [games14,games15,games16,games17,games18,games19,games20,games21,games22]\n",
    "bowls_list = [bowls14,bowls15,bowls16,bowls17,bowls18,bowls19,bowls20,bowls21,bowls22]\n",
    "\n",
    "# Create a dictionary of replacement values\n",
    "games_conf_dict = {\"['SEC']\": 1,\n",
    "                   \"['Big Ten']\": 2,\n",
    "                   \"['Big 12']\": 3,\n",
    "                   \"['ACC']\":4,\n",
    "                   \"['Pac-12']\":5,\n",
    "                   \"['FBS Independents']\":6,\n",
    "                   \"['American Athletic']\":7,\n",
    "                   \"['Sun Belt']\":8,\n",
    "                   \"['Conference USA']\":9,\n",
    "                   \"['Mountain West']\":10,\n",
    "                   \"['Mid-American']\":11,\n",
    "                   \"['Ivy']\":12,\n",
    "                   \"['MVFC']\":13,\n",
    "                   \"['Big Sky']\": 14,\n",
    "                   \"['CAA']\":15,\n",
    "                   \"['SWAC']\":16,\n",
    "                   \"['Southern']\": 17,\n",
    "                   \"['Big South']\": 18,\n",
    "                   \"['Southland']\": 19,\n",
    "                   \"['OVC']\": 20,\n",
    "                   \"['Patriot']\": 21,\n",
    "                   \"['NEC']\":22,\n",
    "                   \"['Pioneer']\":23,\n",
    "                   \"['MEAC']\":24,\n",
    "                   \"['Western Athletic']\":16,\n",
    "                   \"['Lone Star']\":25,\n",
    "                   \"['AWC']\":26\n",
    "                   \n",
    "                   \n",
    "            }\n",
    "\n",
    "# Create a dictionary of replacement values\n",
    "bowls_conf_dict = {'SEC': 1,\n",
    "             'Big Ten': 2,\n",
    "             'Big 12': 3,\n",
    "             'ACC':4,\n",
    "             'Pac-12':5,\n",
    "             'FBS Independents':6,\n",
    "             'American Athletic':7,\n",
    "             'Sun Belt':8,\n",
    "             'Conference USA':9,\n",
    "             'Mountain West':10,\n",
    "             'Mid-American':11,\n",
    "             'Ivy':12\n",
    "            }\n",
    "\n",
    "# Loop through the list of dataframes\n",
    "for df in games_list:\n",
    "    # Replace the values in the specified column\n",
    "    df['home_conf'] = df['home_conf'].replace(games_conf_dict)\n",
    "    df['away_conf'] = df['away_conf'].replace(games_conf_dict)\n",
    "    df.loc[df['home_conf'].apply(lambda x: isinstance(x, str)), 'home_conf'] = 30\n",
    "    df.loc[df['away_conf'].apply(lambda x: isinstance(x, str)), 'away_conf'] = 30\n",
    "    \n",
    "    \n",
    "for df in bowls_list:\n",
    "    df['home_conf'] = df['home_conf'].replace(bowls_conf_dict)\n",
    "    df['away_conf'] = df['away_conf'].replace(bowls_conf_dict)\n",
    "    "
   ]
  },
  {
   "cell_type": "code",
   "execution_count": 17,
   "id": "f74763bd",
   "metadata": {},
   "outputs": [
    {
     "data": {
      "text/plain": [
       "Index(['home_team', 'away_team', 'game_id', 'home_conf', 'away_conf',\n",
       "       'H_Plays', 'H_Rush Atts', 'H_Rush Yards', 'H_Pass Atts', 'H_Pass Yards',\n",
       "       'H_Off. Drives', 'H_Turnover', 'H_Field Goal Made',\n",
       "       'H_Field Goal Attempt', 'H_score', 'A_score', 'H_PPD', 'home_win',\n",
       "       'H_score_diff', 'H_OT', 'H_SoS', 'A_Plays', 'A_Rush Atts',\n",
       "       'A_Rush Yards', 'A_Pass Atts', 'A_Pass Yards', 'A_Off. Drives',\n",
       "       'A_Turnover', 'A_Field Goal Made', 'A_Field Goal Attempt', 'A_PPD',\n",
       "       'A_OT', 'A_SoS', 'A_Year'],\n",
       "      dtype='object')"
      ]
     },
     "execution_count": 17,
     "metadata": {},
     "output_type": "execute_result"
    }
   ],
   "source": [
    "games14.columns"
   ]
  },
  {
   "cell_type": "markdown",
   "id": "119868ba",
   "metadata": {},
   "source": [
    "# Splitting Regular Season Train, Test Sets"
   ]
  },
  {
   "cell_type": "code",
   "execution_count": 18,
   "id": "5ab78b43",
   "metadata": {},
   "outputs": [],
   "source": [
    "y_14 = games14['home_win']\n",
    "X_14 = games14.drop(['H_score','A_score','home_win','H_score_diff','game_id'],axis=1)\n",
    "\n",
    "# Had to drop 1198 because the away team had NaN values\n",
    "X_14.index[X_14.isnull().any(axis=1)]\n",
    "X_14.drop(1198, inplace=True)\n",
    "X_14[X_14.index == 1198]\n",
    "y_14.drop(1198, inplace=True)\n",
    "\n",
    "X_14_train, X_14_test, y_14_train, y_14_test = train_test_split(X_14, y_14,test_size = 0.2)\n",
    "\n",
    "home_14_train = X_14_train.iloc[:,0]\n",
    "away_14_train = X_14_train.iloc[:,1]\n",
    "\n",
    "home_14_test = X_14_test.iloc[:,0]\n",
    "away_14_test = X_14_test.iloc[:,1]\n",
    "\n",
    "X_14_train = X_14_train.drop(['home_team','away_team'],axis = 1)\n",
    "X_14_test = X_14_test.drop(['home_team','away_team'],axis = 1)"
   ]
  },
  {
   "cell_type": "code",
   "execution_count": 19,
   "id": "bc034f28",
   "metadata": {},
   "outputs": [],
   "source": [
    "y_15 = games15['home_win']\n",
    "X_15 = games15.drop(['H_score','A_score','home_win','H_score_diff','game_id'],axis=1)\n",
    "\n",
    "X_15_train, X_15_test, y_15_train, y_15_test = train_test_split(X_15, y_15,test_size = 0.2)\n",
    "\n",
    "home_15_train = X_15_train.iloc[:,0]\n",
    "away_15_train = X_15_train.iloc[:,1]\n",
    "\n",
    "home_15_test = X_15_test.iloc[:,0]\n",
    "away_15_test = X_15_test.iloc[:,1]\n",
    "\n",
    "X_15_train = X_15_train.drop(['home_team','away_team'],axis = 1)\n",
    "X_15_test = X_15_test.drop(['home_team','away_team'],axis = 1)"
   ]
  },
  {
   "cell_type": "code",
   "execution_count": 20,
   "id": "ff5e23df",
   "metadata": {},
   "outputs": [],
   "source": [
    "y_16 = games16['home_win']\n",
    "X_16 = games16.drop(['H_score','A_score','home_win','H_score_diff','game_id'],axis=1)\n",
    "\n",
    "X_16_train, X_16_test, y_16_train, y_16_test = train_test_split(X_16, y_16,test_size = 0.2)\n",
    "\n",
    "home_16_train = X_16_train.iloc[:,0]\n",
    "away_16_train = X_16_train.iloc[:,1]\n",
    "\n",
    "home_16_test = X_16_test.iloc[:,0]\n",
    "away_16_test = X_16_test.iloc[:,1]\n",
    "\n",
    "X_16_train = X_16_train.drop(['home_team','away_team'],axis = 1)\n",
    "X_16_test = X_16_test.drop(['home_team','away_team'],axis = 1)"
   ]
  },
  {
   "cell_type": "code",
   "execution_count": 21,
   "id": "1edb6417",
   "metadata": {},
   "outputs": [],
   "source": [
    "y_17 = games17['home_win']\n",
    "X_17 = games17.drop(['H_score','A_score','home_win','H_score_diff','game_id'],axis=1)\n",
    "\n",
    "X_17_train, X_17_test, y_17_train, y_17_test = train_test_split(X_17, y_17,test_size = 0.2)\n",
    "\n",
    "home_17_train = X_17_train.iloc[:,0]\n",
    "away_17_train = X_17_train.iloc[:,1]\n",
    "\n",
    "home_17_test = X_17_test.iloc[:,0]\n",
    "away_17_test = X_17_test.iloc[:,1]\n",
    "\n",
    "X_17_train = X_17_train.drop(['home_team','away_team'],axis = 1)\n",
    "X_17_test = X_17_test.drop(['home_team','away_team'],axis = 1)"
   ]
  },
  {
   "cell_type": "code",
   "execution_count": 22,
   "id": "a74c642a",
   "metadata": {},
   "outputs": [],
   "source": [
    "y_18 = games18['home_win']\n",
    "X_18 = games18.drop(['H_score','A_score','home_win','H_score_diff','game_id'],axis=1)\n",
    "\n",
    "X_18_train, X_18_test, y_18_train, y_18_test = train_test_split(X_18, y_18,test_size = 0.2)\n",
    "\n",
    "home_18_train = X_18_train.iloc[:,0]\n",
    "away_18_train = X_18_train.iloc[:,1]\n",
    "\n",
    "home_18_test = X_18_test.iloc[:,0]\n",
    "away_18_test = X_18_test.iloc[:,1]\n",
    "\n",
    "X_18_train = X_18_train.drop(['home_team','away_team'],axis = 1)\n",
    "X_18_test = X_18_test.drop(['home_team','away_team'],axis = 1)"
   ]
  },
  {
   "cell_type": "code",
   "execution_count": 23,
   "id": "c5da130b",
   "metadata": {},
   "outputs": [],
   "source": [
    "y_19 = games19['home_win']\n",
    "X_19 = games19.drop(['H_score','A_score','home_win','H_score_diff','game_id'],axis=1)\n",
    "\n",
    "X_19_train, X_19_test, y_19_train, y_19_test = train_test_split(X_19, y_19,test_size = 0.2)\n",
    "\n",
    "home_19_train = X_19_train.iloc[:,0]\n",
    "away_19_train = X_19_train.iloc[:,1]\n",
    "\n",
    "home_19_test = X_19_test.iloc[:,0]\n",
    "away_19_test = X_19_test.iloc[:,1]\n",
    "\n",
    "X_19_train = X_19_train.drop(['home_team','away_team'],axis = 1)\n",
    "X_19_test = X_19_test.drop(['home_team','away_team'],axis = 1)"
   ]
  },
  {
   "cell_type": "code",
   "execution_count": 24,
   "id": "2b07c5be",
   "metadata": {},
   "outputs": [],
   "source": [
    "y_20 = games20['home_win']\n",
    "X_20 = games20.drop(['H_score','A_score','home_win','H_score_diff','game_id'],axis=1)\n",
    "\n",
    "X_20_train, X_20_test, y_20_train, y_20_test = train_test_split(X_20, y_20,test_size = 0.2)\n",
    "\n",
    "home_20_train = X_20_train.iloc[:,0]\n",
    "away_20_train = X_20_train.iloc[:,1]\n",
    "\n",
    "home_20_test = X_20_test.iloc[:,0]\n",
    "away_20_test = X_20_test.iloc[:,1]\n",
    "\n",
    "X_20_train = X_20_train.drop(['home_team','away_team'],axis = 1)\n",
    "X_20_test = X_20_test.drop(['home_team','away_team'],axis = 1)"
   ]
  },
  {
   "cell_type": "code",
   "execution_count": 25,
   "id": "4635a208",
   "metadata": {},
   "outputs": [],
   "source": [
    "y_21 = games21['home_win']\n",
    "X_21 = games21.drop(['H_score','A_score','home_win','H_score_diff','game_id'],axis=1)\n",
    "\n",
    "X_21_train, X_21_test, y_21_train, y_21_test = train_test_split(X_21, y_21,test_size = 0.2)\n",
    "\n",
    "home_21_train = X_21_train.iloc[:,0]\n",
    "away_21_train = X_21_train.iloc[:,1]\n",
    "\n",
    "home_21_test = X_21_test.iloc[:,0]\n",
    "away_21_test = X_21_test.iloc[:,1]\n",
    "\n",
    "X_21_train = X_21_train.drop(['home_team','away_team'],axis = 1)\n",
    "X_21_test = X_21_test.drop(['home_team','away_team'],axis = 1)"
   ]
  },
  {
   "cell_type": "code",
   "execution_count": 26,
   "id": "4199bc1e",
   "metadata": {},
   "outputs": [],
   "source": [
    "y_22 = games22['home_win']\n",
    "X_22 = games22.drop(['H_score','A_score','home_win','H_score_diff','game_id'],axis=1)\n",
    "\n",
    "X_22_train, X_22_test, y_22_train, y_22_test = train_test_split(X_22, y_22,test_size = 0.2)\n",
    "\n",
    "home_22_train = X_22_train.iloc[:,0]\n",
    "away_22_train = X_22_train.iloc[:,1]\n",
    "\n",
    "home_22_test = X_22_test.iloc[:,0]\n",
    "away_22_test = X_22_test.iloc[:,1]\n",
    "\n",
    "X_22_train = X_22_train.drop(['home_team','away_team'],axis = 1)\n",
    "X_22_test = X_22_test.drop(['home_team','away_team'],axis = 1)"
   ]
  },
  {
   "cell_type": "markdown",
   "id": "8760bfa8",
   "metadata": {},
   "source": [
    "# Bowl Game Test Set"
   ]
  },
  {
   "cell_type": "code",
   "execution_count": 27,
   "id": "5e4c4f53",
   "metadata": {},
   "outputs": [],
   "source": [
    "scaler = StandardScaler()"
   ]
  },
  {
   "cell_type": "code",
   "execution_count": 28,
   "id": "775eb830",
   "metadata": {},
   "outputs": [],
   "source": [
    "X_bowl_14 = bowls14.drop(['Unnamed: 0','H_score','A_score','home_win'],axis=1)\n",
    "\n",
    "home_bowl_14 = X_bowl_14['home_team']\n",
    "away_bowl_14 = X_bowl_14['away_team']\n",
    "year_bowl_14 = X_bowl_14['A_Year']"
   ]
  },
  {
   "cell_type": "code",
   "execution_count": 29,
   "id": "7f68a0bc",
   "metadata": {},
   "outputs": [],
   "source": [
    "X_bowl_14 = X_bowl_14.drop(['home_team','away_team'],axis = 1)\n",
    "scaler.fit(X_bowl_14)\n",
    "X_bowl_14 = scaler.transform(X_bowl_14)\n",
    "\n",
    "y_bowl_14 = bowls14['home_win']"
   ]
  },
  {
   "cell_type": "code",
   "execution_count": 30,
   "id": "9c9cefcf",
   "metadata": {},
   "outputs": [],
   "source": [
    "X_bowl_15 = bowls15.drop(['Unnamed: 0','H_score','A_score','home_win'],axis=1)\n",
    "\n",
    "home_bowl_15 = X_bowl_15['home_team']\n",
    "away_bowl_15 = X_bowl_15['away_team']\n",
    "year_bowl_15 = X_bowl_15['A_Year']"
   ]
  },
  {
   "cell_type": "code",
   "execution_count": 31,
   "id": "35d3e417",
   "metadata": {},
   "outputs": [],
   "source": [
    "X_bowl_15 = X_bowl_15.drop(['home_team','away_team'],axis = 1)\n",
    "scaler.fit(X_bowl_15)\n",
    "X_bowl_15 = scaler.transform(X_bowl_15)\n",
    "\n",
    "y_bowl_15 = bowls15['home_win']"
   ]
  },
  {
   "cell_type": "code",
   "execution_count": 32,
   "id": "082e1689",
   "metadata": {},
   "outputs": [],
   "source": [
    "X_bowl_16 = bowls16.drop(['Unnamed: 0','H_score','A_score','home_win'],axis=1)\n",
    "\n",
    "home_bowl_16 = X_bowl_16['home_team']\n",
    "away_bowl_16 = X_bowl_16['away_team']\n",
    "year_bowl_16 = X_bowl_16['A_Year']"
   ]
  },
  {
   "cell_type": "code",
   "execution_count": 33,
   "id": "2306e48c",
   "metadata": {},
   "outputs": [],
   "source": [
    "X_bowl_16 = X_bowl_16.drop(['home_team','away_team'],axis = 1)\n",
    "scaler.fit(X_bowl_16)\n",
    "X_bowl_16 = scaler.transform(X_bowl_16)\n",
    "\n",
    "y_bowl_16 = bowls16['home_win']"
   ]
  },
  {
   "cell_type": "code",
   "execution_count": 34,
   "id": "70f0bcfc",
   "metadata": {},
   "outputs": [],
   "source": [
    "X_bowl_17 = bowls17.drop(['Unnamed: 0','H_score','A_score','home_win'],axis=1)\n",
    "\n",
    "home_bowl_17 = X_bowl_17['home_team']\n",
    "away_bowl_17 = X_bowl_17['away_team']\n",
    "year_bowl_17 = X_bowl_17['A_Year']"
   ]
  },
  {
   "cell_type": "code",
   "execution_count": 35,
   "id": "59643241",
   "metadata": {},
   "outputs": [],
   "source": [
    "X_bowl_17 = X_bowl_17.drop(['home_team','away_team'],axis = 1)\n",
    "scaler.fit(X_bowl_17)\n",
    "X_bowl_17 = scaler.transform(X_bowl_17)\n",
    "\n",
    "y_bowl_17 = bowls17['home_win']"
   ]
  },
  {
   "cell_type": "code",
   "execution_count": 36,
   "id": "b385b109",
   "metadata": {},
   "outputs": [],
   "source": [
    "X_bowl_18 = bowls18.drop(['Unnamed: 0','H_score','A_score','home_win'],axis=1)\n",
    "\n",
    "home_bowl_18 = X_bowl_18['home_team']\n",
    "away_bowl_18 = X_bowl_18['away_team']\n",
    "year_bowl_18 = X_bowl_18['A_Year']"
   ]
  },
  {
   "cell_type": "code",
   "execution_count": 37,
   "id": "2d4541fd",
   "metadata": {},
   "outputs": [],
   "source": [
    "X_bowl_18 = X_bowl_18.drop(['home_team','away_team'],axis = 1)\n",
    "scaler.fit(X_bowl_18)\n",
    "X_bowl_18 = scaler.transform(X_bowl_18)\n",
    "\n",
    "y_bowl_18 = bowls18['home_win']"
   ]
  },
  {
   "cell_type": "code",
   "execution_count": 38,
   "id": "ad83fc7c",
   "metadata": {},
   "outputs": [],
   "source": [
    "X_bowl_19 = bowls19.drop(['Unnamed: 0','H_score','A_score','home_win'],axis=1)\n",
    "\n",
    "home_bowl_19 = X_bowl_19['home_team']\n",
    "away_bowl_19 = X_bowl_19['away_team']\n",
    "year_bowl_19 = X_bowl_19['A_Year']"
   ]
  },
  {
   "cell_type": "code",
   "execution_count": 39,
   "id": "229303de",
   "metadata": {},
   "outputs": [],
   "source": [
    "X_bowl_19 = X_bowl_19.drop(['home_team','away_team'],axis = 1)\n",
    "scaler.fit(X_bowl_19)\n",
    "X_bowl_19 = scaler.transform(X_bowl_19)\n",
    "\n",
    "y_bowl_19 = bowls19['home_win']"
   ]
  },
  {
   "cell_type": "code",
   "execution_count": 40,
   "id": "62b5df06",
   "metadata": {},
   "outputs": [],
   "source": [
    "X_bowl_20 = bowls20.drop(['Unnamed: 0','H_score','A_score','home_win'],axis=1)\n",
    "\n",
    "home_bowl_20 = X_bowl_20['home_team']\n",
    "away_bowl_20 = X_bowl_20['away_team']\n",
    "year_bowl_20 = X_bowl_20['A_Year']"
   ]
  },
  {
   "cell_type": "code",
   "execution_count": 41,
   "id": "848aa88a",
   "metadata": {},
   "outputs": [],
   "source": [
    "X_bowl_20 = X_bowl_20.drop(['home_team','away_team'],axis = 1)\n",
    "scaler.fit(X_bowl_20)\n",
    "X_bowl_20 = scaler.transform(X_bowl_20)\n",
    "\n",
    "y_bowl_20 = bowls20['home_win']"
   ]
  },
  {
   "cell_type": "code",
   "execution_count": 42,
   "id": "feaf0359",
   "metadata": {},
   "outputs": [],
   "source": [
    "X_bowl_21 = bowls21.drop(['Unnamed: 0','H_score','A_score','home_win'],axis=1)\n",
    "\n",
    "home_bowl_21 = X_bowl_21['home_team']\n",
    "away_bowl_21 = X_bowl_21['away_team']\n",
    "year_bowl_21 = X_bowl_21['A_Year']"
   ]
  },
  {
   "cell_type": "code",
   "execution_count": 43,
   "id": "0e520f64",
   "metadata": {},
   "outputs": [],
   "source": [
    "X_bowl_21 = X_bowl_21.drop(['home_team','away_team'],axis = 1)\n",
    "scaler.fit(X_bowl_21)\n",
    "X_bowl_21 = scaler.transform(X_bowl_21)\n",
    "\n",
    "y_bowl_21 = bowls21['home_win']"
   ]
  },
  {
   "cell_type": "code",
   "execution_count": 44,
   "id": "dbee1017",
   "metadata": {},
   "outputs": [],
   "source": [
    "X_bowl_22 = bowls22\n",
    "\n",
    "home_bowl_22 = X_bowl_22['home_team']\n",
    "away_bowl_22 = X_bowl_22['away_team']\n",
    "year_bowl_22 = X_bowl_22['A_Year']"
   ]
  },
  {
   "cell_type": "code",
   "execution_count": 45,
   "id": "700c85c9",
   "metadata": {},
   "outputs": [],
   "source": [
    "X_bowl_22 = X_bowl_22.drop(['home_team','away_team'],axis = 1)\n",
    "scaler.fit(X_bowl_22)\n",
    "X_bowl_22 = scaler.transform(X_bowl_22)\n"
   ]
  },
  {
   "cell_type": "markdown",
   "id": "1aaf5f39",
   "metadata": {},
   "source": [
    "# Confusion Matrix Function"
   ]
  },
  {
   "cell_type": "code",
   "execution_count": 46,
   "id": "29db116c",
   "metadata": {},
   "outputs": [],
   "source": [
    "def plot_confusion_matrix(cm, classes=('0','1'),\n",
    "                          normalize=False,\n",
    "                          title='Confusion matrix',\n",
    "                          cmap=plt.cm.Blues):\n",
    "    \"\"\"\n",
    "    This function prints and plots the confusion matrix.\n",
    "    Normalization can be applied by setting `normalize=True`.\n",
    "    \"\"\"\n",
    "\n",
    "    if normalize:\n",
    "        cm = cm.astype('float') / cm.sum(axis=1)[:, np.newaxis]\n",
    "        print(\"Normalized confusion matrix\")\n",
    "    else:\n",
    "        print('Confusion matrix, without normalization')\n",
    "\n",
    "    print(cm)\n",
    "\n",
    "    plt.imshow(cm, interpolation='nearest', cmap=cmap)\n",
    "    plt.title(title)\n",
    "    plt.colorbar()\n",
    "    tick_marks = np.arange(len(classes))\n",
    "    plt.xticks(tick_marks, classes, rotation=45)\n",
    "    plt.yticks(tick_marks, classes)\n",
    "\n",
    "    fmt = '.2f' if normalize else 'd'\n",
    "    thresh = cm.max() / 2.\n",
    "    for i, j in itertools.product(range(cm.shape[0]), range(cm.shape[1])):\n",
    "        plt.text(j, i, format(cm[i, j], fmt),\n",
    "                 horizontalalignment=\"center\",\n",
    "                 color=\"white\" if cm[i, j] > thresh else \"black\")\n",
    "\n",
    "    plt.ylabel('True label')\n",
    "    plt.xlabel('Predicted label')\n",
    "    plt.tight_layout()"
   ]
  },
  {
   "cell_type": "markdown",
   "id": "3e44f3ce",
   "metadata": {},
   "source": [
    "# SVM Model Fits"
   ]
  },
  {
   "cell_type": "code",
   "execution_count": 47,
   "id": "39ff1547",
   "metadata": {},
   "outputs": [],
   "source": [
    "svm = svm.SVC()\n",
    "param_grid = {'C': [0.1, 1, 10, 100, 1000], \n",
    "              'gamma': [1, 0.1, 0.01, 0.001, 0.0001],\n",
    "              'kernel': ['rbf']} "
   ]
  },
  {
   "cell_type": "code",
   "execution_count": 48,
   "id": "8751f9c7",
   "metadata": {},
   "outputs": [
    {
     "name": "stdout",
     "output_type": "stream",
     "text": [
      "Fitting 5 folds for each of 25 candidates, totalling 125 fits\n",
      "[CV 1/5] END ........C=0.1, gamma=1, kernel=rbf;, score=0.614 total time=   0.0s\n",
      "[CV 2/5] END ........C=0.1, gamma=1, kernel=rbf;, score=0.619 total time=   0.0s\n",
      "[CV 3/5] END ........C=0.1, gamma=1, kernel=rbf;, score=0.619 total time=   0.0s\n",
      "[CV 4/5] END ........C=0.1, gamma=1, kernel=rbf;, score=0.619 total time=   0.0s\n",
      "[CV 5/5] END ........C=0.1, gamma=1, kernel=rbf;, score=0.611 total time=   0.0s\n",
      "[CV 1/5] END ......C=0.1, gamma=0.1, kernel=rbf;, score=0.614 total time=   0.0s\n",
      "[CV 2/5] END ......C=0.1, gamma=0.1, kernel=rbf;, score=0.619 total time=   0.0s\n",
      "[CV 3/5] END ......C=0.1, gamma=0.1, kernel=rbf;, score=0.619 total time=   0.0s\n",
      "[CV 4/5] END ......C=0.1, gamma=0.1, kernel=rbf;, score=0.619 total time=   0.0s\n",
      "[CV 5/5] END ......C=0.1, gamma=0.1, kernel=rbf;, score=0.611 total time=   0.0s\n",
      "[CV 1/5] END .....C=0.1, gamma=0.01, kernel=rbf;, score=0.614 total time=   0.0s\n",
      "[CV 2/5] END .....C=0.1, gamma=0.01, kernel=rbf;, score=0.619 total time=   0.0s\n",
      "[CV 3/5] END .....C=0.1, gamma=0.01, kernel=rbf;, score=0.619 total time=   0.0s\n",
      "[CV 4/5] END .....C=0.1, gamma=0.01, kernel=rbf;, score=0.619 total time=   0.0s\n",
      "[CV 5/5] END .....C=0.1, gamma=0.01, kernel=rbf;, score=0.611 total time=   0.0s\n",
      "[CV 1/5] END ....C=0.1, gamma=0.001, kernel=rbf;, score=0.614 total time=   0.0s\n",
      "[CV 2/5] END ....C=0.1, gamma=0.001, kernel=rbf;, score=0.619 total time=   0.0s\n",
      "[CV 3/5] END ....C=0.1, gamma=0.001, kernel=rbf;, score=0.619 total time=   0.0s\n",
      "[CV 4/5] END ....C=0.1, gamma=0.001, kernel=rbf;, score=0.619 total time=   0.0s\n",
      "[CV 5/5] END ....C=0.1, gamma=0.001, kernel=rbf;, score=0.611 total time=   0.0s\n",
      "[CV 1/5] END ...C=0.1, gamma=0.0001, kernel=rbf;, score=0.701 total time=   0.0s\n",
      "[CV 2/5] END ...C=0.1, gamma=0.0001, kernel=rbf;, score=0.698 total time=   0.0s\n",
      "[CV 3/5] END ...C=0.1, gamma=0.0001, kernel=rbf;, score=0.690 total time=   0.0s\n",
      "[CV 4/5] END ...C=0.1, gamma=0.0001, kernel=rbf;, score=0.730 total time=   0.0s\n",
      "[CV 5/5] END ...C=0.1, gamma=0.0001, kernel=rbf;, score=0.675 total time=   0.0s\n",
      "[CV 1/5] END ..........C=1, gamma=1, kernel=rbf;, score=0.614 total time=   0.0s\n",
      "[CV 2/5] END ..........C=1, gamma=1, kernel=rbf;, score=0.619 total time=   0.0s\n",
      "[CV 3/5] END ..........C=1, gamma=1, kernel=rbf;, score=0.619 total time=   0.0s\n",
      "[CV 4/5] END ..........C=1, gamma=1, kernel=rbf;, score=0.619 total time=   0.0s\n",
      "[CV 5/5] END ..........C=1, gamma=1, kernel=rbf;, score=0.611 total time=   0.0s\n",
      "[CV 1/5] END ........C=1, gamma=0.1, kernel=rbf;, score=0.614 total time=   0.0s\n",
      "[CV 2/5] END ........C=1, gamma=0.1, kernel=rbf;, score=0.619 total time=   0.0s\n",
      "[CV 3/5] END ........C=1, gamma=0.1, kernel=rbf;, score=0.619 total time=   0.0s\n",
      "[CV 4/5] END ........C=1, gamma=0.1, kernel=rbf;, score=0.619 total time=   0.0s\n",
      "[CV 5/5] END ........C=1, gamma=0.1, kernel=rbf;, score=0.611 total time=   0.0s\n",
      "[CV 1/5] END .......C=1, gamma=0.01, kernel=rbf;, score=0.614 total time=   0.0s\n",
      "[CV 2/5] END .......C=1, gamma=0.01, kernel=rbf;, score=0.619 total time=   0.0s\n",
      "[CV 3/5] END .......C=1, gamma=0.01, kernel=rbf;, score=0.619 total time=   0.0s\n",
      "[CV 4/5] END .......C=1, gamma=0.01, kernel=rbf;, score=0.619 total time=   0.0s\n",
      "[CV 5/5] END .......C=1, gamma=0.01, kernel=rbf;, score=0.611 total time=   0.0s\n",
      "[CV 1/5] END ......C=1, gamma=0.001, kernel=rbf;, score=0.646 total time=   0.0s\n",
      "[CV 2/5] END ......C=1, gamma=0.001, kernel=rbf;, score=0.635 total time=   0.0s\n",
      "[CV 3/5] END ......C=1, gamma=0.001, kernel=rbf;, score=0.635 total time=   0.0s\n",
      "[CV 4/5] END ......C=1, gamma=0.001, kernel=rbf;, score=0.635 total time=   0.0s\n",
      "[CV 5/5] END ......C=1, gamma=0.001, kernel=rbf;, score=0.659 total time=   0.0s\n",
      "[CV 1/5] END .....C=1, gamma=0.0001, kernel=rbf;, score=0.795 total time=   0.0s\n",
      "[CV 2/5] END .....C=1, gamma=0.0001, kernel=rbf;, score=0.746 total time=   0.0s\n",
      "[CV 3/5] END .....C=1, gamma=0.0001, kernel=rbf;, score=0.810 total time=   0.0s\n",
      "[CV 4/5] END .....C=1, gamma=0.0001, kernel=rbf;, score=0.794 total time=   0.0s\n",
      "[CV 5/5] END .....C=1, gamma=0.0001, kernel=rbf;, score=0.778 total time=   0.0s\n",
      "[CV 1/5] END .........C=10, gamma=1, kernel=rbf;, score=0.614 total time=   0.0s\n",
      "[CV 2/5] END .........C=10, gamma=1, kernel=rbf;, score=0.619 total time=   0.0s\n",
      "[CV 3/5] END .........C=10, gamma=1, kernel=rbf;, score=0.619 total time=   0.0s\n",
      "[CV 4/5] END .........C=10, gamma=1, kernel=rbf;, score=0.619 total time=   0.0s\n",
      "[CV 5/5] END .........C=10, gamma=1, kernel=rbf;, score=0.611 total time=   0.0s\n",
      "[CV 1/5] END .......C=10, gamma=0.1, kernel=rbf;, score=0.614 total time=   0.0s\n",
      "[CV 2/5] END .......C=10, gamma=0.1, kernel=rbf;, score=0.619 total time=   0.0s\n",
      "[CV 3/5] END .......C=10, gamma=0.1, kernel=rbf;, score=0.619 total time=   0.0s\n",
      "[CV 4/5] END .......C=10, gamma=0.1, kernel=rbf;, score=0.619 total time=   0.0s\n",
      "[CV 5/5] END .......C=10, gamma=0.1, kernel=rbf;, score=0.611 total time=   0.0s\n",
      "[CV 1/5] END ......C=10, gamma=0.01, kernel=rbf;, score=0.614 total time=   0.0s\n",
      "[CV 2/5] END ......C=10, gamma=0.01, kernel=rbf;, score=0.619 total time=   0.0s\n",
      "[CV 3/5] END ......C=10, gamma=0.01, kernel=rbf;, score=0.619 total time=   0.0s\n",
      "[CV 4/5] END ......C=10, gamma=0.01, kernel=rbf;, score=0.619 total time=   0.0s\n",
      "[CV 5/5] END ......C=10, gamma=0.01, kernel=rbf;, score=0.611 total time=   0.0s\n",
      "[CV 1/5] END .....C=10, gamma=0.001, kernel=rbf;, score=0.677 total time=   0.0s\n",
      "[CV 2/5] END .....C=10, gamma=0.001, kernel=rbf;, score=0.635 total time=   0.0s\n",
      "[CV 3/5] END .....C=10, gamma=0.001, kernel=rbf;, score=0.635 total time=   0.0s\n",
      "[CV 4/5] END .....C=10, gamma=0.001, kernel=rbf;, score=0.675 total time=   0.0s\n",
      "[CV 5/5] END .....C=10, gamma=0.001, kernel=rbf;, score=0.698 total time=   0.0s\n",
      "[CV 1/5] END ....C=10, gamma=0.0001, kernel=rbf;, score=0.795 total time=   0.0s\n",
      "[CV 2/5] END ....C=10, gamma=0.0001, kernel=rbf;, score=0.778 total time=   0.0s\n",
      "[CV 3/5] END ....C=10, gamma=0.0001, kernel=rbf;, score=0.762 total time=   0.0s\n",
      "[CV 4/5] END ....C=10, gamma=0.0001, kernel=rbf;, score=0.786 total time=   0.0s\n",
      "[CV 5/5] END ....C=10, gamma=0.0001, kernel=rbf;, score=0.762 total time=   0.0s\n",
      "[CV 1/5] END ........C=100, gamma=1, kernel=rbf;, score=0.614 total time=   0.0s\n",
      "[CV 2/5] END ........C=100, gamma=1, kernel=rbf;, score=0.619 total time=   0.0s\n",
      "[CV 3/5] END ........C=100, gamma=1, kernel=rbf;, score=0.619 total time=   0.0s\n",
      "[CV 4/5] END ........C=100, gamma=1, kernel=rbf;, score=0.619 total time=   0.0s\n",
      "[CV 5/5] END ........C=100, gamma=1, kernel=rbf;, score=0.611 total time=   0.0s\n",
      "[CV 1/5] END ......C=100, gamma=0.1, kernel=rbf;, score=0.614 total time=   0.0s\n",
      "[CV 2/5] END ......C=100, gamma=0.1, kernel=rbf;, score=0.619 total time=   0.0s\n",
      "[CV 3/5] END ......C=100, gamma=0.1, kernel=rbf;, score=0.619 total time=   0.0s\n",
      "[CV 4/5] END ......C=100, gamma=0.1, kernel=rbf;, score=0.619 total time=   0.0s\n",
      "[CV 5/5] END ......C=100, gamma=0.1, kernel=rbf;, score=0.611 total time=   0.0s\n",
      "[CV 1/5] END .....C=100, gamma=0.01, kernel=rbf;, score=0.614 total time=   0.0s\n",
      "[CV 2/5] END .....C=100, gamma=0.01, kernel=rbf;, score=0.619 total time=   0.0s\n",
      "[CV 3/5] END .....C=100, gamma=0.01, kernel=rbf;, score=0.619 total time=   0.0s\n",
      "[CV 4/5] END .....C=100, gamma=0.01, kernel=rbf;, score=0.619 total time=   0.0s\n",
      "[CV 5/5] END .....C=100, gamma=0.01, kernel=rbf;, score=0.611 total time=   0.0s\n",
      "[CV 1/5] END ....C=100, gamma=0.001, kernel=rbf;, score=0.677 total time=   0.0s\n",
      "[CV 2/5] END ....C=100, gamma=0.001, kernel=rbf;, score=0.635 total time=   0.0s\n",
      "[CV 3/5] END ....C=100, gamma=0.001, kernel=rbf;, score=0.635 total time=   0.0s\n",
      "[CV 4/5] END ....C=100, gamma=0.001, kernel=rbf;, score=0.675 total time=   0.0s\n",
      "[CV 5/5] END ....C=100, gamma=0.001, kernel=rbf;, score=0.698 total time=   0.0s\n",
      "[CV 1/5] END ...C=100, gamma=0.0001, kernel=rbf;, score=0.787 total time=   0.0s\n",
      "[CV 2/5] END ...C=100, gamma=0.0001, kernel=rbf;, score=0.770 total time=   0.0s\n",
      "[CV 3/5] END ...C=100, gamma=0.0001, kernel=rbf;, score=0.786 total time=   0.0s\n",
      "[CV 4/5] END ...C=100, gamma=0.0001, kernel=rbf;, score=0.762 total time=   0.0s\n",
      "[CV 5/5] END ...C=100, gamma=0.0001, kernel=rbf;, score=0.762 total time=   0.0s\n",
      "[CV 1/5] END .......C=1000, gamma=1, kernel=rbf;, score=0.614 total time=   0.0s\n"
     ]
    },
    {
     "name": "stdout",
     "output_type": "stream",
     "text": [
      "[CV 2/5] END .......C=1000, gamma=1, kernel=rbf;, score=0.619 total time=   0.0s\n",
      "[CV 3/5] END .......C=1000, gamma=1, kernel=rbf;, score=0.619 total time=   0.0s\n",
      "[CV 4/5] END .......C=1000, gamma=1, kernel=rbf;, score=0.619 total time=   0.0s\n",
      "[CV 5/5] END .......C=1000, gamma=1, kernel=rbf;, score=0.611 total time=   0.0s\n",
      "[CV 1/5] END .....C=1000, gamma=0.1, kernel=rbf;, score=0.614 total time=   0.0s\n",
      "[CV 2/5] END .....C=1000, gamma=0.1, kernel=rbf;, score=0.619 total time=   0.0s\n",
      "[CV 3/5] END .....C=1000, gamma=0.1, kernel=rbf;, score=0.619 total time=   0.0s\n",
      "[CV 4/5] END .....C=1000, gamma=0.1, kernel=rbf;, score=0.619 total time=   0.0s\n",
      "[CV 5/5] END .....C=1000, gamma=0.1, kernel=rbf;, score=0.611 total time=   0.0s\n",
      "[CV 1/5] END ....C=1000, gamma=0.01, kernel=rbf;, score=0.614 total time=   0.0s\n",
      "[CV 2/5] END ....C=1000, gamma=0.01, kernel=rbf;, score=0.619 total time=   0.0s\n",
      "[CV 3/5] END ....C=1000, gamma=0.01, kernel=rbf;, score=0.619 total time=   0.0s\n",
      "[CV 4/5] END ....C=1000, gamma=0.01, kernel=rbf;, score=0.619 total time=   0.0s\n",
      "[CV 5/5] END ....C=1000, gamma=0.01, kernel=rbf;, score=0.611 total time=   0.0s\n",
      "[CV 1/5] END ...C=1000, gamma=0.001, kernel=rbf;, score=0.677 total time=   0.0s\n",
      "[CV 2/5] END ...C=1000, gamma=0.001, kernel=rbf;, score=0.635 total time=   0.0s\n",
      "[CV 3/5] END ...C=1000, gamma=0.001, kernel=rbf;, score=0.635 total time=   0.0s\n",
      "[CV 4/5] END ...C=1000, gamma=0.001, kernel=rbf;, score=0.675 total time=   0.0s\n",
      "[CV 5/5] END ...C=1000, gamma=0.001, kernel=rbf;, score=0.698 total time=   0.0s\n",
      "[CV 1/5] END ..C=1000, gamma=0.0001, kernel=rbf;, score=0.787 total time=   0.0s\n",
      "[CV 2/5] END ..C=1000, gamma=0.0001, kernel=rbf;, score=0.770 total time=   0.0s\n",
      "[CV 3/5] END ..C=1000, gamma=0.0001, kernel=rbf;, score=0.786 total time=   0.0s\n",
      "[CV 4/5] END ..C=1000, gamma=0.0001, kernel=rbf;, score=0.762 total time=   0.0s\n",
      "[CV 5/5] END ..C=1000, gamma=0.0001, kernel=rbf;, score=0.762 total time=   0.0s\n"
     ]
    },
    {
     "data": {
      "text/plain": [
       "GridSearchCV(estimator=SVC(),\n",
       "             param_grid={'C': [0.1, 1, 10, 100, 1000],\n",
       "                         'gamma': [1, 0.1, 0.01, 0.001, 0.0001],\n",
       "                         'kernel': ['rbf']},\n",
       "             verbose=3)"
      ]
     },
     "execution_count": 48,
     "metadata": {},
     "output_type": "execute_result"
    }
   ],
   "source": [
    "svm_14 = GridSearchCV(svm,param_grid,refit = True, verbose = 3)\n",
    "svm_14.fit(X_14_train, y_14_train)\n"
   ]
  },
  {
   "cell_type": "code",
   "execution_count": 49,
   "id": "69876ba2",
   "metadata": {},
   "outputs": [
    {
     "name": "stdout",
     "output_type": "stream",
     "text": [
      "Fitting 5 folds for each of 25 candidates, totalling 125 fits\n",
      "[CV 1/5] END ........C=0.1, gamma=1, kernel=rbf;, score=0.631 total time=   0.0s\n",
      "[CV 2/5] END ........C=0.1, gamma=1, kernel=rbf;, score=0.631 total time=   0.0s\n",
      "[CV 3/5] END ........C=0.1, gamma=1, kernel=rbf;, score=0.631 total time=   0.0s\n",
      "[CV 4/5] END ........C=0.1, gamma=1, kernel=rbf;, score=0.623 total time=   0.0s\n",
      "[CV 5/5] END ........C=0.1, gamma=1, kernel=rbf;, score=0.623 total time=   0.0s\n",
      "[CV 1/5] END ......C=0.1, gamma=0.1, kernel=rbf;, score=0.631 total time=   0.0s\n",
      "[CV 2/5] END ......C=0.1, gamma=0.1, kernel=rbf;, score=0.631 total time=   0.0s\n",
      "[CV 3/5] END ......C=0.1, gamma=0.1, kernel=rbf;, score=0.631 total time=   0.0s\n",
      "[CV 4/5] END ......C=0.1, gamma=0.1, kernel=rbf;, score=0.623 total time=   0.0s\n",
      "[CV 5/5] END ......C=0.1, gamma=0.1, kernel=rbf;, score=0.623 total time=   0.0s\n",
      "[CV 1/5] END .....C=0.1, gamma=0.01, kernel=rbf;, score=0.631 total time=   0.0s\n",
      "[CV 2/5] END .....C=0.1, gamma=0.01, kernel=rbf;, score=0.631 total time=   0.0s\n",
      "[CV 3/5] END .....C=0.1, gamma=0.01, kernel=rbf;, score=0.631 total time=   0.0s\n",
      "[CV 4/5] END .....C=0.1, gamma=0.01, kernel=rbf;, score=0.623 total time=   0.0s\n",
      "[CV 5/5] END .....C=0.1, gamma=0.01, kernel=rbf;, score=0.623 total time=   0.0s\n",
      "[CV 1/5] END ....C=0.1, gamma=0.001, kernel=rbf;, score=0.631 total time=   0.0s\n",
      "[CV 2/5] END ....C=0.1, gamma=0.001, kernel=rbf;, score=0.631 total time=   0.0s\n",
      "[CV 3/5] END ....C=0.1, gamma=0.001, kernel=rbf;, score=0.631 total time=   0.0s\n",
      "[CV 4/5] END ....C=0.1, gamma=0.001, kernel=rbf;, score=0.623 total time=   0.0s\n",
      "[CV 5/5] END ....C=0.1, gamma=0.001, kernel=rbf;, score=0.623 total time=   0.0s\n",
      "[CV 1/5] END ...C=0.1, gamma=0.0001, kernel=rbf;, score=0.738 total time=   0.0s\n",
      "[CV 2/5] END ...C=0.1, gamma=0.0001, kernel=rbf;, score=0.738 total time=   0.0s\n",
      "[CV 3/5] END ...C=0.1, gamma=0.0001, kernel=rbf;, score=0.731 total time=   0.0s\n",
      "[CV 4/5] END ...C=0.1, gamma=0.0001, kernel=rbf;, score=0.723 total time=   0.0s\n",
      "[CV 5/5] END ...C=0.1, gamma=0.0001, kernel=rbf;, score=0.738 total time=   0.0s\n",
      "[CV 1/5] END ..........C=1, gamma=1, kernel=rbf;, score=0.631 total time=   0.0s\n",
      "[CV 2/5] END ..........C=1, gamma=1, kernel=rbf;, score=0.631 total time=   0.0s\n",
      "[CV 3/5] END ..........C=1, gamma=1, kernel=rbf;, score=0.631 total time=   0.0s\n",
      "[CV 4/5] END ..........C=1, gamma=1, kernel=rbf;, score=0.623 total time=   0.0s\n",
      "[CV 5/5] END ..........C=1, gamma=1, kernel=rbf;, score=0.623 total time=   0.0s\n",
      "[CV 1/5] END ........C=1, gamma=0.1, kernel=rbf;, score=0.631 total time=   0.0s\n",
      "[CV 2/5] END ........C=1, gamma=0.1, kernel=rbf;, score=0.631 total time=   0.0s\n",
      "[CV 3/5] END ........C=1, gamma=0.1, kernel=rbf;, score=0.631 total time=   0.0s\n",
      "[CV 4/5] END ........C=1, gamma=0.1, kernel=rbf;, score=0.623 total time=   0.0s\n",
      "[CV 5/5] END ........C=1, gamma=0.1, kernel=rbf;, score=0.623 total time=   0.0s\n",
      "[CV 1/5] END .......C=1, gamma=0.01, kernel=rbf;, score=0.631 total time=   0.0s\n",
      "[CV 2/5] END .......C=1, gamma=0.01, kernel=rbf;, score=0.631 total time=   0.0s\n",
      "[CV 3/5] END .......C=1, gamma=0.01, kernel=rbf;, score=0.631 total time=   0.0s\n",
      "[CV 4/5] END .......C=1, gamma=0.01, kernel=rbf;, score=0.623 total time=   0.0s\n",
      "[CV 5/5] END .......C=1, gamma=0.01, kernel=rbf;, score=0.623 total time=   0.0s\n",
      "[CV 1/5] END ......C=1, gamma=0.001, kernel=rbf;, score=0.662 total time=   0.0s\n",
      "[CV 2/5] END ......C=1, gamma=0.001, kernel=rbf;, score=0.669 total time=   0.0s\n",
      "[CV 3/5] END ......C=1, gamma=0.001, kernel=rbf;, score=0.654 total time=   0.0s\n",
      "[CV 4/5] END ......C=1, gamma=0.001, kernel=rbf;, score=0.623 total time=   0.0s\n",
      "[CV 5/5] END ......C=1, gamma=0.001, kernel=rbf;, score=0.638 total time=   0.0s\n",
      "[CV 1/5] END .....C=1, gamma=0.0001, kernel=rbf;, score=0.823 total time=   0.0s\n",
      "[CV 2/5] END .....C=1, gamma=0.0001, kernel=rbf;, score=0.754 total time=   0.0s\n",
      "[CV 3/5] END .....C=1, gamma=0.0001, kernel=rbf;, score=0.815 total time=   0.0s\n",
      "[CV 4/5] END .....C=1, gamma=0.0001, kernel=rbf;, score=0.862 total time=   0.0s\n",
      "[CV 5/5] END .....C=1, gamma=0.0001, kernel=rbf;, score=0.877 total time=   0.0s\n",
      "[CV 1/5] END .........C=10, gamma=1, kernel=rbf;, score=0.631 total time=   0.0s\n",
      "[CV 2/5] END .........C=10, gamma=1, kernel=rbf;, score=0.631 total time=   0.0s\n",
      "[CV 3/5] END .........C=10, gamma=1, kernel=rbf;, score=0.631 total time=   0.0s\n",
      "[CV 4/5] END .........C=10, gamma=1, kernel=rbf;, score=0.623 total time=   0.0s\n",
      "[CV 5/5] END .........C=10, gamma=1, kernel=rbf;, score=0.623 total time=   0.0s\n",
      "[CV 1/5] END .......C=10, gamma=0.1, kernel=rbf;, score=0.631 total time=   0.0s\n",
      "[CV 2/5] END .......C=10, gamma=0.1, kernel=rbf;, score=0.631 total time=   0.0s\n",
      "[CV 3/5] END .......C=10, gamma=0.1, kernel=rbf;, score=0.631 total time=   0.0s\n",
      "[CV 4/5] END .......C=10, gamma=0.1, kernel=rbf;, score=0.623 total time=   0.0s\n",
      "[CV 5/5] END .......C=10, gamma=0.1, kernel=rbf;, score=0.623 total time=   0.0s\n",
      "[CV 1/5] END ......C=10, gamma=0.01, kernel=rbf;, score=0.631 total time=   0.0s\n",
      "[CV 2/5] END ......C=10, gamma=0.01, kernel=rbf;, score=0.631 total time=   0.0s\n",
      "[CV 3/5] END ......C=10, gamma=0.01, kernel=rbf;, score=0.631 total time=   0.0s\n",
      "[CV 4/5] END ......C=10, gamma=0.01, kernel=rbf;, score=0.623 total time=   0.0s\n",
      "[CV 5/5] END ......C=10, gamma=0.01, kernel=rbf;, score=0.623 total time=   0.0s\n",
      "[CV 1/5] END .....C=10, gamma=0.001, kernel=rbf;, score=0.669 total time=   0.0s\n",
      "[CV 2/5] END .....C=10, gamma=0.001, kernel=rbf;, score=0.685 total time=   0.0s\n",
      "[CV 3/5] END .....C=10, gamma=0.001, kernel=rbf;, score=0.708 total time=   0.0s\n",
      "[CV 4/5] END .....C=10, gamma=0.001, kernel=rbf;, score=0.631 total time=   0.0s\n",
      "[CV 5/5] END .....C=10, gamma=0.001, kernel=rbf;, score=0.646 total time=   0.0s\n",
      "[CV 1/5] END ....C=10, gamma=0.0001, kernel=rbf;, score=0.800 total time=   0.0s\n",
      "[CV 2/5] END ....C=10, gamma=0.0001, kernel=rbf;, score=0.792 total time=   0.0s\n",
      "[CV 3/5] END ....C=10, gamma=0.0001, kernel=rbf;, score=0.831 total time=   0.0s\n",
      "[CV 4/5] END ....C=10, gamma=0.0001, kernel=rbf;, score=0.808 total time=   0.0s\n",
      "[CV 5/5] END ....C=10, gamma=0.0001, kernel=rbf;, score=0.838 total time=   0.0s\n",
      "[CV 1/5] END ........C=100, gamma=1, kernel=rbf;, score=0.631 total time=   0.0s\n",
      "[CV 2/5] END ........C=100, gamma=1, kernel=rbf;, score=0.631 total time=   0.0s\n",
      "[CV 3/5] END ........C=100, gamma=1, kernel=rbf;, score=0.631 total time=   0.0s\n",
      "[CV 4/5] END ........C=100, gamma=1, kernel=rbf;, score=0.623 total time=   0.0s\n",
      "[CV 5/5] END ........C=100, gamma=1, kernel=rbf;, score=0.623 total time=   0.0s\n",
      "[CV 1/5] END ......C=100, gamma=0.1, kernel=rbf;, score=0.631 total time=   0.0s\n",
      "[CV 2/5] END ......C=100, gamma=0.1, kernel=rbf;, score=0.631 total time=   0.0s\n",
      "[CV 3/5] END ......C=100, gamma=0.1, kernel=rbf;, score=0.631 total time=   0.0s\n",
      "[CV 4/5] END ......C=100, gamma=0.1, kernel=rbf;, score=0.623 total time=   0.0s\n",
      "[CV 5/5] END ......C=100, gamma=0.1, kernel=rbf;, score=0.623 total time=   0.0s\n",
      "[CV 1/5] END .....C=100, gamma=0.01, kernel=rbf;, score=0.631 total time=   0.0s\n",
      "[CV 2/5] END .....C=100, gamma=0.01, kernel=rbf;, score=0.631 total time=   0.0s\n",
      "[CV 3/5] END .....C=100, gamma=0.01, kernel=rbf;, score=0.631 total time=   0.0s\n",
      "[CV 4/5] END .....C=100, gamma=0.01, kernel=rbf;, score=0.623 total time=   0.0s\n",
      "[CV 5/5] END .....C=100, gamma=0.01, kernel=rbf;, score=0.623 total time=   0.0s\n",
      "[CV 1/5] END ....C=100, gamma=0.001, kernel=rbf;, score=0.669 total time=   0.0s\n",
      "[CV 2/5] END ....C=100, gamma=0.001, kernel=rbf;, score=0.685 total time=   0.0s\n",
      "[CV 3/5] END ....C=100, gamma=0.001, kernel=rbf;, score=0.708 total time=   0.0s\n",
      "[CV 4/5] END ....C=100, gamma=0.001, kernel=rbf;, score=0.631 total time=   0.0s\n",
      "[CV 5/5] END ....C=100, gamma=0.001, kernel=rbf;, score=0.646 total time=   0.0s\n",
      "[CV 1/5] END ...C=100, gamma=0.0001, kernel=rbf;, score=0.808 total time=   0.0s\n",
      "[CV 2/5] END ...C=100, gamma=0.0001, kernel=rbf;, score=0.785 total time=   0.0s\n",
      "[CV 3/5] END ...C=100, gamma=0.0001, kernel=rbf;, score=0.808 total time=   0.0s\n",
      "[CV 4/5] END ...C=100, gamma=0.0001, kernel=rbf;, score=0.785 total time=   0.0s\n",
      "[CV 5/5] END ...C=100, gamma=0.0001, kernel=rbf;, score=0.823 total time=   0.0s\n",
      "[CV 1/5] END .......C=1000, gamma=1, kernel=rbf;, score=0.631 total time=   0.0s\n",
      "[CV 2/5] END .......C=1000, gamma=1, kernel=rbf;, score=0.631 total time=   0.0s\n"
     ]
    },
    {
     "name": "stdout",
     "output_type": "stream",
     "text": [
      "[CV 3/5] END .......C=1000, gamma=1, kernel=rbf;, score=0.631 total time=   0.0s\n",
      "[CV 4/5] END .......C=1000, gamma=1, kernel=rbf;, score=0.623 total time=   0.0s\n",
      "[CV 5/5] END .......C=1000, gamma=1, kernel=rbf;, score=0.623 total time=   0.0s\n",
      "[CV 1/5] END .....C=1000, gamma=0.1, kernel=rbf;, score=0.631 total time=   0.0s\n",
      "[CV 2/5] END .....C=1000, gamma=0.1, kernel=rbf;, score=0.631 total time=   0.0s\n",
      "[CV 3/5] END .....C=1000, gamma=0.1, kernel=rbf;, score=0.631 total time=   0.0s\n",
      "[CV 4/5] END .....C=1000, gamma=0.1, kernel=rbf;, score=0.623 total time=   0.0s\n",
      "[CV 5/5] END .....C=1000, gamma=0.1, kernel=rbf;, score=0.623 total time=   0.0s\n",
      "[CV 1/5] END ....C=1000, gamma=0.01, kernel=rbf;, score=0.631 total time=   0.0s\n",
      "[CV 2/5] END ....C=1000, gamma=0.01, kernel=rbf;, score=0.631 total time=   0.0s\n",
      "[CV 3/5] END ....C=1000, gamma=0.01, kernel=rbf;, score=0.631 total time=   0.0s\n",
      "[CV 4/5] END ....C=1000, gamma=0.01, kernel=rbf;, score=0.623 total time=   0.0s\n",
      "[CV 5/5] END ....C=1000, gamma=0.01, kernel=rbf;, score=0.623 total time=   0.0s\n",
      "[CV 1/5] END ...C=1000, gamma=0.001, kernel=rbf;, score=0.669 total time=   0.0s\n",
      "[CV 2/5] END ...C=1000, gamma=0.001, kernel=rbf;, score=0.685 total time=   0.0s\n",
      "[CV 3/5] END ...C=1000, gamma=0.001, kernel=rbf;, score=0.708 total time=   0.0s\n",
      "[CV 4/5] END ...C=1000, gamma=0.001, kernel=rbf;, score=0.631 total time=   0.0s\n",
      "[CV 5/5] END ...C=1000, gamma=0.001, kernel=rbf;, score=0.646 total time=   0.0s\n",
      "[CV 1/5] END ..C=1000, gamma=0.0001, kernel=rbf;, score=0.808 total time=   0.0s\n",
      "[CV 2/5] END ..C=1000, gamma=0.0001, kernel=rbf;, score=0.785 total time=   0.0s\n",
      "[CV 3/5] END ..C=1000, gamma=0.0001, kernel=rbf;, score=0.808 total time=   0.0s\n",
      "[CV 4/5] END ..C=1000, gamma=0.0001, kernel=rbf;, score=0.785 total time=   0.0s\n",
      "[CV 5/5] END ..C=1000, gamma=0.0001, kernel=rbf;, score=0.823 total time=   0.0s\n"
     ]
    },
    {
     "data": {
      "text/plain": [
       "GridSearchCV(estimator=SVC(),\n",
       "             param_grid={'C': [0.1, 1, 10, 100, 1000],\n",
       "                         'gamma': [1, 0.1, 0.01, 0.001, 0.0001],\n",
       "                         'kernel': ['rbf']},\n",
       "             verbose=3)"
      ]
     },
     "execution_count": 49,
     "metadata": {},
     "output_type": "execute_result"
    }
   ],
   "source": [
    "svm_15 = GridSearchCV(svm,param_grid,refit = True, verbose = 3)\n",
    "svm_15.fit(X_15_train, y_15_train)\n"
   ]
  },
  {
   "cell_type": "code",
   "execution_count": 50,
   "id": "f9452f7b",
   "metadata": {},
   "outputs": [
    {
     "name": "stdout",
     "output_type": "stream",
     "text": [
      "Fitting 5 folds for each of 25 candidates, totalling 125 fits\n",
      "[CV 1/5] END ........C=0.1, gamma=1, kernel=rbf;, score=0.636 total time=   0.0s\n",
      "[CV 2/5] END ........C=0.1, gamma=1, kernel=rbf;, score=0.636 total time=   0.0s\n",
      "[CV 3/5] END ........C=0.1, gamma=1, kernel=rbf;, score=0.628 total time=   0.0s\n",
      "[CV 4/5] END ........C=0.1, gamma=1, kernel=rbf;, score=0.628 total time=   0.0s\n",
      "[CV 5/5] END ........C=0.1, gamma=1, kernel=rbf;, score=0.633 total time=   0.0s\n",
      "[CV 1/5] END ......C=0.1, gamma=0.1, kernel=rbf;, score=0.636 total time=   0.0s\n",
      "[CV 2/5] END ......C=0.1, gamma=0.1, kernel=rbf;, score=0.636 total time=   0.0s\n",
      "[CV 3/5] END ......C=0.1, gamma=0.1, kernel=rbf;, score=0.628 total time=   0.0s\n",
      "[CV 4/5] END ......C=0.1, gamma=0.1, kernel=rbf;, score=0.628 total time=   0.0s\n",
      "[CV 5/5] END ......C=0.1, gamma=0.1, kernel=rbf;, score=0.633 total time=   0.0s\n",
      "[CV 1/5] END .....C=0.1, gamma=0.01, kernel=rbf;, score=0.636 total time=   0.0s\n",
      "[CV 2/5] END .....C=0.1, gamma=0.01, kernel=rbf;, score=0.636 total time=   0.0s\n",
      "[CV 3/5] END .....C=0.1, gamma=0.01, kernel=rbf;, score=0.628 total time=   0.0s\n",
      "[CV 4/5] END .....C=0.1, gamma=0.01, kernel=rbf;, score=0.628 total time=   0.0s\n",
      "[CV 5/5] END .....C=0.1, gamma=0.01, kernel=rbf;, score=0.633 total time=   0.0s\n",
      "[CV 1/5] END ....C=0.1, gamma=0.001, kernel=rbf;, score=0.636 total time=   0.0s\n",
      "[CV 2/5] END ....C=0.1, gamma=0.001, kernel=rbf;, score=0.636 total time=   0.0s\n",
      "[CV 3/5] END ....C=0.1, gamma=0.001, kernel=rbf;, score=0.628 total time=   0.0s\n",
      "[CV 4/5] END ....C=0.1, gamma=0.001, kernel=rbf;, score=0.628 total time=   0.0s\n",
      "[CV 5/5] END ....C=0.1, gamma=0.001, kernel=rbf;, score=0.633 total time=   0.0s\n",
      "[CV 1/5] END ...C=0.1, gamma=0.0001, kernel=rbf;, score=0.682 total time=   0.0s\n",
      "[CV 2/5] END ...C=0.1, gamma=0.0001, kernel=rbf;, score=0.667 total time=   0.0s\n",
      "[CV 3/5] END ...C=0.1, gamma=0.0001, kernel=rbf;, score=0.667 total time=   0.0s\n",
      "[CV 4/5] END ...C=0.1, gamma=0.0001, kernel=rbf;, score=0.674 total time=   0.0s\n",
      "[CV 5/5] END ...C=0.1, gamma=0.0001, kernel=rbf;, score=0.672 total time=   0.0s\n",
      "[CV 1/5] END ..........C=1, gamma=1, kernel=rbf;, score=0.636 total time=   0.0s\n",
      "[CV 2/5] END ..........C=1, gamma=1, kernel=rbf;, score=0.636 total time=   0.0s\n",
      "[CV 3/5] END ..........C=1, gamma=1, kernel=rbf;, score=0.628 total time=   0.0s\n",
      "[CV 4/5] END ..........C=1, gamma=1, kernel=rbf;, score=0.628 total time=   0.0s\n",
      "[CV 5/5] END ..........C=1, gamma=1, kernel=rbf;, score=0.633 total time=   0.0s\n",
      "[CV 1/5] END ........C=1, gamma=0.1, kernel=rbf;, score=0.636 total time=   0.0s\n",
      "[CV 2/5] END ........C=1, gamma=0.1, kernel=rbf;, score=0.636 total time=   0.0s\n",
      "[CV 3/5] END ........C=1, gamma=0.1, kernel=rbf;, score=0.628 total time=   0.0s\n",
      "[CV 4/5] END ........C=1, gamma=0.1, kernel=rbf;, score=0.628 total time=   0.0s\n",
      "[CV 5/5] END ........C=1, gamma=0.1, kernel=rbf;, score=0.633 total time=   0.0s\n",
      "[CV 1/5] END .......C=1, gamma=0.01, kernel=rbf;, score=0.636 total time=   0.0s\n",
      "[CV 2/5] END .......C=1, gamma=0.01, kernel=rbf;, score=0.636 total time=   0.0s\n",
      "[CV 3/5] END .......C=1, gamma=0.01, kernel=rbf;, score=0.628 total time=   0.0s\n",
      "[CV 4/5] END .......C=1, gamma=0.01, kernel=rbf;, score=0.628 total time=   0.0s\n",
      "[CV 5/5] END .......C=1, gamma=0.01, kernel=rbf;, score=0.633 total time=   0.0s\n",
      "[CV 1/5] END ......C=1, gamma=0.001, kernel=rbf;, score=0.636 total time=   0.0s\n",
      "[CV 2/5] END ......C=1, gamma=0.001, kernel=rbf;, score=0.643 total time=   0.0s\n",
      "[CV 3/5] END ......C=1, gamma=0.001, kernel=rbf;, score=0.636 total time=   0.0s\n",
      "[CV 4/5] END ......C=1, gamma=0.001, kernel=rbf;, score=0.643 total time=   0.0s\n",
      "[CV 5/5] END ......C=1, gamma=0.001, kernel=rbf;, score=0.648 total time=   0.0s\n",
      "[CV 1/5] END .....C=1, gamma=0.0001, kernel=rbf;, score=0.783 total time=   0.0s\n",
      "[CV 2/5] END .....C=1, gamma=0.0001, kernel=rbf;, score=0.791 total time=   0.0s\n",
      "[CV 3/5] END .....C=1, gamma=0.0001, kernel=rbf;, score=0.798 total time=   0.0s\n",
      "[CV 4/5] END .....C=1, gamma=0.0001, kernel=rbf;, score=0.767 total time=   0.0s\n",
      "[CV 5/5] END .....C=1, gamma=0.0001, kernel=rbf;, score=0.797 total time=   0.0s\n",
      "[CV 1/5] END .........C=10, gamma=1, kernel=rbf;, score=0.636 total time=   0.0s\n",
      "[CV 2/5] END .........C=10, gamma=1, kernel=rbf;, score=0.636 total time=   0.0s\n",
      "[CV 3/5] END .........C=10, gamma=1, kernel=rbf;, score=0.628 total time=   0.0s\n",
      "[CV 4/5] END .........C=10, gamma=1, kernel=rbf;, score=0.628 total time=   0.0s\n",
      "[CV 5/5] END .........C=10, gamma=1, kernel=rbf;, score=0.633 total time=   0.0s\n",
      "[CV 1/5] END .......C=10, gamma=0.1, kernel=rbf;, score=0.636 total time=   0.0s\n",
      "[CV 2/5] END .......C=10, gamma=0.1, kernel=rbf;, score=0.636 total time=   0.0s\n",
      "[CV 3/5] END .......C=10, gamma=0.1, kernel=rbf;, score=0.628 total time=   0.0s\n",
      "[CV 4/5] END .......C=10, gamma=0.1, kernel=rbf;, score=0.628 total time=   0.0s\n",
      "[CV 5/5] END .......C=10, gamma=0.1, kernel=rbf;, score=0.633 total time=   0.0s\n",
      "[CV 1/5] END ......C=10, gamma=0.01, kernel=rbf;, score=0.636 total time=   0.0s\n",
      "[CV 2/5] END ......C=10, gamma=0.01, kernel=rbf;, score=0.636 total time=   0.0s\n",
      "[CV 3/5] END ......C=10, gamma=0.01, kernel=rbf;, score=0.628 total time=   0.0s\n",
      "[CV 4/5] END ......C=10, gamma=0.01, kernel=rbf;, score=0.628 total time=   0.0s\n",
      "[CV 5/5] END ......C=10, gamma=0.01, kernel=rbf;, score=0.633 total time=   0.0s\n",
      "[CV 1/5] END .....C=10, gamma=0.001, kernel=rbf;, score=0.643 total time=   0.0s\n",
      "[CV 2/5] END .....C=10, gamma=0.001, kernel=rbf;, score=0.667 total time=   0.0s\n",
      "[CV 3/5] END .....C=10, gamma=0.001, kernel=rbf;, score=0.674 total time=   0.0s\n",
      "[CV 4/5] END .....C=10, gamma=0.001, kernel=rbf;, score=0.659 total time=   0.0s\n",
      "[CV 5/5] END .....C=10, gamma=0.001, kernel=rbf;, score=0.664 total time=   0.0s\n",
      "[CV 1/5] END ....C=10, gamma=0.0001, kernel=rbf;, score=0.767 total time=   0.0s\n",
      "[CV 2/5] END ....C=10, gamma=0.0001, kernel=rbf;, score=0.814 total time=   0.0s\n",
      "[CV 3/5] END ....C=10, gamma=0.0001, kernel=rbf;, score=0.767 total time=   0.0s\n",
      "[CV 4/5] END ....C=10, gamma=0.0001, kernel=rbf;, score=0.791 total time=   0.0s\n",
      "[CV 5/5] END ....C=10, gamma=0.0001, kernel=rbf;, score=0.789 total time=   0.0s\n",
      "[CV 1/5] END ........C=100, gamma=1, kernel=rbf;, score=0.636 total time=   0.0s\n",
      "[CV 2/5] END ........C=100, gamma=1, kernel=rbf;, score=0.636 total time=   0.0s\n",
      "[CV 3/5] END ........C=100, gamma=1, kernel=rbf;, score=0.628 total time=   0.0s\n",
      "[CV 4/5] END ........C=100, gamma=1, kernel=rbf;, score=0.628 total time=   0.0s\n",
      "[CV 5/5] END ........C=100, gamma=1, kernel=rbf;, score=0.633 total time=   0.0s\n",
      "[CV 1/5] END ......C=100, gamma=0.1, kernel=rbf;, score=0.636 total time=   0.0s\n",
      "[CV 2/5] END ......C=100, gamma=0.1, kernel=rbf;, score=0.636 total time=   0.0s\n",
      "[CV 3/5] END ......C=100, gamma=0.1, kernel=rbf;, score=0.628 total time=   0.0s\n",
      "[CV 4/5] END ......C=100, gamma=0.1, kernel=rbf;, score=0.628 total time=   0.0s\n",
      "[CV 5/5] END ......C=100, gamma=0.1, kernel=rbf;, score=0.633 total time=   0.0s\n",
      "[CV 1/5] END .....C=100, gamma=0.01, kernel=rbf;, score=0.636 total time=   0.0s\n",
      "[CV 2/5] END .....C=100, gamma=0.01, kernel=rbf;, score=0.636 total time=   0.0s\n",
      "[CV 3/5] END .....C=100, gamma=0.01, kernel=rbf;, score=0.628 total time=   0.0s\n",
      "[CV 4/5] END .....C=100, gamma=0.01, kernel=rbf;, score=0.628 total time=   0.0s\n",
      "[CV 5/5] END .....C=100, gamma=0.01, kernel=rbf;, score=0.633 total time=   0.0s\n",
      "[CV 1/5] END ....C=100, gamma=0.001, kernel=rbf;, score=0.643 total time=   0.0s\n",
      "[CV 2/5] END ....C=100, gamma=0.001, kernel=rbf;, score=0.667 total time=   0.0s\n",
      "[CV 3/5] END ....C=100, gamma=0.001, kernel=rbf;, score=0.674 total time=   0.0s\n",
      "[CV 4/5] END ....C=100, gamma=0.001, kernel=rbf;, score=0.659 total time=   0.0s\n",
      "[CV 5/5] END ....C=100, gamma=0.001, kernel=rbf;, score=0.664 total time=   0.0s\n",
      "[CV 1/5] END ...C=100, gamma=0.0001, kernel=rbf;, score=0.783 total time=   0.0s\n",
      "[CV 2/5] END ...C=100, gamma=0.0001, kernel=rbf;, score=0.791 total time=   0.0s\n",
      "[CV 3/5] END ...C=100, gamma=0.0001, kernel=rbf;, score=0.736 total time=   0.0s\n",
      "[CV 4/5] END ...C=100, gamma=0.0001, kernel=rbf;, score=0.775 total time=   0.0s\n",
      "[CV 5/5] END ...C=100, gamma=0.0001, kernel=rbf;, score=0.781 total time=   0.0s\n",
      "[CV 1/5] END .......C=1000, gamma=1, kernel=rbf;, score=0.636 total time=   0.0s\n",
      "[CV 2/5] END .......C=1000, gamma=1, kernel=rbf;, score=0.636 total time=   0.0s\n",
      "[CV 3/5] END .......C=1000, gamma=1, kernel=rbf;, score=0.628 total time=   0.0s\n"
     ]
    },
    {
     "name": "stdout",
     "output_type": "stream",
     "text": [
      "[CV 4/5] END .......C=1000, gamma=1, kernel=rbf;, score=0.628 total time=   0.0s\n",
      "[CV 5/5] END .......C=1000, gamma=1, kernel=rbf;, score=0.633 total time=   0.0s\n",
      "[CV 1/5] END .....C=1000, gamma=0.1, kernel=rbf;, score=0.636 total time=   0.0s\n",
      "[CV 2/5] END .....C=1000, gamma=0.1, kernel=rbf;, score=0.636 total time=   0.0s\n",
      "[CV 3/5] END .....C=1000, gamma=0.1, kernel=rbf;, score=0.628 total time=   0.0s\n",
      "[CV 4/5] END .....C=1000, gamma=0.1, kernel=rbf;, score=0.628 total time=   0.0s\n",
      "[CV 5/5] END .....C=1000, gamma=0.1, kernel=rbf;, score=0.633 total time=   0.0s\n",
      "[CV 1/5] END ....C=1000, gamma=0.01, kernel=rbf;, score=0.636 total time=   0.0s\n",
      "[CV 2/5] END ....C=1000, gamma=0.01, kernel=rbf;, score=0.636 total time=   0.0s\n",
      "[CV 3/5] END ....C=1000, gamma=0.01, kernel=rbf;, score=0.628 total time=   0.0s\n",
      "[CV 4/5] END ....C=1000, gamma=0.01, kernel=rbf;, score=0.628 total time=   0.0s\n",
      "[CV 5/5] END ....C=1000, gamma=0.01, kernel=rbf;, score=0.633 total time=   0.0s\n",
      "[CV 1/5] END ...C=1000, gamma=0.001, kernel=rbf;, score=0.643 total time=   0.0s\n",
      "[CV 2/5] END ...C=1000, gamma=0.001, kernel=rbf;, score=0.667 total time=   0.0s\n",
      "[CV 3/5] END ...C=1000, gamma=0.001, kernel=rbf;, score=0.674 total time=   0.0s\n",
      "[CV 4/5] END ...C=1000, gamma=0.001, kernel=rbf;, score=0.659 total time=   0.0s\n",
      "[CV 5/5] END ...C=1000, gamma=0.001, kernel=rbf;, score=0.664 total time=   0.0s\n",
      "[CV 1/5] END ..C=1000, gamma=0.0001, kernel=rbf;, score=0.783 total time=   0.0s\n",
      "[CV 2/5] END ..C=1000, gamma=0.0001, kernel=rbf;, score=0.791 total time=   0.0s\n",
      "[CV 3/5] END ..C=1000, gamma=0.0001, kernel=rbf;, score=0.736 total time=   0.0s\n",
      "[CV 4/5] END ..C=1000, gamma=0.0001, kernel=rbf;, score=0.775 total time=   0.0s\n",
      "[CV 5/5] END ..C=1000, gamma=0.0001, kernel=rbf;, score=0.781 total time=   0.0s\n"
     ]
    },
    {
     "data": {
      "text/plain": [
       "GridSearchCV(estimator=SVC(),\n",
       "             param_grid={'C': [0.1, 1, 10, 100, 1000],\n",
       "                         'gamma': [1, 0.1, 0.01, 0.001, 0.0001],\n",
       "                         'kernel': ['rbf']},\n",
       "             verbose=3)"
      ]
     },
     "execution_count": 50,
     "metadata": {},
     "output_type": "execute_result"
    }
   ],
   "source": [
    "svm_16 = GridSearchCV(svm,param_grid,refit = True, verbose = 3)\n",
    "svm_16.fit(X_16_train, y_16_train)\n"
   ]
  },
  {
   "cell_type": "code",
   "execution_count": 51,
   "id": "d3484e38",
   "metadata": {},
   "outputs": [
    {
     "name": "stdout",
     "output_type": "stream",
     "text": [
      "Fitting 5 folds for each of 25 candidates, totalling 125 fits\n",
      "[CV 1/5] END ........C=0.1, gamma=1, kernel=rbf;, score=0.618 total time=   0.0s\n",
      "[CV 2/5] END ........C=0.1, gamma=1, kernel=rbf;, score=0.615 total time=   0.0s\n",
      "[CV 3/5] END ........C=0.1, gamma=1, kernel=rbf;, score=0.615 total time=   0.0s\n",
      "[CV 4/5] END ........C=0.1, gamma=1, kernel=rbf;, score=0.615 total time=   0.0s\n",
      "[CV 5/5] END ........C=0.1, gamma=1, kernel=rbf;, score=0.615 total time=   0.0s\n",
      "[CV 1/5] END ......C=0.1, gamma=0.1, kernel=rbf;, score=0.618 total time=   0.0s\n",
      "[CV 2/5] END ......C=0.1, gamma=0.1, kernel=rbf;, score=0.615 total time=   0.0s\n",
      "[CV 3/5] END ......C=0.1, gamma=0.1, kernel=rbf;, score=0.615 total time=   0.0s\n",
      "[CV 4/5] END ......C=0.1, gamma=0.1, kernel=rbf;, score=0.615 total time=   0.0s\n",
      "[CV 5/5] END ......C=0.1, gamma=0.1, kernel=rbf;, score=0.615 total time=   0.0s\n",
      "[CV 1/5] END .....C=0.1, gamma=0.01, kernel=rbf;, score=0.618 total time=   0.0s\n",
      "[CV 2/5] END .....C=0.1, gamma=0.01, kernel=rbf;, score=0.615 total time=   0.0s\n",
      "[CV 3/5] END .....C=0.1, gamma=0.01, kernel=rbf;, score=0.615 total time=   0.0s\n",
      "[CV 4/5] END .....C=0.1, gamma=0.01, kernel=rbf;, score=0.615 total time=   0.0s\n",
      "[CV 5/5] END .....C=0.1, gamma=0.01, kernel=rbf;, score=0.615 total time=   0.0s\n",
      "[CV 1/5] END ....C=0.1, gamma=0.001, kernel=rbf;, score=0.618 total time=   0.0s\n",
      "[CV 2/5] END ....C=0.1, gamma=0.001, kernel=rbf;, score=0.615 total time=   0.0s\n",
      "[CV 3/5] END ....C=0.1, gamma=0.001, kernel=rbf;, score=0.615 total time=   0.0s\n",
      "[CV 4/5] END ....C=0.1, gamma=0.001, kernel=rbf;, score=0.615 total time=   0.0s\n",
      "[CV 5/5] END ....C=0.1, gamma=0.001, kernel=rbf;, score=0.615 total time=   0.0s\n",
      "[CV 1/5] END ...C=0.1, gamma=0.0001, kernel=rbf;, score=0.672 total time=   0.0s\n",
      "[CV 2/5] END ...C=0.1, gamma=0.0001, kernel=rbf;, score=0.700 total time=   0.0s\n",
      "[CV 3/5] END ...C=0.1, gamma=0.0001, kernel=rbf;, score=0.677 total time=   0.0s\n",
      "[CV 4/5] END ...C=0.1, gamma=0.0001, kernel=rbf;, score=0.662 total time=   0.0s\n",
      "[CV 5/5] END ...C=0.1, gamma=0.0001, kernel=rbf;, score=0.700 total time=   0.0s\n",
      "[CV 1/5] END ..........C=1, gamma=1, kernel=rbf;, score=0.618 total time=   0.0s\n",
      "[CV 2/5] END ..........C=1, gamma=1, kernel=rbf;, score=0.615 total time=   0.0s\n",
      "[CV 3/5] END ..........C=1, gamma=1, kernel=rbf;, score=0.615 total time=   0.0s\n",
      "[CV 4/5] END ..........C=1, gamma=1, kernel=rbf;, score=0.615 total time=   0.0s\n",
      "[CV 5/5] END ..........C=1, gamma=1, kernel=rbf;, score=0.615 total time=   0.0s\n",
      "[CV 1/5] END ........C=1, gamma=0.1, kernel=rbf;, score=0.618 total time=   0.0s\n",
      "[CV 2/5] END ........C=1, gamma=0.1, kernel=rbf;, score=0.615 total time=   0.0s\n",
      "[CV 3/5] END ........C=1, gamma=0.1, kernel=rbf;, score=0.615 total time=   0.0s\n",
      "[CV 4/5] END ........C=1, gamma=0.1, kernel=rbf;, score=0.615 total time=   0.0s\n",
      "[CV 5/5] END ........C=1, gamma=0.1, kernel=rbf;, score=0.615 total time=   0.0s\n",
      "[CV 1/5] END .......C=1, gamma=0.01, kernel=rbf;, score=0.618 total time=   0.0s\n",
      "[CV 2/5] END .......C=1, gamma=0.01, kernel=rbf;, score=0.615 total time=   0.0s\n",
      "[CV 3/5] END .......C=1, gamma=0.01, kernel=rbf;, score=0.615 total time=   0.0s\n",
      "[CV 4/5] END .......C=1, gamma=0.01, kernel=rbf;, score=0.615 total time=   0.0s\n",
      "[CV 5/5] END .......C=1, gamma=0.01, kernel=rbf;, score=0.615 total time=   0.0s\n",
      "[CV 1/5] END ......C=1, gamma=0.001, kernel=rbf;, score=0.634 total time=   0.0s\n",
      "[CV 2/5] END ......C=1, gamma=0.001, kernel=rbf;, score=0.631 total time=   0.0s\n",
      "[CV 3/5] END ......C=1, gamma=0.001, kernel=rbf;, score=0.631 total time=   0.0s\n",
      "[CV 4/5] END ......C=1, gamma=0.001, kernel=rbf;, score=0.638 total time=   0.0s\n",
      "[CV 5/5] END ......C=1, gamma=0.001, kernel=rbf;, score=0.615 total time=   0.0s\n",
      "[CV 1/5] END .....C=1, gamma=0.0001, kernel=rbf;, score=0.771 total time=   0.0s\n",
      "[CV 2/5] END .....C=1, gamma=0.0001, kernel=rbf;, score=0.785 total time=   0.0s\n",
      "[CV 3/5] END .....C=1, gamma=0.0001, kernel=rbf;, score=0.792 total time=   0.0s\n",
      "[CV 4/5] END .....C=1, gamma=0.0001, kernel=rbf;, score=0.762 total time=   0.0s\n",
      "[CV 5/5] END .....C=1, gamma=0.0001, kernel=rbf;, score=0.769 total time=   0.0s\n",
      "[CV 1/5] END .........C=10, gamma=1, kernel=rbf;, score=0.618 total time=   0.0s\n",
      "[CV 2/5] END .........C=10, gamma=1, kernel=rbf;, score=0.615 total time=   0.0s\n",
      "[CV 3/5] END .........C=10, gamma=1, kernel=rbf;, score=0.615 total time=   0.0s\n",
      "[CV 4/5] END .........C=10, gamma=1, kernel=rbf;, score=0.615 total time=   0.0s\n",
      "[CV 5/5] END .........C=10, gamma=1, kernel=rbf;, score=0.615 total time=   0.0s\n",
      "[CV 1/5] END .......C=10, gamma=0.1, kernel=rbf;, score=0.618 total time=   0.0s\n",
      "[CV 2/5] END .......C=10, gamma=0.1, kernel=rbf;, score=0.615 total time=   0.0s\n",
      "[CV 3/5] END .......C=10, gamma=0.1, kernel=rbf;, score=0.615 total time=   0.0s\n",
      "[CV 4/5] END .......C=10, gamma=0.1, kernel=rbf;, score=0.615 total time=   0.0s\n",
      "[CV 5/5] END .......C=10, gamma=0.1, kernel=rbf;, score=0.615 total time=   0.0s\n",
      "[CV 1/5] END ......C=10, gamma=0.01, kernel=rbf;, score=0.618 total time=   0.0s\n",
      "[CV 2/5] END ......C=10, gamma=0.01, kernel=rbf;, score=0.615 total time=   0.0s\n",
      "[CV 3/5] END ......C=10, gamma=0.01, kernel=rbf;, score=0.615 total time=   0.0s\n",
      "[CV 4/5] END ......C=10, gamma=0.01, kernel=rbf;, score=0.615 total time=   0.0s\n",
      "[CV 5/5] END ......C=10, gamma=0.01, kernel=rbf;, score=0.615 total time=   0.0s\n",
      "[CV 1/5] END .....C=10, gamma=0.001, kernel=rbf;, score=0.672 total time=   0.0s\n",
      "[CV 2/5] END .....C=10, gamma=0.001, kernel=rbf;, score=0.685 total time=   0.0s\n",
      "[CV 3/5] END .....C=10, gamma=0.001, kernel=rbf;, score=0.669 total time=   0.0s\n",
      "[CV 4/5] END .....C=10, gamma=0.001, kernel=rbf;, score=0.638 total time=   0.0s\n",
      "[CV 5/5] END .....C=10, gamma=0.001, kernel=rbf;, score=0.646 total time=   0.0s\n",
      "[CV 1/5] END ....C=10, gamma=0.0001, kernel=rbf;, score=0.756 total time=   0.0s\n",
      "[CV 2/5] END ....C=10, gamma=0.0001, kernel=rbf;, score=0.800 total time=   0.0s\n",
      "[CV 3/5] END ....C=10, gamma=0.0001, kernel=rbf;, score=0.777 total time=   0.0s\n",
      "[CV 4/5] END ....C=10, gamma=0.0001, kernel=rbf;, score=0.754 total time=   0.0s\n",
      "[CV 5/5] END ....C=10, gamma=0.0001, kernel=rbf;, score=0.731 total time=   0.0s\n",
      "[CV 1/5] END ........C=100, gamma=1, kernel=rbf;, score=0.618 total time=   0.0s\n",
      "[CV 2/5] END ........C=100, gamma=1, kernel=rbf;, score=0.615 total time=   0.0s\n",
      "[CV 3/5] END ........C=100, gamma=1, kernel=rbf;, score=0.615 total time=   0.0s\n",
      "[CV 4/5] END ........C=100, gamma=1, kernel=rbf;, score=0.615 total time=   0.0s\n",
      "[CV 5/5] END ........C=100, gamma=1, kernel=rbf;, score=0.615 total time=   0.0s\n",
      "[CV 1/5] END ......C=100, gamma=0.1, kernel=rbf;, score=0.618 total time=   0.0s\n",
      "[CV 2/5] END ......C=100, gamma=0.1, kernel=rbf;, score=0.615 total time=   0.0s\n",
      "[CV 3/5] END ......C=100, gamma=0.1, kernel=rbf;, score=0.615 total time=   0.0s\n",
      "[CV 4/5] END ......C=100, gamma=0.1, kernel=rbf;, score=0.615 total time=   0.0s\n",
      "[CV 5/5] END ......C=100, gamma=0.1, kernel=rbf;, score=0.615 total time=   0.0s\n",
      "[CV 1/5] END .....C=100, gamma=0.01, kernel=rbf;, score=0.618 total time=   0.0s\n",
      "[CV 2/5] END .....C=100, gamma=0.01, kernel=rbf;, score=0.615 total time=   0.0s\n",
      "[CV 3/5] END .....C=100, gamma=0.01, kernel=rbf;, score=0.615 total time=   0.0s\n",
      "[CV 4/5] END .....C=100, gamma=0.01, kernel=rbf;, score=0.615 total time=   0.0s\n",
      "[CV 5/5] END .....C=100, gamma=0.01, kernel=rbf;, score=0.615 total time=   0.0s\n",
      "[CV 1/5] END ....C=100, gamma=0.001, kernel=rbf;, score=0.672 total time=   0.0s\n",
      "[CV 2/5] END ....C=100, gamma=0.001, kernel=rbf;, score=0.685 total time=   0.0s\n",
      "[CV 3/5] END ....C=100, gamma=0.001, kernel=rbf;, score=0.669 total time=   0.0s\n",
      "[CV 4/5] END ....C=100, gamma=0.001, kernel=rbf;, score=0.638 total time=   0.0s\n",
      "[CV 5/5] END ....C=100, gamma=0.001, kernel=rbf;, score=0.646 total time=   0.0s\n",
      "[CV 1/5] END ...C=100, gamma=0.0001, kernel=rbf;, score=0.786 total time=   0.0s\n",
      "[CV 2/5] END ...C=100, gamma=0.0001, kernel=rbf;, score=0.777 total time=   0.0s\n",
      "[CV 3/5] END ...C=100, gamma=0.0001, kernel=rbf;, score=0.769 total time=   0.0s\n",
      "[CV 4/5] END ...C=100, gamma=0.0001, kernel=rbf;, score=0.754 total time=   0.0s\n",
      "[CV 5/5] END ...C=100, gamma=0.0001, kernel=rbf;, score=0.746 total time=   0.0s\n",
      "[CV 1/5] END .......C=1000, gamma=1, kernel=rbf;, score=0.618 total time=   0.0s\n",
      "[CV 2/5] END .......C=1000, gamma=1, kernel=rbf;, score=0.615 total time=   0.0s\n"
     ]
    },
    {
     "name": "stdout",
     "output_type": "stream",
     "text": [
      "[CV 3/5] END .......C=1000, gamma=1, kernel=rbf;, score=0.615 total time=   0.0s\n",
      "[CV 4/5] END .......C=1000, gamma=1, kernel=rbf;, score=0.615 total time=   0.0s\n",
      "[CV 5/5] END .......C=1000, gamma=1, kernel=rbf;, score=0.615 total time=   0.0s\n",
      "[CV 1/5] END .....C=1000, gamma=0.1, kernel=rbf;, score=0.618 total time=   0.0s\n",
      "[CV 2/5] END .....C=1000, gamma=0.1, kernel=rbf;, score=0.615 total time=   0.0s\n",
      "[CV 3/5] END .....C=1000, gamma=0.1, kernel=rbf;, score=0.615 total time=   0.0s\n",
      "[CV 4/5] END .....C=1000, gamma=0.1, kernel=rbf;, score=0.615 total time=   0.0s\n",
      "[CV 5/5] END .....C=1000, gamma=0.1, kernel=rbf;, score=0.615 total time=   0.0s\n",
      "[CV 1/5] END ....C=1000, gamma=0.01, kernel=rbf;, score=0.618 total time=   0.0s\n",
      "[CV 2/5] END ....C=1000, gamma=0.01, kernel=rbf;, score=0.615 total time=   0.0s\n",
      "[CV 3/5] END ....C=1000, gamma=0.01, kernel=rbf;, score=0.615 total time=   0.0s\n",
      "[CV 4/5] END ....C=1000, gamma=0.01, kernel=rbf;, score=0.615 total time=   0.0s\n",
      "[CV 5/5] END ....C=1000, gamma=0.01, kernel=rbf;, score=0.615 total time=   0.0s\n",
      "[CV 1/5] END ...C=1000, gamma=0.001, kernel=rbf;, score=0.672 total time=   0.0s\n",
      "[CV 2/5] END ...C=1000, gamma=0.001, kernel=rbf;, score=0.685 total time=   0.0s\n",
      "[CV 3/5] END ...C=1000, gamma=0.001, kernel=rbf;, score=0.669 total time=   0.0s\n",
      "[CV 4/5] END ...C=1000, gamma=0.001, kernel=rbf;, score=0.638 total time=   0.0s\n",
      "[CV 5/5] END ...C=1000, gamma=0.001, kernel=rbf;, score=0.646 total time=   0.0s\n",
      "[CV 1/5] END ..C=1000, gamma=0.0001, kernel=rbf;, score=0.786 total time=   0.0s\n",
      "[CV 2/5] END ..C=1000, gamma=0.0001, kernel=rbf;, score=0.777 total time=   0.0s\n",
      "[CV 3/5] END ..C=1000, gamma=0.0001, kernel=rbf;, score=0.769 total time=   0.0s\n",
      "[CV 4/5] END ..C=1000, gamma=0.0001, kernel=rbf;, score=0.754 total time=   0.0s\n",
      "[CV 5/5] END ..C=1000, gamma=0.0001, kernel=rbf;, score=0.746 total time=   0.0s\n"
     ]
    },
    {
     "data": {
      "text/plain": [
       "GridSearchCV(estimator=SVC(),\n",
       "             param_grid={'C': [0.1, 1, 10, 100, 1000],\n",
       "                         'gamma': [1, 0.1, 0.01, 0.001, 0.0001],\n",
       "                         'kernel': ['rbf']},\n",
       "             verbose=3)"
      ]
     },
     "execution_count": 51,
     "metadata": {},
     "output_type": "execute_result"
    }
   ],
   "source": [
    "svm_17 = GridSearchCV(svm,param_grid,refit = True, verbose = 3)\n",
    "svm_17.fit(X_17_train, y_17_train)\n"
   ]
  },
  {
   "cell_type": "code",
   "execution_count": 52,
   "id": "d3def857",
   "metadata": {},
   "outputs": [
    {
     "name": "stdout",
     "output_type": "stream",
     "text": [
      "Fitting 5 folds for each of 25 candidates, totalling 125 fits\n",
      "[CV 1/5] END ........C=0.1, gamma=1, kernel=rbf;, score=0.636 total time=   0.0s\n",
      "[CV 2/5] END ........C=0.1, gamma=1, kernel=rbf;, score=0.636 total time=   0.0s\n",
      "[CV 3/5] END ........C=0.1, gamma=1, kernel=rbf;, score=0.644 total time=   0.0s\n",
      "[CV 4/5] END ........C=0.1, gamma=1, kernel=rbf;, score=0.644 total time=   0.0s\n",
      "[CV 5/5] END ........C=0.1, gamma=1, kernel=rbf;, score=0.641 total time=   0.0s\n",
      "[CV 1/5] END ......C=0.1, gamma=0.1, kernel=rbf;, score=0.636 total time=   0.0s\n",
      "[CV 2/5] END ......C=0.1, gamma=0.1, kernel=rbf;, score=0.636 total time=   0.0s\n",
      "[CV 3/5] END ......C=0.1, gamma=0.1, kernel=rbf;, score=0.644 total time=   0.0s\n",
      "[CV 4/5] END ......C=0.1, gamma=0.1, kernel=rbf;, score=0.644 total time=   0.0s\n",
      "[CV 5/5] END ......C=0.1, gamma=0.1, kernel=rbf;, score=0.641 total time=   0.0s\n",
      "[CV 1/5] END .....C=0.1, gamma=0.01, kernel=rbf;, score=0.636 total time=   0.0s\n",
      "[CV 2/5] END .....C=0.1, gamma=0.01, kernel=rbf;, score=0.636 total time=   0.0s\n",
      "[CV 3/5] END .....C=0.1, gamma=0.01, kernel=rbf;, score=0.644 total time=   0.0s\n",
      "[CV 4/5] END .....C=0.1, gamma=0.01, kernel=rbf;, score=0.644 total time=   0.0s\n",
      "[CV 5/5] END .....C=0.1, gamma=0.01, kernel=rbf;, score=0.641 total time=   0.0s\n",
      "[CV 1/5] END ....C=0.1, gamma=0.001, kernel=rbf;, score=0.636 total time=   0.0s\n",
      "[CV 2/5] END ....C=0.1, gamma=0.001, kernel=rbf;, score=0.636 total time=   0.0s\n",
      "[CV 3/5] END ....C=0.1, gamma=0.001, kernel=rbf;, score=0.644 total time=   0.0s\n",
      "[CV 4/5] END ....C=0.1, gamma=0.001, kernel=rbf;, score=0.644 total time=   0.0s\n",
      "[CV 5/5] END ....C=0.1, gamma=0.001, kernel=rbf;, score=0.641 total time=   0.0s\n",
      "[CV 1/5] END ...C=0.1, gamma=0.0001, kernel=rbf;, score=0.742 total time=   0.0s\n",
      "[CV 2/5] END ...C=0.1, gamma=0.0001, kernel=rbf;, score=0.712 total time=   0.0s\n",
      "[CV 3/5] END ...C=0.1, gamma=0.0001, kernel=rbf;, score=0.712 total time=   0.0s\n",
      "[CV 4/5] END ...C=0.1, gamma=0.0001, kernel=rbf;, score=0.712 total time=   0.0s\n",
      "[CV 5/5] END ...C=0.1, gamma=0.0001, kernel=rbf;, score=0.740 total time=   0.0s\n",
      "[CV 1/5] END ..........C=1, gamma=1, kernel=rbf;, score=0.636 total time=   0.0s\n",
      "[CV 2/5] END ..........C=1, gamma=1, kernel=rbf;, score=0.636 total time=   0.0s\n",
      "[CV 3/5] END ..........C=1, gamma=1, kernel=rbf;, score=0.644 total time=   0.0s\n",
      "[CV 4/5] END ..........C=1, gamma=1, kernel=rbf;, score=0.644 total time=   0.0s\n",
      "[CV 5/5] END ..........C=1, gamma=1, kernel=rbf;, score=0.641 total time=   0.0s\n",
      "[CV 1/5] END ........C=1, gamma=0.1, kernel=rbf;, score=0.636 total time=   0.0s\n",
      "[CV 2/5] END ........C=1, gamma=0.1, kernel=rbf;, score=0.636 total time=   0.0s\n",
      "[CV 3/5] END ........C=1, gamma=0.1, kernel=rbf;, score=0.644 total time=   0.0s\n",
      "[CV 4/5] END ........C=1, gamma=0.1, kernel=rbf;, score=0.644 total time=   0.0s\n",
      "[CV 5/5] END ........C=1, gamma=0.1, kernel=rbf;, score=0.641 total time=   0.0s\n",
      "[CV 1/5] END .......C=1, gamma=0.01, kernel=rbf;, score=0.636 total time=   0.0s\n",
      "[CV 2/5] END .......C=1, gamma=0.01, kernel=rbf;, score=0.636 total time=   0.0s\n",
      "[CV 3/5] END .......C=1, gamma=0.01, kernel=rbf;, score=0.644 total time=   0.0s\n",
      "[CV 4/5] END .......C=1, gamma=0.01, kernel=rbf;, score=0.644 total time=   0.0s\n",
      "[CV 5/5] END .......C=1, gamma=0.01, kernel=rbf;, score=0.641 total time=   0.0s\n",
      "[CV 1/5] END ......C=1, gamma=0.001, kernel=rbf;, score=0.682 total time=   0.0s\n",
      "[CV 2/5] END ......C=1, gamma=0.001, kernel=rbf;, score=0.659 total time=   0.0s\n",
      "[CV 3/5] END ......C=1, gamma=0.001, kernel=rbf;, score=0.674 total time=   0.0s\n",
      "[CV 4/5] END ......C=1, gamma=0.001, kernel=rbf;, score=0.659 total time=   0.0s\n",
      "[CV 5/5] END ......C=1, gamma=0.001, kernel=rbf;, score=0.649 total time=   0.0s\n",
      "[CV 1/5] END .....C=1, gamma=0.0001, kernel=rbf;, score=0.780 total time=   0.0s\n",
      "[CV 2/5] END .....C=1, gamma=0.0001, kernel=rbf;, score=0.780 total time=   0.0s\n",
      "[CV 3/5] END .....C=1, gamma=0.0001, kernel=rbf;, score=0.826 total time=   0.0s\n",
      "[CV 4/5] END .....C=1, gamma=0.0001, kernel=rbf;, score=0.795 total time=   0.0s\n",
      "[CV 5/5] END .....C=1, gamma=0.0001, kernel=rbf;, score=0.847 total time=   0.0s\n",
      "[CV 1/5] END .........C=10, gamma=1, kernel=rbf;, score=0.636 total time=   0.0s\n",
      "[CV 2/5] END .........C=10, gamma=1, kernel=rbf;, score=0.636 total time=   0.0s\n",
      "[CV 3/5] END .........C=10, gamma=1, kernel=rbf;, score=0.644 total time=   0.0s\n",
      "[CV 4/5] END .........C=10, gamma=1, kernel=rbf;, score=0.644 total time=   0.0s\n",
      "[CV 5/5] END .........C=10, gamma=1, kernel=rbf;, score=0.641 total time=   0.0s\n",
      "[CV 1/5] END .......C=10, gamma=0.1, kernel=rbf;, score=0.636 total time=   0.0s\n",
      "[CV 2/5] END .......C=10, gamma=0.1, kernel=rbf;, score=0.636 total time=   0.0s\n",
      "[CV 3/5] END .......C=10, gamma=0.1, kernel=rbf;, score=0.644 total time=   0.0s\n",
      "[CV 4/5] END .......C=10, gamma=0.1, kernel=rbf;, score=0.644 total time=   0.0s\n",
      "[CV 5/5] END .......C=10, gamma=0.1, kernel=rbf;, score=0.641 total time=   0.0s\n",
      "[CV 1/5] END ......C=10, gamma=0.01, kernel=rbf;, score=0.636 total time=   0.0s\n",
      "[CV 2/5] END ......C=10, gamma=0.01, kernel=rbf;, score=0.636 total time=   0.0s\n",
      "[CV 3/5] END ......C=10, gamma=0.01, kernel=rbf;, score=0.644 total time=   0.0s\n",
      "[CV 4/5] END ......C=10, gamma=0.01, kernel=rbf;, score=0.644 total time=   0.0s\n",
      "[CV 5/5] END ......C=10, gamma=0.01, kernel=rbf;, score=0.641 total time=   0.0s\n",
      "[CV 1/5] END .....C=10, gamma=0.001, kernel=rbf;, score=0.689 total time=   0.0s\n",
      "[CV 2/5] END .....C=10, gamma=0.001, kernel=rbf;, score=0.682 total time=   0.0s\n",
      "[CV 3/5] END .....C=10, gamma=0.001, kernel=rbf;, score=0.705 total time=   0.0s\n",
      "[CV 4/5] END .....C=10, gamma=0.001, kernel=rbf;, score=0.674 total time=   0.0s\n",
      "[CV 5/5] END .....C=10, gamma=0.001, kernel=rbf;, score=0.672 total time=   0.0s\n",
      "[CV 1/5] END ....C=10, gamma=0.0001, kernel=rbf;, score=0.788 total time=   0.0s\n",
      "[CV 2/5] END ....C=10, gamma=0.0001, kernel=rbf;, score=0.811 total time=   0.0s\n",
      "[CV 3/5] END ....C=10, gamma=0.0001, kernel=rbf;, score=0.818 total time=   0.0s\n",
      "[CV 4/5] END ....C=10, gamma=0.0001, kernel=rbf;, score=0.795 total time=   0.0s\n",
      "[CV 5/5] END ....C=10, gamma=0.0001, kernel=rbf;, score=0.794 total time=   0.0s\n",
      "[CV 1/5] END ........C=100, gamma=1, kernel=rbf;, score=0.636 total time=   0.0s\n",
      "[CV 2/5] END ........C=100, gamma=1, kernel=rbf;, score=0.636 total time=   0.0s\n",
      "[CV 3/5] END ........C=100, gamma=1, kernel=rbf;, score=0.644 total time=   0.0s\n",
      "[CV 4/5] END ........C=100, gamma=1, kernel=rbf;, score=0.644 total time=   0.0s\n",
      "[CV 5/5] END ........C=100, gamma=1, kernel=rbf;, score=0.641 total time=   0.0s\n",
      "[CV 1/5] END ......C=100, gamma=0.1, kernel=rbf;, score=0.636 total time=   0.0s\n",
      "[CV 2/5] END ......C=100, gamma=0.1, kernel=rbf;, score=0.636 total time=   0.0s\n",
      "[CV 3/5] END ......C=100, gamma=0.1, kernel=rbf;, score=0.644 total time=   0.0s\n",
      "[CV 4/5] END ......C=100, gamma=0.1, kernel=rbf;, score=0.644 total time=   0.0s\n",
      "[CV 5/5] END ......C=100, gamma=0.1, kernel=rbf;, score=0.641 total time=   0.0s\n",
      "[CV 1/5] END .....C=100, gamma=0.01, kernel=rbf;, score=0.636 total time=   0.0s\n",
      "[CV 2/5] END .....C=100, gamma=0.01, kernel=rbf;, score=0.636 total time=   0.0s\n",
      "[CV 3/5] END .....C=100, gamma=0.01, kernel=rbf;, score=0.644 total time=   0.0s\n",
      "[CV 4/5] END .....C=100, gamma=0.01, kernel=rbf;, score=0.644 total time=   0.0s\n",
      "[CV 5/5] END .....C=100, gamma=0.01, kernel=rbf;, score=0.641 total time=   0.0s\n",
      "[CV 1/5] END ....C=100, gamma=0.001, kernel=rbf;, score=0.689 total time=   0.0s\n",
      "[CV 2/5] END ....C=100, gamma=0.001, kernel=rbf;, score=0.682 total time=   0.0s\n",
      "[CV 3/5] END ....C=100, gamma=0.001, kernel=rbf;, score=0.705 total time=   0.0s\n",
      "[CV 4/5] END ....C=100, gamma=0.001, kernel=rbf;, score=0.674 total time=   0.0s\n",
      "[CV 5/5] END ....C=100, gamma=0.001, kernel=rbf;, score=0.672 total time=   0.0s\n",
      "[CV 1/5] END ...C=100, gamma=0.0001, kernel=rbf;, score=0.811 total time=   0.0s\n",
      "[CV 2/5] END ...C=100, gamma=0.0001, kernel=rbf;, score=0.765 total time=   0.0s\n",
      "[CV 3/5] END ...C=100, gamma=0.0001, kernel=rbf;, score=0.773 total time=   0.0s\n",
      "[CV 4/5] END ...C=100, gamma=0.0001, kernel=rbf;, score=0.758 total time=   0.0s\n",
      "[CV 5/5] END ...C=100, gamma=0.0001, kernel=rbf;, score=0.809 total time=   0.0s\n",
      "[CV 1/5] END .......C=1000, gamma=1, kernel=rbf;, score=0.636 total time=   0.0s\n",
      "[CV 2/5] END .......C=1000, gamma=1, kernel=rbf;, score=0.636 total time=   0.0s\n",
      "[CV 3/5] END .......C=1000, gamma=1, kernel=rbf;, score=0.644 total time=   0.0s\n",
      "[CV 4/5] END .......C=1000, gamma=1, kernel=rbf;, score=0.644 total time=   0.0s\n",
      "[CV 5/5] END .......C=1000, gamma=1, kernel=rbf;, score=0.641 total time=   0.0s\n"
     ]
    },
    {
     "name": "stdout",
     "output_type": "stream",
     "text": [
      "[CV 1/5] END .....C=1000, gamma=0.1, kernel=rbf;, score=0.636 total time=   0.0s\n",
      "[CV 2/5] END .....C=1000, gamma=0.1, kernel=rbf;, score=0.636 total time=   0.0s\n",
      "[CV 3/5] END .....C=1000, gamma=0.1, kernel=rbf;, score=0.644 total time=   0.0s\n",
      "[CV 4/5] END .....C=1000, gamma=0.1, kernel=rbf;, score=0.644 total time=   0.0s\n",
      "[CV 5/5] END .....C=1000, gamma=0.1, kernel=rbf;, score=0.641 total time=   0.0s\n",
      "[CV 1/5] END ....C=1000, gamma=0.01, kernel=rbf;, score=0.636 total time=   0.0s\n",
      "[CV 2/5] END ....C=1000, gamma=0.01, kernel=rbf;, score=0.636 total time=   0.0s\n",
      "[CV 3/5] END ....C=1000, gamma=0.01, kernel=rbf;, score=0.644 total time=   0.0s\n",
      "[CV 4/5] END ....C=1000, gamma=0.01, kernel=rbf;, score=0.644 total time=   0.0s\n",
      "[CV 5/5] END ....C=1000, gamma=0.01, kernel=rbf;, score=0.641 total time=   0.0s\n",
      "[CV 1/5] END ...C=1000, gamma=0.001, kernel=rbf;, score=0.689 total time=   0.0s\n",
      "[CV 2/5] END ...C=1000, gamma=0.001, kernel=rbf;, score=0.682 total time=   0.0s\n",
      "[CV 3/5] END ...C=1000, gamma=0.001, kernel=rbf;, score=0.705 total time=   0.0s\n",
      "[CV 4/5] END ...C=1000, gamma=0.001, kernel=rbf;, score=0.674 total time=   0.0s\n",
      "[CV 5/5] END ...C=1000, gamma=0.001, kernel=rbf;, score=0.672 total time=   0.0s\n",
      "[CV 1/5] END ..C=1000, gamma=0.0001, kernel=rbf;, score=0.811 total time=   0.0s\n",
      "[CV 2/5] END ..C=1000, gamma=0.0001, kernel=rbf;, score=0.765 total time=   0.0s\n",
      "[CV 3/5] END ..C=1000, gamma=0.0001, kernel=rbf;, score=0.773 total time=   0.0s\n",
      "[CV 4/5] END ..C=1000, gamma=0.0001, kernel=rbf;, score=0.758 total time=   0.0s\n",
      "[CV 5/5] END ..C=1000, gamma=0.0001, kernel=rbf;, score=0.809 total time=   0.0s\n"
     ]
    },
    {
     "data": {
      "text/plain": [
       "GridSearchCV(estimator=SVC(),\n",
       "             param_grid={'C': [0.1, 1, 10, 100, 1000],\n",
       "                         'gamma': [1, 0.1, 0.01, 0.001, 0.0001],\n",
       "                         'kernel': ['rbf']},\n",
       "             verbose=3)"
      ]
     },
     "execution_count": 52,
     "metadata": {},
     "output_type": "execute_result"
    }
   ],
   "source": [
    "svm_18 = GridSearchCV(svm,param_grid,refit = True, verbose = 3)\n",
    "svm_18.fit(X_18_train, y_18_train)\n"
   ]
  },
  {
   "cell_type": "code",
   "execution_count": 53,
   "id": "85b8d4d6",
   "metadata": {},
   "outputs": [
    {
     "name": "stdout",
     "output_type": "stream",
     "text": [
      "Fitting 5 folds for each of 25 candidates, totalling 125 fits\n",
      "[CV 1/5] END ........C=0.1, gamma=1, kernel=rbf;, score=0.652 total time=   0.0s\n",
      "[CV 2/5] END ........C=0.1, gamma=1, kernel=rbf;, score=0.644 total time=   0.0s\n",
      "[CV 3/5] END ........C=0.1, gamma=1, kernel=rbf;, score=0.644 total time=   0.0s\n",
      "[CV 4/5] END ........C=0.1, gamma=1, kernel=rbf;, score=0.644 total time=   0.0s\n",
      "[CV 5/5] END ........C=0.1, gamma=1, kernel=rbf;, score=0.644 total time=   0.0s\n",
      "[CV 1/5] END ......C=0.1, gamma=0.1, kernel=rbf;, score=0.652 total time=   0.0s\n",
      "[CV 2/5] END ......C=0.1, gamma=0.1, kernel=rbf;, score=0.644 total time=   0.0s\n",
      "[CV 3/5] END ......C=0.1, gamma=0.1, kernel=rbf;, score=0.644 total time=   0.0s\n",
      "[CV 4/5] END ......C=0.1, gamma=0.1, kernel=rbf;, score=0.644 total time=   0.0s\n",
      "[CV 5/5] END ......C=0.1, gamma=0.1, kernel=rbf;, score=0.644 total time=   0.0s\n",
      "[CV 1/5] END .....C=0.1, gamma=0.01, kernel=rbf;, score=0.652 total time=   0.0s\n",
      "[CV 2/5] END .....C=0.1, gamma=0.01, kernel=rbf;, score=0.644 total time=   0.0s\n",
      "[CV 3/5] END .....C=0.1, gamma=0.01, kernel=rbf;, score=0.644 total time=   0.0s\n",
      "[CV 4/5] END .....C=0.1, gamma=0.01, kernel=rbf;, score=0.644 total time=   0.0s\n",
      "[CV 5/5] END .....C=0.1, gamma=0.01, kernel=rbf;, score=0.644 total time=   0.0s\n",
      "[CV 1/5] END ....C=0.1, gamma=0.001, kernel=rbf;, score=0.652 total time=   0.0s\n",
      "[CV 2/5] END ....C=0.1, gamma=0.001, kernel=rbf;, score=0.644 total time=   0.0s\n",
      "[CV 3/5] END ....C=0.1, gamma=0.001, kernel=rbf;, score=0.644 total time=   0.0s\n",
      "[CV 4/5] END ....C=0.1, gamma=0.001, kernel=rbf;, score=0.644 total time=   0.0s\n",
      "[CV 5/5] END ....C=0.1, gamma=0.001, kernel=rbf;, score=0.644 total time=   0.0s\n",
      "[CV 1/5] END ...C=0.1, gamma=0.0001, kernel=rbf;, score=0.712 total time=   0.0s\n",
      "[CV 2/5] END ...C=0.1, gamma=0.0001, kernel=rbf;, score=0.705 total time=   0.0s\n",
      "[CV 3/5] END ...C=0.1, gamma=0.0001, kernel=rbf;, score=0.720 total time=   0.0s\n",
      "[CV 4/5] END ...C=0.1, gamma=0.0001, kernel=rbf;, score=0.712 total time=   0.0s\n",
      "[CV 5/5] END ...C=0.1, gamma=0.0001, kernel=rbf;, score=0.689 total time=   0.0s\n",
      "[CV 1/5] END ..........C=1, gamma=1, kernel=rbf;, score=0.652 total time=   0.0s\n",
      "[CV 2/5] END ..........C=1, gamma=1, kernel=rbf;, score=0.644 total time=   0.0s\n",
      "[CV 3/5] END ..........C=1, gamma=1, kernel=rbf;, score=0.644 total time=   0.0s\n",
      "[CV 4/5] END ..........C=1, gamma=1, kernel=rbf;, score=0.644 total time=   0.0s\n",
      "[CV 5/5] END ..........C=1, gamma=1, kernel=rbf;, score=0.644 total time=   0.0s\n",
      "[CV 1/5] END ........C=1, gamma=0.1, kernel=rbf;, score=0.652 total time=   0.0s\n",
      "[CV 2/5] END ........C=1, gamma=0.1, kernel=rbf;, score=0.644 total time=   0.0s\n",
      "[CV 3/5] END ........C=1, gamma=0.1, kernel=rbf;, score=0.644 total time=   0.0s\n",
      "[CV 4/5] END ........C=1, gamma=0.1, kernel=rbf;, score=0.644 total time=   0.0s\n",
      "[CV 5/5] END ........C=1, gamma=0.1, kernel=rbf;, score=0.644 total time=   0.0s\n",
      "[CV 1/5] END .......C=1, gamma=0.01, kernel=rbf;, score=0.652 total time=   0.0s\n",
      "[CV 2/5] END .......C=1, gamma=0.01, kernel=rbf;, score=0.644 total time=   0.0s\n",
      "[CV 3/5] END .......C=1, gamma=0.01, kernel=rbf;, score=0.644 total time=   0.0s\n",
      "[CV 4/5] END .......C=1, gamma=0.01, kernel=rbf;, score=0.644 total time=   0.0s\n",
      "[CV 5/5] END .......C=1, gamma=0.01, kernel=rbf;, score=0.644 total time=   0.0s\n",
      "[CV 1/5] END ......C=1, gamma=0.001, kernel=rbf;, score=0.682 total time=   0.0s\n",
      "[CV 2/5] END ......C=1, gamma=0.001, kernel=rbf;, score=0.659 total time=   0.0s\n",
      "[CV 3/5] END ......C=1, gamma=0.001, kernel=rbf;, score=0.667 total time=   0.0s\n",
      "[CV 4/5] END ......C=1, gamma=0.001, kernel=rbf;, score=0.667 total time=   0.0s\n",
      "[CV 5/5] END ......C=1, gamma=0.001, kernel=rbf;, score=0.667 total time=   0.0s\n",
      "[CV 1/5] END .....C=1, gamma=0.0001, kernel=rbf;, score=0.803 total time=   0.0s\n",
      "[CV 2/5] END .....C=1, gamma=0.0001, kernel=rbf;, score=0.795 total time=   0.0s\n",
      "[CV 3/5] END .....C=1, gamma=0.0001, kernel=rbf;, score=0.818 total time=   0.0s\n",
      "[CV 4/5] END .....C=1, gamma=0.0001, kernel=rbf;, score=0.735 total time=   0.0s\n",
      "[CV 5/5] END .....C=1, gamma=0.0001, kernel=rbf;, score=0.811 total time=   0.0s\n",
      "[CV 1/5] END .........C=10, gamma=1, kernel=rbf;, score=0.652 total time=   0.0s\n",
      "[CV 2/5] END .........C=10, gamma=1, kernel=rbf;, score=0.644 total time=   0.0s\n",
      "[CV 3/5] END .........C=10, gamma=1, kernel=rbf;, score=0.644 total time=   0.0s\n",
      "[CV 4/5] END .........C=10, gamma=1, kernel=rbf;, score=0.644 total time=   0.0s\n",
      "[CV 5/5] END .........C=10, gamma=1, kernel=rbf;, score=0.644 total time=   0.0s\n",
      "[CV 1/5] END .......C=10, gamma=0.1, kernel=rbf;, score=0.652 total time=   0.0s\n",
      "[CV 2/5] END .......C=10, gamma=0.1, kernel=rbf;, score=0.644 total time=   0.0s\n",
      "[CV 3/5] END .......C=10, gamma=0.1, kernel=rbf;, score=0.644 total time=   0.0s\n",
      "[CV 4/5] END .......C=10, gamma=0.1, kernel=rbf;, score=0.644 total time=   0.0s\n",
      "[CV 5/5] END .......C=10, gamma=0.1, kernel=rbf;, score=0.644 total time=   0.0s\n",
      "[CV 1/5] END ......C=10, gamma=0.01, kernel=rbf;, score=0.652 total time=   0.0s\n",
      "[CV 2/5] END ......C=10, gamma=0.01, kernel=rbf;, score=0.644 total time=   0.0s\n",
      "[CV 3/5] END ......C=10, gamma=0.01, kernel=rbf;, score=0.644 total time=   0.0s\n",
      "[CV 4/5] END ......C=10, gamma=0.01, kernel=rbf;, score=0.644 total time=   0.0s\n",
      "[CV 5/5] END ......C=10, gamma=0.01, kernel=rbf;, score=0.644 total time=   0.0s\n",
      "[CV 1/5] END .....C=10, gamma=0.001, kernel=rbf;, score=0.712 total time=   0.0s\n",
      "[CV 2/5] END .....C=10, gamma=0.001, kernel=rbf;, score=0.659 total time=   0.0s\n",
      "[CV 3/5] END .....C=10, gamma=0.001, kernel=rbf;, score=0.682 total time=   0.0s\n",
      "[CV 4/5] END .....C=10, gamma=0.001, kernel=rbf;, score=0.697 total time=   0.0s\n",
      "[CV 5/5] END .....C=10, gamma=0.001, kernel=rbf;, score=0.697 total time=   0.0s\n",
      "[CV 1/5] END ....C=10, gamma=0.0001, kernel=rbf;, score=0.864 total time=   0.0s\n",
      "[CV 2/5] END ....C=10, gamma=0.0001, kernel=rbf;, score=0.811 total time=   0.0s\n",
      "[CV 3/5] END ....C=10, gamma=0.0001, kernel=rbf;, score=0.818 total time=   0.0s\n",
      "[CV 4/5] END ....C=10, gamma=0.0001, kernel=rbf;, score=0.773 total time=   0.0s\n",
      "[CV 5/5] END ....C=10, gamma=0.0001, kernel=rbf;, score=0.811 total time=   0.0s\n",
      "[CV 1/5] END ........C=100, gamma=1, kernel=rbf;, score=0.652 total time=   0.0s\n",
      "[CV 2/5] END ........C=100, gamma=1, kernel=rbf;, score=0.644 total time=   0.0s\n",
      "[CV 3/5] END ........C=100, gamma=1, kernel=rbf;, score=0.644 total time=   0.0s\n",
      "[CV 4/5] END ........C=100, gamma=1, kernel=rbf;, score=0.644 total time=   0.0s\n",
      "[CV 5/5] END ........C=100, gamma=1, kernel=rbf;, score=0.644 total time=   0.0s\n",
      "[CV 1/5] END ......C=100, gamma=0.1, kernel=rbf;, score=0.652 total time=   0.0s\n",
      "[CV 2/5] END ......C=100, gamma=0.1, kernel=rbf;, score=0.644 total time=   0.0s\n",
      "[CV 3/5] END ......C=100, gamma=0.1, kernel=rbf;, score=0.644 total time=   0.0s\n",
      "[CV 4/5] END ......C=100, gamma=0.1, kernel=rbf;, score=0.644 total time=   0.0s\n",
      "[CV 5/5] END ......C=100, gamma=0.1, kernel=rbf;, score=0.644 total time=   0.0s\n",
      "[CV 1/5] END .....C=100, gamma=0.01, kernel=rbf;, score=0.652 total time=   0.0s\n",
      "[CV 2/5] END .....C=100, gamma=0.01, kernel=rbf;, score=0.644 total time=   0.0s\n",
      "[CV 3/5] END .....C=100, gamma=0.01, kernel=rbf;, score=0.644 total time=   0.0s\n",
      "[CV 4/5] END .....C=100, gamma=0.01, kernel=rbf;, score=0.644 total time=   0.0s\n",
      "[CV 5/5] END .....C=100, gamma=0.01, kernel=rbf;, score=0.644 total time=   0.0s\n",
      "[CV 1/5] END ....C=100, gamma=0.001, kernel=rbf;, score=0.712 total time=   0.0s\n",
      "[CV 2/5] END ....C=100, gamma=0.001, kernel=rbf;, score=0.659 total time=   0.0s\n",
      "[CV 3/5] END ....C=100, gamma=0.001, kernel=rbf;, score=0.682 total time=   0.0s\n",
      "[CV 4/5] END ....C=100, gamma=0.001, kernel=rbf;, score=0.697 total time=   0.0s\n",
      "[CV 5/5] END ....C=100, gamma=0.001, kernel=rbf;, score=0.697 total time=   0.0s\n",
      "[CV 1/5] END ...C=100, gamma=0.0001, kernel=rbf;, score=0.826 total time=   0.0s\n",
      "[CV 2/5] END ...C=100, gamma=0.0001, kernel=rbf;, score=0.818 total time=   0.0s\n",
      "[CV 3/5] END ...C=100, gamma=0.0001, kernel=rbf;, score=0.811 total time=   0.0s\n",
      "[CV 4/5] END ...C=100, gamma=0.0001, kernel=rbf;, score=0.773 total time=   0.0s\n",
      "[CV 5/5] END ...C=100, gamma=0.0001, kernel=rbf;, score=0.803 total time=   0.0s\n",
      "[CV 1/5] END .......C=1000, gamma=1, kernel=rbf;, score=0.652 total time=   0.0s\n",
      "[CV 2/5] END .......C=1000, gamma=1, kernel=rbf;, score=0.644 total time=   0.0s\n",
      "[CV 3/5] END .......C=1000, gamma=1, kernel=rbf;, score=0.644 total time=   0.0s\n",
      "[CV 4/5] END .......C=1000, gamma=1, kernel=rbf;, score=0.644 total time=   0.0s\n",
      "[CV 5/5] END .......C=1000, gamma=1, kernel=rbf;, score=0.644 total time=   0.0s\n",
      "[CV 1/5] END .....C=1000, gamma=0.1, kernel=rbf;, score=0.652 total time=   0.0s\n",
      "[CV 2/5] END .....C=1000, gamma=0.1, kernel=rbf;, score=0.644 total time=   0.0s\n"
     ]
    },
    {
     "name": "stdout",
     "output_type": "stream",
     "text": [
      "[CV 3/5] END .....C=1000, gamma=0.1, kernel=rbf;, score=0.644 total time=   0.0s\n",
      "[CV 4/5] END .....C=1000, gamma=0.1, kernel=rbf;, score=0.644 total time=   0.0s\n",
      "[CV 5/5] END .....C=1000, gamma=0.1, kernel=rbf;, score=0.644 total time=   0.0s\n",
      "[CV 1/5] END ....C=1000, gamma=0.01, kernel=rbf;, score=0.652 total time=   0.0s\n",
      "[CV 2/5] END ....C=1000, gamma=0.01, kernel=rbf;, score=0.644 total time=   0.0s\n",
      "[CV 3/5] END ....C=1000, gamma=0.01, kernel=rbf;, score=0.644 total time=   0.0s\n",
      "[CV 4/5] END ....C=1000, gamma=0.01, kernel=rbf;, score=0.644 total time=   0.0s\n",
      "[CV 5/5] END ....C=1000, gamma=0.01, kernel=rbf;, score=0.644 total time=   0.0s\n",
      "[CV 1/5] END ...C=1000, gamma=0.001, kernel=rbf;, score=0.712 total time=   0.0s\n",
      "[CV 2/5] END ...C=1000, gamma=0.001, kernel=rbf;, score=0.659 total time=   0.0s\n",
      "[CV 3/5] END ...C=1000, gamma=0.001, kernel=rbf;, score=0.682 total time=   0.0s\n",
      "[CV 4/5] END ...C=1000, gamma=0.001, kernel=rbf;, score=0.697 total time=   0.0s\n",
      "[CV 5/5] END ...C=1000, gamma=0.001, kernel=rbf;, score=0.697 total time=   0.0s\n",
      "[CV 1/5] END ..C=1000, gamma=0.0001, kernel=rbf;, score=0.826 total time=   0.0s\n",
      "[CV 2/5] END ..C=1000, gamma=0.0001, kernel=rbf;, score=0.826 total time=   0.0s\n",
      "[CV 3/5] END ..C=1000, gamma=0.0001, kernel=rbf;, score=0.811 total time=   0.0s\n",
      "[CV 4/5] END ..C=1000, gamma=0.0001, kernel=rbf;, score=0.773 total time=   0.0s\n",
      "[CV 5/5] END ..C=1000, gamma=0.0001, kernel=rbf;, score=0.795 total time=   0.0s\n"
     ]
    },
    {
     "data": {
      "text/plain": [
       "GridSearchCV(estimator=SVC(),\n",
       "             param_grid={'C': [0.1, 1, 10, 100, 1000],\n",
       "                         'gamma': [1, 0.1, 0.01, 0.001, 0.0001],\n",
       "                         'kernel': ['rbf']},\n",
       "             verbose=3)"
      ]
     },
     "execution_count": 53,
     "metadata": {},
     "output_type": "execute_result"
    }
   ],
   "source": [
    "svm_19 = GridSearchCV(svm,param_grid,refit = True, verbose = 3)\n",
    "svm_19.fit(X_19_train, y_19_train)\n"
   ]
  },
  {
   "cell_type": "code",
   "execution_count": 54,
   "id": "92ac13c2",
   "metadata": {},
   "outputs": [
    {
     "name": "stdout",
     "output_type": "stream",
     "text": [
      "Fitting 5 folds for each of 25 candidates, totalling 125 fits\n",
      "[CV 1/5] END ........C=0.1, gamma=1, kernel=rbf;, score=0.579 total time=   0.0s\n",
      "[CV 2/5] END ........C=0.1, gamma=1, kernel=rbf;, score=0.592 total time=   0.0s\n",
      "[CV 3/5] END ........C=0.1, gamma=1, kernel=rbf;, score=0.592 total time=   0.0s\n",
      "[CV 4/5] END ........C=0.1, gamma=1, kernel=rbf;, score=0.592 total time=   0.0s\n",
      "[CV 5/5] END ........C=0.1, gamma=1, kernel=rbf;, score=0.592 total time=   0.0s\n",
      "[CV 1/5] END ......C=0.1, gamma=0.1, kernel=rbf;, score=0.579 total time=   0.0s\n",
      "[CV 2/5] END ......C=0.1, gamma=0.1, kernel=rbf;, score=0.592 total time=   0.0s\n",
      "[CV 3/5] END ......C=0.1, gamma=0.1, kernel=rbf;, score=0.592 total time=   0.0s\n",
      "[CV 4/5] END ......C=0.1, gamma=0.1, kernel=rbf;, score=0.592 total time=   0.0s\n",
      "[CV 5/5] END ......C=0.1, gamma=0.1, kernel=rbf;, score=0.592 total time=   0.0s\n",
      "[CV 1/5] END .....C=0.1, gamma=0.01, kernel=rbf;, score=0.579 total time=   0.0s\n",
      "[CV 2/5] END .....C=0.1, gamma=0.01, kernel=rbf;, score=0.592 total time=   0.0s\n",
      "[CV 3/5] END .....C=0.1, gamma=0.01, kernel=rbf;, score=0.592 total time=   0.0s\n",
      "[CV 4/5] END .....C=0.1, gamma=0.01, kernel=rbf;, score=0.592 total time=   0.0s\n",
      "[CV 5/5] END .....C=0.1, gamma=0.01, kernel=rbf;, score=0.592 total time=   0.0s\n",
      "[CV 1/5] END ....C=0.1, gamma=0.001, kernel=rbf;, score=0.579 total time=   0.0s\n",
      "[CV 2/5] END ....C=0.1, gamma=0.001, kernel=rbf;, score=0.592 total time=   0.0s\n",
      "[CV 3/5] END ....C=0.1, gamma=0.001, kernel=rbf;, score=0.592 total time=   0.0s\n",
      "[CV 4/5] END ....C=0.1, gamma=0.001, kernel=rbf;, score=0.592 total time=   0.0s\n",
      "[CV 5/5] END ....C=0.1, gamma=0.001, kernel=rbf;, score=0.592 total time=   0.0s\n",
      "[CV 1/5] END ...C=0.1, gamma=0.0001, kernel=rbf;, score=0.579 total time=   0.0s\n",
      "[CV 2/5] END ...C=0.1, gamma=0.0001, kernel=rbf;, score=0.592 total time=   0.0s\n",
      "[CV 3/5] END ...C=0.1, gamma=0.0001, kernel=rbf;, score=0.605 total time=   0.0s\n",
      "[CV 4/5] END ...C=0.1, gamma=0.0001, kernel=rbf;, score=0.579 total time=   0.0s\n",
      "[CV 5/5] END ...C=0.1, gamma=0.0001, kernel=rbf;, score=0.592 total time=   0.0s\n",
      "[CV 1/5] END ..........C=1, gamma=1, kernel=rbf;, score=0.579 total time=   0.0s\n",
      "[CV 2/5] END ..........C=1, gamma=1, kernel=rbf;, score=0.592 total time=   0.0s\n",
      "[CV 3/5] END ..........C=1, gamma=1, kernel=rbf;, score=0.592 total time=   0.0s\n",
      "[CV 4/5] END ..........C=1, gamma=1, kernel=rbf;, score=0.592 total time=   0.0s\n",
      "[CV 5/5] END ..........C=1, gamma=1, kernel=rbf;, score=0.592 total time=   0.0s\n",
      "[CV 1/5] END ........C=1, gamma=0.1, kernel=rbf;, score=0.579 total time=   0.0s\n",
      "[CV 2/5] END ........C=1, gamma=0.1, kernel=rbf;, score=0.592 total time=   0.0s\n",
      "[CV 3/5] END ........C=1, gamma=0.1, kernel=rbf;, score=0.592 total time=   0.0s\n",
      "[CV 4/5] END ........C=1, gamma=0.1, kernel=rbf;, score=0.592 total time=   0.0s\n",
      "[CV 5/5] END ........C=1, gamma=0.1, kernel=rbf;, score=0.592 total time=   0.0s\n",
      "[CV 1/5] END .......C=1, gamma=0.01, kernel=rbf;, score=0.579 total time=   0.0s\n",
      "[CV 2/5] END .......C=1, gamma=0.01, kernel=rbf;, score=0.592 total time=   0.0s\n",
      "[CV 3/5] END .......C=1, gamma=0.01, kernel=rbf;, score=0.592 total time=   0.0s\n",
      "[CV 4/5] END .......C=1, gamma=0.01, kernel=rbf;, score=0.592 total time=   0.0s\n",
      "[CV 5/5] END .......C=1, gamma=0.01, kernel=rbf;, score=0.592 total time=   0.0s\n",
      "[CV 1/5] END ......C=1, gamma=0.001, kernel=rbf;, score=0.579 total time=   0.0s\n",
      "[CV 2/5] END ......C=1, gamma=0.001, kernel=rbf;, score=0.592 total time=   0.0s\n",
      "[CV 3/5] END ......C=1, gamma=0.001, kernel=rbf;, score=0.592 total time=   0.0s\n",
      "[CV 4/5] END ......C=1, gamma=0.001, kernel=rbf;, score=0.592 total time=   0.0s\n",
      "[CV 5/5] END ......C=1, gamma=0.001, kernel=rbf;, score=0.618 total time=   0.0s\n",
      "[CV 1/5] END .....C=1, gamma=0.0001, kernel=rbf;, score=0.763 total time=   0.0s\n",
      "[CV 2/5] END .....C=1, gamma=0.0001, kernel=rbf;, score=0.750 total time=   0.0s\n",
      "[CV 3/5] END .....C=1, gamma=0.0001, kernel=rbf;, score=0.697 total time=   0.0s\n",
      "[CV 4/5] END .....C=1, gamma=0.0001, kernel=rbf;, score=0.737 total time=   0.0s\n",
      "[CV 5/5] END .....C=1, gamma=0.0001, kernel=rbf;, score=0.671 total time=   0.0s\n",
      "[CV 1/5] END .........C=10, gamma=1, kernel=rbf;, score=0.579 total time=   0.0s\n",
      "[CV 2/5] END .........C=10, gamma=1, kernel=rbf;, score=0.592 total time=   0.0s\n",
      "[CV 3/5] END .........C=10, gamma=1, kernel=rbf;, score=0.592 total time=   0.0s\n",
      "[CV 4/5] END .........C=10, gamma=1, kernel=rbf;, score=0.592 total time=   0.0s\n",
      "[CV 5/5] END .........C=10, gamma=1, kernel=rbf;, score=0.592 total time=   0.0s\n",
      "[CV 1/5] END .......C=10, gamma=0.1, kernel=rbf;, score=0.579 total time=   0.0s\n",
      "[CV 2/5] END .......C=10, gamma=0.1, kernel=rbf;, score=0.592 total time=   0.0s\n",
      "[CV 3/5] END .......C=10, gamma=0.1, kernel=rbf;, score=0.592 total time=   0.0s\n",
      "[CV 4/5] END .......C=10, gamma=0.1, kernel=rbf;, score=0.592 total time=   0.0s\n",
      "[CV 5/5] END .......C=10, gamma=0.1, kernel=rbf;, score=0.592 total time=   0.0s\n",
      "[CV 1/5] END ......C=10, gamma=0.01, kernel=rbf;, score=0.579 total time=   0.0s\n",
      "[CV 2/5] END ......C=10, gamma=0.01, kernel=rbf;, score=0.592 total time=   0.0s\n",
      "[CV 3/5] END ......C=10, gamma=0.01, kernel=rbf;, score=0.592 total time=   0.0s\n",
      "[CV 4/5] END ......C=10, gamma=0.01, kernel=rbf;, score=0.592 total time=   0.0s\n",
      "[CV 5/5] END ......C=10, gamma=0.01, kernel=rbf;, score=0.592 total time=   0.0s\n",
      "[CV 1/5] END .....C=10, gamma=0.001, kernel=rbf;, score=0.605 total time=   0.0s\n",
      "[CV 2/5] END .....C=10, gamma=0.001, kernel=rbf;, score=0.632 total time=   0.0s\n",
      "[CV 3/5] END .....C=10, gamma=0.001, kernel=rbf;, score=0.592 total time=   0.0s\n",
      "[CV 4/5] END .....C=10, gamma=0.001, kernel=rbf;, score=0.592 total time=   0.0s\n",
      "[CV 5/5] END .....C=10, gamma=0.001, kernel=rbf;, score=0.566 total time=   0.0s\n",
      "[CV 1/5] END ....C=10, gamma=0.0001, kernel=rbf;, score=0.776 total time=   0.0s\n",
      "[CV 2/5] END ....C=10, gamma=0.0001, kernel=rbf;, score=0.724 total time=   0.0s\n",
      "[CV 3/5] END ....C=10, gamma=0.0001, kernel=rbf;, score=0.750 total time=   0.0s\n",
      "[CV 4/5] END ....C=10, gamma=0.0001, kernel=rbf;, score=0.776 total time=   0.0s\n",
      "[CV 5/5] END ....C=10, gamma=0.0001, kernel=rbf;, score=0.711 total time=   0.0s\n",
      "[CV 1/5] END ........C=100, gamma=1, kernel=rbf;, score=0.579 total time=   0.0s\n",
      "[CV 2/5] END ........C=100, gamma=1, kernel=rbf;, score=0.592 total time=   0.0s\n",
      "[CV 3/5] END ........C=100, gamma=1, kernel=rbf;, score=0.592 total time=   0.0s\n",
      "[CV 4/5] END ........C=100, gamma=1, kernel=rbf;, score=0.592 total time=   0.0s\n",
      "[CV 5/5] END ........C=100, gamma=1, kernel=rbf;, score=0.592 total time=   0.0s\n",
      "[CV 1/5] END ......C=100, gamma=0.1, kernel=rbf;, score=0.579 total time=   0.0s\n",
      "[CV 2/5] END ......C=100, gamma=0.1, kernel=rbf;, score=0.592 total time=   0.0s\n",
      "[CV 3/5] END ......C=100, gamma=0.1, kernel=rbf;, score=0.592 total time=   0.0s\n",
      "[CV 4/5] END ......C=100, gamma=0.1, kernel=rbf;, score=0.592 total time=   0.0s\n",
      "[CV 5/5] END ......C=100, gamma=0.1, kernel=rbf;, score=0.592 total time=   0.0s\n",
      "[CV 1/5] END .....C=100, gamma=0.01, kernel=rbf;, score=0.579 total time=   0.0s\n",
      "[CV 2/5] END .....C=100, gamma=0.01, kernel=rbf;, score=0.592 total time=   0.0s\n",
      "[CV 3/5] END .....C=100, gamma=0.01, kernel=rbf;, score=0.592 total time=   0.0s\n",
      "[CV 4/5] END .....C=100, gamma=0.01, kernel=rbf;, score=0.592 total time=   0.0s\n",
      "[CV 5/5] END .....C=100, gamma=0.01, kernel=rbf;, score=0.592 total time=   0.0s\n",
      "[CV 1/5] END ....C=100, gamma=0.001, kernel=rbf;, score=0.605 total time=   0.0s\n",
      "[CV 2/5] END ....C=100, gamma=0.001, kernel=rbf;, score=0.632 total time=   0.0s\n",
      "[CV 3/5] END ....C=100, gamma=0.001, kernel=rbf;, score=0.592 total time=   0.0s\n",
      "[CV 4/5] END ....C=100, gamma=0.001, kernel=rbf;, score=0.592 total time=   0.0s\n",
      "[CV 5/5] END ....C=100, gamma=0.001, kernel=rbf;, score=0.566 total time=   0.0s\n",
      "[CV 1/5] END ...C=100, gamma=0.0001, kernel=rbf;, score=0.724 total time=   0.0s\n",
      "[CV 2/5] END ...C=100, gamma=0.0001, kernel=rbf;, score=0.684 total time=   0.0s\n",
      "[CV 3/5] END ...C=100, gamma=0.0001, kernel=rbf;, score=0.671 total time=   0.0s\n",
      "[CV 4/5] END ...C=100, gamma=0.0001, kernel=rbf;, score=0.789 total time=   0.0s\n",
      "[CV 5/5] END ...C=100, gamma=0.0001, kernel=rbf;, score=0.737 total time=   0.0s\n",
      "[CV 1/5] END .......C=1000, gamma=1, kernel=rbf;, score=0.579 total time=   0.0s\n",
      "[CV 2/5] END .......C=1000, gamma=1, kernel=rbf;, score=0.592 total time=   0.0s\n",
      "[CV 3/5] END .......C=1000, gamma=1, kernel=rbf;, score=0.592 total time=   0.0s\n",
      "[CV 4/5] END .......C=1000, gamma=1, kernel=rbf;, score=0.592 total time=   0.0s\n",
      "[CV 5/5] END .......C=1000, gamma=1, kernel=rbf;, score=0.592 total time=   0.0s\n",
      "[CV 1/5] END .....C=1000, gamma=0.1, kernel=rbf;, score=0.579 total time=   0.0s\n",
      "[CV 2/5] END .....C=1000, gamma=0.1, kernel=rbf;, score=0.592 total time=   0.0s\n",
      "[CV 3/5] END .....C=1000, gamma=0.1, kernel=rbf;, score=0.592 total time=   0.0s\n",
      "[CV 4/5] END .....C=1000, gamma=0.1, kernel=rbf;, score=0.592 total time=   0.0s\n",
      "[CV 5/5] END .....C=1000, gamma=0.1, kernel=rbf;, score=0.592 total time=   0.0s\n",
      "[CV 1/5] END ....C=1000, gamma=0.01, kernel=rbf;, score=0.579 total time=   0.0s\n",
      "[CV 2/5] END ....C=1000, gamma=0.01, kernel=rbf;, score=0.592 total time=   0.0s\n",
      "[CV 3/5] END ....C=1000, gamma=0.01, kernel=rbf;, score=0.592 total time=   0.0s\n"
     ]
    },
    {
     "name": "stdout",
     "output_type": "stream",
     "text": [
      "[CV 4/5] END ....C=1000, gamma=0.01, kernel=rbf;, score=0.592 total time=   0.0s\n",
      "[CV 5/5] END ....C=1000, gamma=0.01, kernel=rbf;, score=0.592 total time=   0.0s\n",
      "[CV 1/5] END ...C=1000, gamma=0.001, kernel=rbf;, score=0.605 total time=   0.0s\n",
      "[CV 2/5] END ...C=1000, gamma=0.001, kernel=rbf;, score=0.632 total time=   0.0s\n",
      "[CV 3/5] END ...C=1000, gamma=0.001, kernel=rbf;, score=0.592 total time=   0.0s\n",
      "[CV 4/5] END ...C=1000, gamma=0.001, kernel=rbf;, score=0.592 total time=   0.0s\n",
      "[CV 5/5] END ...C=1000, gamma=0.001, kernel=rbf;, score=0.566 total time=   0.0s\n",
      "[CV 1/5] END ..C=1000, gamma=0.0001, kernel=rbf;, score=0.724 total time=   0.0s\n",
      "[CV 2/5] END ..C=1000, gamma=0.0001, kernel=rbf;, score=0.684 total time=   0.0s\n",
      "[CV 3/5] END ..C=1000, gamma=0.0001, kernel=rbf;, score=0.671 total time=   0.0s\n",
      "[CV 4/5] END ..C=1000, gamma=0.0001, kernel=rbf;, score=0.789 total time=   0.0s\n",
      "[CV 5/5] END ..C=1000, gamma=0.0001, kernel=rbf;, score=0.737 total time=   0.0s\n"
     ]
    },
    {
     "data": {
      "text/plain": [
       "GridSearchCV(estimator=SVC(),\n",
       "             param_grid={'C': [0.1, 1, 10, 100, 1000],\n",
       "                         'gamma': [1, 0.1, 0.01, 0.001, 0.0001],\n",
       "                         'kernel': ['rbf']},\n",
       "             verbose=3)"
      ]
     },
     "execution_count": 54,
     "metadata": {},
     "output_type": "execute_result"
    }
   ],
   "source": [
    "svm_20 = GridSearchCV(svm,param_grid,refit = True, verbose = 3)\n",
    "svm_20.fit(X_20_train, y_20_train)\n"
   ]
  },
  {
   "cell_type": "code",
   "execution_count": 55,
   "id": "3114746d",
   "metadata": {},
   "outputs": [
    {
     "name": "stdout",
     "output_type": "stream",
     "text": [
      "Fitting 5 folds for each of 25 candidates, totalling 125 fits\n",
      "[CV 1/5] END ........C=0.1, gamma=1, kernel=rbf;, score=0.606 total time=   0.0s\n",
      "[CV 2/5] END ........C=0.1, gamma=1, kernel=rbf;, score=0.606 total time=   0.0s\n",
      "[CV 3/5] END ........C=0.1, gamma=1, kernel=rbf;, score=0.606 total time=   0.0s\n",
      "[CV 4/5] END ........C=0.1, gamma=1, kernel=rbf;, score=0.606 total time=   0.0s\n",
      "[CV 5/5] END ........C=0.1, gamma=1, kernel=rbf;, score=0.606 total time=   0.0s\n",
      "[CV 1/5] END ......C=0.1, gamma=0.1, kernel=rbf;, score=0.606 total time=   0.0s\n",
      "[CV 2/5] END ......C=0.1, gamma=0.1, kernel=rbf;, score=0.606 total time=   0.0s\n",
      "[CV 3/5] END ......C=0.1, gamma=0.1, kernel=rbf;, score=0.606 total time=   0.0s\n",
      "[CV 4/5] END ......C=0.1, gamma=0.1, kernel=rbf;, score=0.606 total time=   0.0s\n",
      "[CV 5/5] END ......C=0.1, gamma=0.1, kernel=rbf;, score=0.606 total time=   0.0s\n",
      "[CV 1/5] END .....C=0.1, gamma=0.01, kernel=rbf;, score=0.606 total time=   0.0s\n",
      "[CV 2/5] END .....C=0.1, gamma=0.01, kernel=rbf;, score=0.606 total time=   0.0s\n",
      "[CV 3/5] END .....C=0.1, gamma=0.01, kernel=rbf;, score=0.606 total time=   0.0s\n",
      "[CV 4/5] END .....C=0.1, gamma=0.01, kernel=rbf;, score=0.606 total time=   0.0s\n",
      "[CV 5/5] END .....C=0.1, gamma=0.01, kernel=rbf;, score=0.606 total time=   0.0s\n",
      "[CV 1/5] END ....C=0.1, gamma=0.001, kernel=rbf;, score=0.606 total time=   0.0s\n",
      "[CV 2/5] END ....C=0.1, gamma=0.001, kernel=rbf;, score=0.606 total time=   0.0s\n",
      "[CV 3/5] END ....C=0.1, gamma=0.001, kernel=rbf;, score=0.606 total time=   0.0s\n",
      "[CV 4/5] END ....C=0.1, gamma=0.001, kernel=rbf;, score=0.606 total time=   0.0s\n",
      "[CV 5/5] END ....C=0.1, gamma=0.001, kernel=rbf;, score=0.606 total time=   0.0s\n",
      "[CV 1/5] END ...C=0.1, gamma=0.0001, kernel=rbf;, score=0.709 total time=   0.0s\n",
      "[CV 2/5] END ...C=0.1, gamma=0.0001, kernel=rbf;, score=0.693 total time=   0.0s\n",
      "[CV 3/5] END ...C=0.1, gamma=0.0001, kernel=rbf;, score=0.709 total time=   0.0s\n",
      "[CV 4/5] END ...C=0.1, gamma=0.0001, kernel=rbf;, score=0.717 total time=   0.0s\n",
      "[CV 5/5] END ...C=0.1, gamma=0.0001, kernel=rbf;, score=0.732 total time=   0.0s\n",
      "[CV 1/5] END ..........C=1, gamma=1, kernel=rbf;, score=0.606 total time=   0.0s\n",
      "[CV 2/5] END ..........C=1, gamma=1, kernel=rbf;, score=0.606 total time=   0.0s\n",
      "[CV 3/5] END ..........C=1, gamma=1, kernel=rbf;, score=0.606 total time=   0.0s\n",
      "[CV 4/5] END ..........C=1, gamma=1, kernel=rbf;, score=0.606 total time=   0.0s\n",
      "[CV 5/5] END ..........C=1, gamma=1, kernel=rbf;, score=0.606 total time=   0.0s\n",
      "[CV 1/5] END ........C=1, gamma=0.1, kernel=rbf;, score=0.606 total time=   0.0s\n",
      "[CV 2/5] END ........C=1, gamma=0.1, kernel=rbf;, score=0.606 total time=   0.0s\n",
      "[CV 3/5] END ........C=1, gamma=0.1, kernel=rbf;, score=0.606 total time=   0.0s\n",
      "[CV 4/5] END ........C=1, gamma=0.1, kernel=rbf;, score=0.606 total time=   0.0s\n",
      "[CV 5/5] END ........C=1, gamma=0.1, kernel=rbf;, score=0.606 total time=   0.0s\n",
      "[CV 1/5] END .......C=1, gamma=0.01, kernel=rbf;, score=0.606 total time=   0.0s\n",
      "[CV 2/5] END .......C=1, gamma=0.01, kernel=rbf;, score=0.606 total time=   0.0s\n",
      "[CV 3/5] END .......C=1, gamma=0.01, kernel=rbf;, score=0.606 total time=   0.0s\n",
      "[CV 4/5] END .......C=1, gamma=0.01, kernel=rbf;, score=0.606 total time=   0.0s\n",
      "[CV 5/5] END .......C=1, gamma=0.01, kernel=rbf;, score=0.606 total time=   0.0s\n",
      "[CV 1/5] END ......C=1, gamma=0.001, kernel=rbf;, score=0.661 total time=   0.0s\n",
      "[CV 2/5] END ......C=1, gamma=0.001, kernel=rbf;, score=0.638 total time=   0.0s\n",
      "[CV 3/5] END ......C=1, gamma=0.001, kernel=rbf;, score=0.614 total time=   0.0s\n",
      "[CV 4/5] END ......C=1, gamma=0.001, kernel=rbf;, score=0.654 total time=   0.0s\n",
      "[CV 5/5] END ......C=1, gamma=0.001, kernel=rbf;, score=0.606 total time=   0.0s\n",
      "[CV 1/5] END .....C=1, gamma=0.0001, kernel=rbf;, score=0.764 total time=   0.0s\n",
      "[CV 2/5] END .....C=1, gamma=0.0001, kernel=rbf;, score=0.811 total time=   0.0s\n",
      "[CV 3/5] END .....C=1, gamma=0.0001, kernel=rbf;, score=0.764 total time=   0.0s\n",
      "[CV 4/5] END .....C=1, gamma=0.0001, kernel=rbf;, score=0.780 total time=   0.0s\n",
      "[CV 5/5] END .....C=1, gamma=0.0001, kernel=rbf;, score=0.724 total time=   0.0s\n",
      "[CV 1/5] END .........C=10, gamma=1, kernel=rbf;, score=0.606 total time=   0.0s\n",
      "[CV 2/5] END .........C=10, gamma=1, kernel=rbf;, score=0.606 total time=   0.0s\n",
      "[CV 3/5] END .........C=10, gamma=1, kernel=rbf;, score=0.606 total time=   0.0s\n",
      "[CV 4/5] END .........C=10, gamma=1, kernel=rbf;, score=0.606 total time=   0.0s\n",
      "[CV 5/5] END .........C=10, gamma=1, kernel=rbf;, score=0.606 total time=   0.0s\n",
      "[CV 1/5] END .......C=10, gamma=0.1, kernel=rbf;, score=0.606 total time=   0.0s\n",
      "[CV 2/5] END .......C=10, gamma=0.1, kernel=rbf;, score=0.606 total time=   0.0s\n",
      "[CV 3/5] END .......C=10, gamma=0.1, kernel=rbf;, score=0.606 total time=   0.0s\n",
      "[CV 4/5] END .......C=10, gamma=0.1, kernel=rbf;, score=0.606 total time=   0.0s\n",
      "[CV 5/5] END .......C=10, gamma=0.1, kernel=rbf;, score=0.606 total time=   0.0s\n",
      "[CV 1/5] END ......C=10, gamma=0.01, kernel=rbf;, score=0.606 total time=   0.0s\n",
      "[CV 2/5] END ......C=10, gamma=0.01, kernel=rbf;, score=0.606 total time=   0.0s\n",
      "[CV 3/5] END ......C=10, gamma=0.01, kernel=rbf;, score=0.606 total time=   0.0s\n",
      "[CV 4/5] END ......C=10, gamma=0.01, kernel=rbf;, score=0.606 total time=   0.0s\n",
      "[CV 5/5] END ......C=10, gamma=0.01, kernel=rbf;, score=0.606 total time=   0.0s\n",
      "[CV 1/5] END .....C=10, gamma=0.001, kernel=rbf;, score=0.646 total time=   0.0s\n",
      "[CV 2/5] END .....C=10, gamma=0.001, kernel=rbf;, score=0.614 total time=   0.0s\n",
      "[CV 3/5] END .....C=10, gamma=0.001, kernel=rbf;, score=0.638 total time=   0.0s\n",
      "[CV 4/5] END .....C=10, gamma=0.001, kernel=rbf;, score=0.638 total time=   0.0s\n",
      "[CV 5/5] END .....C=10, gamma=0.001, kernel=rbf;, score=0.606 total time=   0.0s\n",
      "[CV 1/5] END ....C=10, gamma=0.0001, kernel=rbf;, score=0.740 total time=   0.0s\n",
      "[CV 2/5] END ....C=10, gamma=0.0001, kernel=rbf;, score=0.811 total time=   0.0s\n",
      "[CV 3/5] END ....C=10, gamma=0.0001, kernel=rbf;, score=0.780 total time=   0.0s\n",
      "[CV 4/5] END ....C=10, gamma=0.0001, kernel=rbf;, score=0.772 total time=   0.0s\n",
      "[CV 5/5] END ....C=10, gamma=0.0001, kernel=rbf;, score=0.693 total time=   0.0s\n",
      "[CV 1/5] END ........C=100, gamma=1, kernel=rbf;, score=0.606 total time=   0.0s\n",
      "[CV 2/5] END ........C=100, gamma=1, kernel=rbf;, score=0.606 total time=   0.0s\n",
      "[CV 3/5] END ........C=100, gamma=1, kernel=rbf;, score=0.606 total time=   0.0s\n",
      "[CV 4/5] END ........C=100, gamma=1, kernel=rbf;, score=0.606 total time=   0.0s\n",
      "[CV 5/5] END ........C=100, gamma=1, kernel=rbf;, score=0.606 total time=   0.0s\n",
      "[CV 1/5] END ......C=100, gamma=0.1, kernel=rbf;, score=0.606 total time=   0.0s\n",
      "[CV 2/5] END ......C=100, gamma=0.1, kernel=rbf;, score=0.606 total time=   0.0s\n",
      "[CV 3/5] END ......C=100, gamma=0.1, kernel=rbf;, score=0.606 total time=   0.0s\n",
      "[CV 4/5] END ......C=100, gamma=0.1, kernel=rbf;, score=0.606 total time=   0.0s\n",
      "[CV 5/5] END ......C=100, gamma=0.1, kernel=rbf;, score=0.606 total time=   0.0s\n",
      "[CV 1/5] END .....C=100, gamma=0.01, kernel=rbf;, score=0.606 total time=   0.0s\n",
      "[CV 2/5] END .....C=100, gamma=0.01, kernel=rbf;, score=0.606 total time=   0.0s\n",
      "[CV 3/5] END .....C=100, gamma=0.01, kernel=rbf;, score=0.606 total time=   0.0s\n",
      "[CV 4/5] END .....C=100, gamma=0.01, kernel=rbf;, score=0.606 total time=   0.0s\n",
      "[CV 5/5] END .....C=100, gamma=0.01, kernel=rbf;, score=0.606 total time=   0.0s\n",
      "[CV 1/5] END ....C=100, gamma=0.001, kernel=rbf;, score=0.646 total time=   0.0s\n",
      "[CV 2/5] END ....C=100, gamma=0.001, kernel=rbf;, score=0.614 total time=   0.0s\n",
      "[CV 3/5] END ....C=100, gamma=0.001, kernel=rbf;, score=0.638 total time=   0.0s\n",
      "[CV 4/5] END ....C=100, gamma=0.001, kernel=rbf;, score=0.638 total time=   0.0s\n",
      "[CV 5/5] END ....C=100, gamma=0.001, kernel=rbf;, score=0.606 total time=   0.0s\n",
      "[CV 1/5] END ...C=100, gamma=0.0001, kernel=rbf;, score=0.732 total time=   0.0s\n",
      "[CV 2/5] END ...C=100, gamma=0.0001, kernel=rbf;, score=0.803 total time=   0.0s\n",
      "[CV 3/5] END ...C=100, gamma=0.0001, kernel=rbf;, score=0.748 total time=   0.0s\n",
      "[CV 4/5] END ...C=100, gamma=0.0001, kernel=rbf;, score=0.717 total time=   0.0s\n",
      "[CV 5/5] END ...C=100, gamma=0.0001, kernel=rbf;, score=0.630 total time=   0.0s\n",
      "[CV 1/5] END .......C=1000, gamma=1, kernel=rbf;, score=0.606 total time=   0.0s\n",
      "[CV 2/5] END .......C=1000, gamma=1, kernel=rbf;, score=0.606 total time=   0.0s\n",
      "[CV 3/5] END .......C=1000, gamma=1, kernel=rbf;, score=0.606 total time=   0.0s\n",
      "[CV 4/5] END .......C=1000, gamma=1, kernel=rbf;, score=0.606 total time=   0.0s\n"
     ]
    },
    {
     "name": "stdout",
     "output_type": "stream",
     "text": [
      "[CV 5/5] END .......C=1000, gamma=1, kernel=rbf;, score=0.606 total time=   0.0s\n",
      "[CV 1/5] END .....C=1000, gamma=0.1, kernel=rbf;, score=0.606 total time=   0.0s\n",
      "[CV 2/5] END .....C=1000, gamma=0.1, kernel=rbf;, score=0.606 total time=   0.0s\n",
      "[CV 3/5] END .....C=1000, gamma=0.1, kernel=rbf;, score=0.606 total time=   0.0s\n",
      "[CV 4/5] END .....C=1000, gamma=0.1, kernel=rbf;, score=0.606 total time=   0.0s\n",
      "[CV 5/5] END .....C=1000, gamma=0.1, kernel=rbf;, score=0.606 total time=   0.0s\n",
      "[CV 1/5] END ....C=1000, gamma=0.01, kernel=rbf;, score=0.606 total time=   0.0s\n",
      "[CV 2/5] END ....C=1000, gamma=0.01, kernel=rbf;, score=0.606 total time=   0.0s\n",
      "[CV 3/5] END ....C=1000, gamma=0.01, kernel=rbf;, score=0.606 total time=   0.0s\n",
      "[CV 4/5] END ....C=1000, gamma=0.01, kernel=rbf;, score=0.606 total time=   0.0s\n",
      "[CV 5/5] END ....C=1000, gamma=0.01, kernel=rbf;, score=0.606 total time=   0.0s\n",
      "[CV 1/5] END ...C=1000, gamma=0.001, kernel=rbf;, score=0.646 total time=   0.0s\n",
      "[CV 2/5] END ...C=1000, gamma=0.001, kernel=rbf;, score=0.614 total time=   0.0s\n",
      "[CV 3/5] END ...C=1000, gamma=0.001, kernel=rbf;, score=0.638 total time=   0.0s\n",
      "[CV 4/5] END ...C=1000, gamma=0.001, kernel=rbf;, score=0.638 total time=   0.0s\n",
      "[CV 5/5] END ...C=1000, gamma=0.001, kernel=rbf;, score=0.606 total time=   0.0s\n",
      "[CV 1/5] END ..C=1000, gamma=0.0001, kernel=rbf;, score=0.732 total time=   0.0s\n",
      "[CV 2/5] END ..C=1000, gamma=0.0001, kernel=rbf;, score=0.819 total time=   0.0s\n",
      "[CV 3/5] END ..C=1000, gamma=0.0001, kernel=rbf;, score=0.740 total time=   0.0s\n",
      "[CV 4/5] END ..C=1000, gamma=0.0001, kernel=rbf;, score=0.717 total time=   0.0s\n",
      "[CV 5/5] END ..C=1000, gamma=0.0001, kernel=rbf;, score=0.630 total time=   0.0s\n"
     ]
    },
    {
     "data": {
      "text/plain": [
       "GridSearchCV(estimator=SVC(),\n",
       "             param_grid={'C': [0.1, 1, 10, 100, 1000],\n",
       "                         'gamma': [1, 0.1, 0.01, 0.001, 0.0001],\n",
       "                         'kernel': ['rbf']},\n",
       "             verbose=3)"
      ]
     },
     "execution_count": 55,
     "metadata": {},
     "output_type": "execute_result"
    }
   ],
   "source": [
    "svm_21 = GridSearchCV(svm,param_grid,refit = True, verbose = 3)\n",
    "svm_21.fit(X_21_train, y_21_train)\n"
   ]
  },
  {
   "cell_type": "code",
   "execution_count": 56,
   "id": "1238e586",
   "metadata": {},
   "outputs": [
    {
     "name": "stdout",
     "output_type": "stream",
     "text": [
      "Fitting 5 folds for each of 25 candidates, totalling 125 fits\n",
      "[CV 1/5] END ........C=0.1, gamma=1, kernel=rbf;, score=0.614 total time=   0.1s\n",
      "[CV 2/5] END ........C=0.1, gamma=1, kernel=rbf;, score=0.614 total time=   0.0s\n",
      "[CV 3/5] END ........C=0.1, gamma=1, kernel=rbf;, score=0.614 total time=   0.1s\n",
      "[CV 4/5] END ........C=0.1, gamma=1, kernel=rbf;, score=0.612 total time=   0.0s\n",
      "[CV 5/5] END ........C=0.1, gamma=1, kernel=rbf;, score=0.612 total time=   0.0s\n",
      "[CV 1/5] END ......C=0.1, gamma=0.1, kernel=rbf;, score=0.614 total time=   0.0s\n",
      "[CV 2/5] END ......C=0.1, gamma=0.1, kernel=rbf;, score=0.614 total time=   0.0s\n",
      "[CV 3/5] END ......C=0.1, gamma=0.1, kernel=rbf;, score=0.614 total time=   0.0s\n",
      "[CV 4/5] END ......C=0.1, gamma=0.1, kernel=rbf;, score=0.612 total time=   0.1s\n",
      "[CV 5/5] END ......C=0.1, gamma=0.1, kernel=rbf;, score=0.612 total time=   0.0s\n",
      "[CV 1/5] END .....C=0.1, gamma=0.01, kernel=rbf;, score=0.614 total time=   0.1s\n",
      "[CV 2/5] END .....C=0.1, gamma=0.01, kernel=rbf;, score=0.614 total time=   0.1s\n",
      "[CV 3/5] END .....C=0.1, gamma=0.01, kernel=rbf;, score=0.614 total time=   0.1s\n",
      "[CV 4/5] END .....C=0.1, gamma=0.01, kernel=rbf;, score=0.612 total time=   0.1s\n",
      "[CV 5/5] END .....C=0.1, gamma=0.01, kernel=rbf;, score=0.612 total time=   0.1s\n",
      "[CV 1/5] END ....C=0.1, gamma=0.001, kernel=rbf;, score=0.614 total time=   0.1s\n",
      "[CV 2/5] END ....C=0.1, gamma=0.001, kernel=rbf;, score=0.614 total time=   0.1s\n",
      "[CV 3/5] END ....C=0.1, gamma=0.001, kernel=rbf;, score=0.614 total time=   0.1s\n",
      "[CV 4/5] END ....C=0.1, gamma=0.001, kernel=rbf;, score=0.612 total time=   0.1s\n",
      "[CV 5/5] END ....C=0.1, gamma=0.001, kernel=rbf;, score=0.612 total time=   0.1s\n",
      "[CV 1/5] END ...C=0.1, gamma=0.0001, kernel=rbf;, score=0.735 total time=   0.0s\n",
      "[CV 2/5] END ...C=0.1, gamma=0.0001, kernel=rbf;, score=0.744 total time=   0.0s\n",
      "[CV 3/5] END ...C=0.1, gamma=0.0001, kernel=rbf;, score=0.730 total time=   0.0s\n",
      "[CV 4/5] END ...C=0.1, gamma=0.0001, kernel=rbf;, score=0.762 total time=   0.0s\n",
      "[CV 5/5] END ...C=0.1, gamma=0.0001, kernel=rbf;, score=0.752 total time=   0.0s\n",
      "[CV 1/5] END ..........C=1, gamma=1, kernel=rbf;, score=0.614 total time=   0.1s\n",
      "[CV 2/5] END ..........C=1, gamma=1, kernel=rbf;, score=0.614 total time=   0.0s\n",
      "[CV 3/5] END ..........C=1, gamma=1, kernel=rbf;, score=0.614 total time=   0.0s\n",
      "[CV 4/5] END ..........C=1, gamma=1, kernel=rbf;, score=0.612 total time=   0.0s\n",
      "[CV 5/5] END ..........C=1, gamma=1, kernel=rbf;, score=0.612 total time=   0.0s\n",
      "[CV 1/5] END ........C=1, gamma=0.1, kernel=rbf;, score=0.614 total time=   0.1s\n",
      "[CV 2/5] END ........C=1, gamma=0.1, kernel=rbf;, score=0.614 total time=   0.0s\n",
      "[CV 3/5] END ........C=1, gamma=0.1, kernel=rbf;, score=0.614 total time=   0.0s\n",
      "[CV 4/5] END ........C=1, gamma=0.1, kernel=rbf;, score=0.612 total time=   0.0s\n",
      "[CV 5/5] END ........C=1, gamma=0.1, kernel=rbf;, score=0.612 total time=   0.0s\n",
      "[CV 1/5] END .......C=1, gamma=0.01, kernel=rbf;, score=0.614 total time=   0.1s\n",
      "[CV 2/5] END .......C=1, gamma=0.01, kernel=rbf;, score=0.614 total time=   0.1s\n",
      "[CV 3/5] END .......C=1, gamma=0.01, kernel=rbf;, score=0.614 total time=   0.1s\n",
      "[CV 4/5] END .......C=1, gamma=0.01, kernel=rbf;, score=0.612 total time=   0.1s\n",
      "[CV 5/5] END .......C=1, gamma=0.01, kernel=rbf;, score=0.612 total time=   0.1s\n",
      "[CV 1/5] END ......C=1, gamma=0.001, kernel=rbf;, score=0.647 total time=   0.1s\n",
      "[CV 2/5] END ......C=1, gamma=0.001, kernel=rbf;, score=0.670 total time=   0.1s\n",
      "[CV 3/5] END ......C=1, gamma=0.001, kernel=rbf;, score=0.665 total time=   0.1s\n",
      "[CV 4/5] END ......C=1, gamma=0.001, kernel=rbf;, score=0.650 total time=   0.1s\n",
      "[CV 5/5] END ......C=1, gamma=0.001, kernel=rbf;, score=0.654 total time=   0.1s\n",
      "[CV 1/5] END .....C=1, gamma=0.0001, kernel=rbf;, score=0.819 total time=   0.0s\n",
      "[CV 2/5] END .....C=1, gamma=0.0001, kernel=rbf;, score=0.823 total time=   0.0s\n",
      "[CV 3/5] END .....C=1, gamma=0.0001, kernel=rbf;, score=0.772 total time=   0.0s\n",
      "[CV 4/5] END .....C=1, gamma=0.0001, kernel=rbf;, score=0.808 total time=   0.0s\n",
      "[CV 5/5] END .....C=1, gamma=0.0001, kernel=rbf;, score=0.794 total time=   0.0s\n",
      "[CV 1/5] END .........C=10, gamma=1, kernel=rbf;, score=0.614 total time=   0.1s\n",
      "[CV 2/5] END .........C=10, gamma=1, kernel=rbf;, score=0.614 total time=   0.1s\n",
      "[CV 3/5] END .........C=10, gamma=1, kernel=rbf;, score=0.614 total time=   0.1s\n",
      "[CV 4/5] END .........C=10, gamma=1, kernel=rbf;, score=0.612 total time=   0.1s\n",
      "[CV 5/5] END .........C=10, gamma=1, kernel=rbf;, score=0.612 total time=   0.1s\n",
      "[CV 1/5] END .......C=10, gamma=0.1, kernel=rbf;, score=0.614 total time=   0.1s\n",
      "[CV 2/5] END .......C=10, gamma=0.1, kernel=rbf;, score=0.614 total time=   0.1s\n",
      "[CV 3/5] END .......C=10, gamma=0.1, kernel=rbf;, score=0.614 total time=   0.1s\n",
      "[CV 4/5] END .......C=10, gamma=0.1, kernel=rbf;, score=0.612 total time=   0.1s\n",
      "[CV 5/5] END .......C=10, gamma=0.1, kernel=rbf;, score=0.612 total time=   0.1s\n",
      "[CV 1/5] END ......C=10, gamma=0.01, kernel=rbf;, score=0.614 total time=   0.1s\n",
      "[CV 2/5] END ......C=10, gamma=0.01, kernel=rbf;, score=0.614 total time=   0.1s\n",
      "[CV 3/5] END ......C=10, gamma=0.01, kernel=rbf;, score=0.614 total time=   0.1s\n",
      "[CV 4/5] END ......C=10, gamma=0.01, kernel=rbf;, score=0.612 total time=   0.1s\n",
      "[CV 5/5] END ......C=10, gamma=0.01, kernel=rbf;, score=0.612 total time=   0.1s\n",
      "[CV 1/5] END .....C=10, gamma=0.001, kernel=rbf;, score=0.651 total time=   0.1s\n",
      "[CV 2/5] END .....C=10, gamma=0.001, kernel=rbf;, score=0.698 total time=   0.1s\n",
      "[CV 3/5] END .....C=10, gamma=0.001, kernel=rbf;, score=0.679 total time=   0.1s\n",
      "[CV 4/5] END .....C=10, gamma=0.001, kernel=rbf;, score=0.687 total time=   0.1s\n",
      "[CV 5/5] END .....C=10, gamma=0.001, kernel=rbf;, score=0.678 total time=   0.1s\n",
      "[CV 1/5] END ....C=10, gamma=0.0001, kernel=rbf;, score=0.786 total time=   0.0s\n",
      "[CV 2/5] END ....C=10, gamma=0.0001, kernel=rbf;, score=0.800 total time=   0.0s\n",
      "[CV 3/5] END ....C=10, gamma=0.0001, kernel=rbf;, score=0.777 total time=   0.0s\n",
      "[CV 4/5] END ....C=10, gamma=0.0001, kernel=rbf;, score=0.822 total time=   0.0s\n",
      "[CV 5/5] END ....C=10, gamma=0.0001, kernel=rbf;, score=0.818 total time=   0.0s\n",
      "[CV 1/5] END ........C=100, gamma=1, kernel=rbf;, score=0.614 total time=   0.1s\n",
      "[CV 2/5] END ........C=100, gamma=1, kernel=rbf;, score=0.614 total time=   0.1s\n",
      "[CV 3/5] END ........C=100, gamma=1, kernel=rbf;, score=0.614 total time=   0.1s\n",
      "[CV 4/5] END ........C=100, gamma=1, kernel=rbf;, score=0.612 total time=   0.1s\n",
      "[CV 5/5] END ........C=100, gamma=1, kernel=rbf;, score=0.612 total time=   0.1s\n",
      "[CV 1/5] END ......C=100, gamma=0.1, kernel=rbf;, score=0.614 total time=   0.1s\n",
      "[CV 2/5] END ......C=100, gamma=0.1, kernel=rbf;, score=0.614 total time=   0.1s\n",
      "[CV 3/5] END ......C=100, gamma=0.1, kernel=rbf;, score=0.614 total time=   0.1s\n",
      "[CV 4/5] END ......C=100, gamma=0.1, kernel=rbf;, score=0.612 total time=   0.1s\n",
      "[CV 5/5] END ......C=100, gamma=0.1, kernel=rbf;, score=0.612 total time=   0.1s\n",
      "[CV 1/5] END .....C=100, gamma=0.01, kernel=rbf;, score=0.614 total time=   0.1s\n",
      "[CV 2/5] END .....C=100, gamma=0.01, kernel=rbf;, score=0.614 total time=   0.1s\n",
      "[CV 3/5] END .....C=100, gamma=0.01, kernel=rbf;, score=0.614 total time=   0.1s\n",
      "[CV 4/5] END .....C=100, gamma=0.01, kernel=rbf;, score=0.612 total time=   0.1s\n",
      "[CV 5/5] END .....C=100, gamma=0.01, kernel=rbf;, score=0.612 total time=   0.1s\n",
      "[CV 1/5] END ....C=100, gamma=0.001, kernel=rbf;, score=0.651 total time=   0.1s\n",
      "[CV 2/5] END ....C=100, gamma=0.001, kernel=rbf;, score=0.698 total time=   0.1s\n",
      "[CV 3/5] END ....C=100, gamma=0.001, kernel=rbf;, score=0.679 total time=   0.1s\n",
      "[CV 4/5] END ....C=100, gamma=0.001, kernel=rbf;, score=0.687 total time=   0.1s\n",
      "[CV 5/5] END ....C=100, gamma=0.001, kernel=rbf;, score=0.678 total time=   0.1s\n",
      "[CV 1/5] END ...C=100, gamma=0.0001, kernel=rbf;, score=0.744 total time=   0.1s\n",
      "[CV 2/5] END ...C=100, gamma=0.0001, kernel=rbf;, score=0.772 total time=   0.1s\n",
      "[CV 3/5] END ...C=100, gamma=0.0001, kernel=rbf;, score=0.767 total time=   0.1s\n",
      "[CV 4/5] END ...C=100, gamma=0.0001, kernel=rbf;, score=0.748 total time=   0.1s\n",
      "[CV 5/5] END ...C=100, gamma=0.0001, kernel=rbf;, score=0.748 total time=   0.1s\n",
      "[CV 1/5] END .......C=1000, gamma=1, kernel=rbf;, score=0.614 total time=   0.1s\n",
      "[CV 2/5] END .......C=1000, gamma=1, kernel=rbf;, score=0.614 total time=   0.0s\n",
      "[CV 3/5] END .......C=1000, gamma=1, kernel=rbf;, score=0.614 total time=   0.1s\n"
     ]
    },
    {
     "name": "stdout",
     "output_type": "stream",
     "text": [
      "[CV 4/5] END .......C=1000, gamma=1, kernel=rbf;, score=0.612 total time=   0.1s\n",
      "[CV 5/5] END .......C=1000, gamma=1, kernel=rbf;, score=0.612 total time=   0.1s\n",
      "[CV 1/5] END .....C=1000, gamma=0.1, kernel=rbf;, score=0.614 total time=   0.1s\n",
      "[CV 2/5] END .....C=1000, gamma=0.1, kernel=rbf;, score=0.614 total time=   0.1s\n",
      "[CV 3/5] END .....C=1000, gamma=0.1, kernel=rbf;, score=0.614 total time=   0.1s\n",
      "[CV 4/5] END .....C=1000, gamma=0.1, kernel=rbf;, score=0.612 total time=   0.1s\n",
      "[CV 5/5] END .....C=1000, gamma=0.1, kernel=rbf;, score=0.612 total time=   0.1s\n",
      "[CV 1/5] END ....C=1000, gamma=0.01, kernel=rbf;, score=0.614 total time=   0.1s\n",
      "[CV 2/5] END ....C=1000, gamma=0.01, kernel=rbf;, score=0.614 total time=   0.1s\n",
      "[CV 3/5] END ....C=1000, gamma=0.01, kernel=rbf;, score=0.614 total time=   0.1s\n",
      "[CV 4/5] END ....C=1000, gamma=0.01, kernel=rbf;, score=0.612 total time=   0.1s\n",
      "[CV 5/5] END ....C=1000, gamma=0.01, kernel=rbf;, score=0.612 total time=   0.1s\n",
      "[CV 1/5] END ...C=1000, gamma=0.001, kernel=rbf;, score=0.651 total time=   0.1s\n",
      "[CV 2/5] END ...C=1000, gamma=0.001, kernel=rbf;, score=0.698 total time=   0.1s\n",
      "[CV 3/5] END ...C=1000, gamma=0.001, kernel=rbf;, score=0.679 total time=   0.1s\n",
      "[CV 4/5] END ...C=1000, gamma=0.001, kernel=rbf;, score=0.687 total time=   0.1s\n",
      "[CV 5/5] END ...C=1000, gamma=0.001, kernel=rbf;, score=0.678 total time=   0.1s\n",
      "[CV 1/5] END ..C=1000, gamma=0.0001, kernel=rbf;, score=0.744 total time=   0.1s\n",
      "[CV 2/5] END ..C=1000, gamma=0.0001, kernel=rbf;, score=0.786 total time=   0.1s\n",
      "[CV 3/5] END ..C=1000, gamma=0.0001, kernel=rbf;, score=0.758 total time=   0.1s\n",
      "[CV 4/5] END ..C=1000, gamma=0.0001, kernel=rbf;, score=0.748 total time=   0.1s\n",
      "[CV 5/5] END ..C=1000, gamma=0.0001, kernel=rbf;, score=0.757 total time=   0.1s\n"
     ]
    },
    {
     "data": {
      "text/plain": [
       "GridSearchCV(estimator=SVC(),\n",
       "             param_grid={'C': [0.1, 1, 10, 100, 1000],\n",
       "                         'gamma': [1, 0.1, 0.01, 0.001, 0.0001],\n",
       "                         'kernel': ['rbf']},\n",
       "             verbose=3)"
      ]
     },
     "execution_count": 56,
     "metadata": {},
     "output_type": "execute_result"
    }
   ],
   "source": [
    "svm_22 = GridSearchCV(svm,param_grid,refit = True, verbose = 3)\n",
    "svm_22.fit(X_22_train, y_22_train)\n"
   ]
  },
  {
   "cell_type": "code",
   "execution_count": 57,
   "id": "78520d63",
   "metadata": {},
   "outputs": [
    {
     "data": {
      "text/plain": [
       "SVC(C=1, gamma=0.0001)"
      ]
     },
     "execution_count": 57,
     "metadata": {},
     "output_type": "execute_result"
    }
   ],
   "source": [
    "svm_22.best_estimator_"
   ]
  },
  {
   "cell_type": "markdown",
   "id": "e37bb883",
   "metadata": {},
   "source": [
    "# SVM Reg. Season Test"
   ]
  },
  {
   "cell_type": "code",
   "execution_count": 58,
   "id": "b92541c4",
   "metadata": {},
   "outputs": [
    {
     "name": "stdout",
     "output_type": "stream",
     "text": [
      "              precision    recall  f1-score   support\n",
      "\n",
      "           0       0.69      0.75      0.72        61\n",
      "           1       0.84      0.78      0.81        97\n",
      "\n",
      "    accuracy                           0.77       158\n",
      "   macro avg       0.76      0.77      0.76       158\n",
      "weighted avg       0.78      0.77      0.77       158\n",
      "\n",
      "This set of predictions was 77.22% accurate\n",
      "\n"
     ]
    }
   ],
   "source": [
    "svm_14_preds = svm_14.predict(X_14_test)\n",
    "\n",
    "print(classification_report(y_14_test,svm_14_preds))\n",
    "print(\"This set of predictions was %s%% accurate\\n\" %str(\n",
    "    round(100*accuracy_score(y_14_test,svm_14_preds),2)))\n"
   ]
  },
  {
   "cell_type": "code",
   "execution_count": 59,
   "id": "34237e98",
   "metadata": {},
   "outputs": [
    {
     "name": "stdout",
     "output_type": "stream",
     "text": [
      "              precision    recall  f1-score   support\n",
      "\n",
      "           0       0.73      0.55      0.63        67\n",
      "           1       0.73      0.85      0.79        96\n",
      "\n",
      "    accuracy                           0.73       163\n",
      "   macro avg       0.73      0.70      0.71       163\n",
      "weighted avg       0.73      0.73      0.72       163\n",
      "\n",
      "This set of predictions was 73.01% accurate\n",
      "\n"
     ]
    }
   ],
   "source": [
    "svm_15_preds = svm_15.predict(X_15_test)\n",
    "\n",
    "print(classification_report(y_15_test,svm_15_preds))\n",
    "print(\"This set of predictions was %s%% accurate\\n\" %str(\n",
    "    round(100*accuracy_score(y_15_test,svm_15_preds),2)))\n"
   ]
  },
  {
   "cell_type": "code",
   "execution_count": 60,
   "id": "ecd30625",
   "metadata": {},
   "outputs": [
    {
     "name": "stdout",
     "output_type": "stream",
     "text": [
      "              precision    recall  f1-score   support\n",
      "\n",
      "           0       0.81      0.73      0.77        64\n",
      "           1       0.84      0.89      0.86        98\n",
      "\n",
      "    accuracy                           0.83       162\n",
      "   macro avg       0.82      0.81      0.82       162\n",
      "weighted avg       0.83      0.83      0.83       162\n",
      "\n",
      "This set of predictions was 82.72% accurate\n",
      "\n"
     ]
    }
   ],
   "source": [
    "svm_16_preds = svm_16.predict(X_16_test)\n",
    "\n",
    "print(classification_report(y_16_test,svm_16_preds))\n",
    "print(\"This set of predictions was %s%% accurate\\n\" %str(\n",
    "    round(100*accuracy_score(y_16_test,svm_16_preds),2)))\n"
   ]
  },
  {
   "cell_type": "code",
   "execution_count": 61,
   "id": "9cb91b56",
   "metadata": {},
   "outputs": [
    {
     "name": "stdout",
     "output_type": "stream",
     "text": [
      "              precision    recall  f1-score   support\n",
      "\n",
      "           0       0.77      0.76      0.76        66\n",
      "           1       0.84      0.85      0.84        97\n",
      "\n",
      "    accuracy                           0.81       163\n",
      "   macro avg       0.80      0.80      0.80       163\n",
      "weighted avg       0.81      0.81      0.81       163\n",
      "\n",
      "This set of predictions was 80.98% accurate\n",
      "\n"
     ]
    }
   ],
   "source": [
    "svm_17_preds = svm_17.predict(X_17_test)\n",
    "\n",
    "print(classification_report(y_17_test,svm_17_preds))\n",
    "print(\"This set of predictions was %s%% accurate\\n\" %str(\n",
    "    round(100*accuracy_score(y_17_test,svm_17_preds),2)))\n"
   ]
  },
  {
   "cell_type": "code",
   "execution_count": 64,
   "id": "b5aa6a7e",
   "metadata": {},
   "outputs": [
    {
     "name": "stdout",
     "output_type": "stream",
     "text": [
      "              precision    recall  f1-score   support\n",
      "\n",
      "           0       0.79      0.69      0.73        64\n",
      "           1       0.82      0.88      0.85       101\n",
      "\n",
      "    accuracy                           0.81       165\n",
      "   macro avg       0.80      0.78      0.79       165\n",
      "weighted avg       0.80      0.81      0.80       165\n",
      "\n",
      "This set of predictions was 80.61% accurate\n",
      "\n"
     ]
    }
   ],
   "source": [
    "svm_18_preds = svm_18.predict(X_18_test)\n",
    "\n",
    "print(classification_report(y_18_test,svm_18_preds))\n",
    "print(\"This set of predictions was %s%% accurate\\n\" %str(\n",
    "    round(100*accuracy_score(y_18_test,svm_18_preds),2)))\n"
   ]
  },
  {
   "cell_type": "code",
   "execution_count": 65,
   "id": "091a3a2b",
   "metadata": {},
   "outputs": [
    {
     "name": "stdout",
     "output_type": "stream",
     "text": [
      "              precision    recall  f1-score   support\n",
      "\n",
      "           0       0.87      0.74      0.80        61\n",
      "           1       0.86      0.93      0.89       105\n",
      "\n",
      "    accuracy                           0.86       166\n",
      "   macro avg       0.86      0.84      0.85       166\n",
      "weighted avg       0.86      0.86      0.86       166\n",
      "\n",
      "This set of predictions was 86.14% accurate\n",
      "\n"
     ]
    }
   ],
   "source": [
    "svm_19_preds = svm_19.predict(X_19_test)\n",
    "\n",
    "print(classification_report(y_19_test,svm_19_preds))\n",
    "print(\"This set of predictions was %s%% accurate\\n\" %str(\n",
    "    round(100*accuracy_score(y_19_test,svm_19_preds),2)))\n"
   ]
  },
  {
   "cell_type": "code",
   "execution_count": 66,
   "id": "baaa0e42",
   "metadata": {},
   "outputs": [
    {
     "name": "stdout",
     "output_type": "stream",
     "text": [
      "              precision    recall  f1-score   support\n",
      "\n",
      "           0       0.70      0.85      0.77        33\n",
      "           1       0.91      0.81      0.86        63\n",
      "\n",
      "    accuracy                           0.82        96\n",
      "   macro avg       0.81      0.83      0.81        96\n",
      "weighted avg       0.84      0.82      0.83        96\n",
      "\n",
      "This set of predictions was 82.29% accurate\n",
      "\n"
     ]
    }
   ],
   "source": [
    "svm_20_preds = svm_20.predict(X_20_test)\n",
    "\n",
    "print(classification_report(y_20_test,svm_20_preds))\n",
    "print(\"This set of predictions was %s%% accurate\\n\" %str(\n",
    "    round(100*accuracy_score(y_20_test,svm_20_preds),2)))\n"
   ]
  },
  {
   "cell_type": "code",
   "execution_count": 67,
   "id": "f5b836cd",
   "metadata": {},
   "outputs": [
    {
     "name": "stdout",
     "output_type": "stream",
     "text": [
      "              precision    recall  f1-score   support\n",
      "\n",
      "           0       0.59      0.59      0.59        54\n",
      "           1       0.79      0.79      0.79       105\n",
      "\n",
      "    accuracy                           0.72       159\n",
      "   macro avg       0.69      0.69      0.69       159\n",
      "weighted avg       0.72      0.72      0.72       159\n",
      "\n",
      "This set of predictions was 72.33% accurate\n",
      "\n"
     ]
    }
   ],
   "source": [
    "svm_21_preds = svm_21.predict(X_21_test)\n",
    "\n",
    "print(classification_report(y_21_test,svm_21_preds))\n",
    "print(\"This set of predictions was %s%% accurate\\n\" %str(\n",
    "    round(100*accuracy_score(y_21_test,svm_21_preds),2)))\n"
   ]
  },
  {
   "cell_type": "code",
   "execution_count": 68,
   "id": "30b6e915",
   "metadata": {},
   "outputs": [
    {
     "name": "stdout",
     "output_type": "stream",
     "text": [
      "              precision    recall  f1-score   support\n",
      "\n",
      "           0       0.80      0.70      0.75       126\n",
      "           1       0.76      0.85      0.80       143\n",
      "\n",
      "    accuracy                           0.78       269\n",
      "   macro avg       0.78      0.77      0.77       269\n",
      "weighted avg       0.78      0.78      0.78       269\n",
      "\n",
      "This set of predictions was 77.7% accurate\n",
      "\n"
     ]
    }
   ],
   "source": [
    "svm_22_preds = svm_22.predict(X_22_test)\n",
    "\n",
    "print(classification_report(y_22_test,svm_22_preds))\n",
    "print(\"This set of predictions was %s%% accurate\\n\" %str(\n",
    "    round(100*accuracy_score(y_22_test,svm_22_preds),2)))\n"
   ]
  },
  {
   "cell_type": "markdown",
   "id": "9960cc63",
   "metadata": {},
   "source": [
    "# SVM Bowl Predictions"
   ]
  },
  {
   "cell_type": "code",
   "execution_count": 69,
   "id": "55e9195c",
   "metadata": {},
   "outputs": [
    {
     "name": "stdout",
     "output_type": "stream",
     "text": [
      "              precision    recall  f1-score   support\n",
      "\n",
      "           0       0.00      0.00      0.00        17\n",
      "           1       0.56      1.00      0.72        22\n",
      "\n",
      "    accuracy                           0.56        39\n",
      "   macro avg       0.28      0.50      0.36        39\n",
      "weighted avg       0.32      0.56      0.41        39\n",
      "\n",
      "This set of predictions was 56.41% accurate\n",
      "\n",
      "Confusion matrix, without normalization\n",
      "[[ 0 17]\n",
      " [ 0 22]]\n"
     ]
    },
    {
     "name": "stderr",
     "output_type": "stream",
     "text": [
      "/opt/anaconda3/lib/python3.9/site-packages/sklearn/base.py:450: UserWarning: X does not have valid feature names, but SVC was fitted with feature names\n",
      "  warnings.warn(\n",
      "/opt/anaconda3/lib/python3.9/site-packages/sklearn/metrics/_classification.py:1318: UndefinedMetricWarning: Precision and F-score are ill-defined and being set to 0.0 in labels with no predicted samples. Use `zero_division` parameter to control this behavior.\n",
      "  _warn_prf(average, modifier, msg_start, len(result))\n",
      "/opt/anaconda3/lib/python3.9/site-packages/sklearn/metrics/_classification.py:1318: UndefinedMetricWarning: Precision and F-score are ill-defined and being set to 0.0 in labels with no predicted samples. Use `zero_division` parameter to control this behavior.\n",
      "  _warn_prf(average, modifier, msg_start, len(result))\n",
      "/opt/anaconda3/lib/python3.9/site-packages/sklearn/metrics/_classification.py:1318: UndefinedMetricWarning: Precision and F-score are ill-defined and being set to 0.0 in labels with no predicted samples. Use `zero_division` parameter to control this behavior.\n",
      "  _warn_prf(average, modifier, msg_start, len(result))\n",
      "/var/folders/kn/qx4j8z6162vd2k57zrwz_w_h0000gp/T/ipykernel_8868/3398209949.py:20: MatplotlibDeprecationWarning: Auto-removal of grids by pcolor() and pcolormesh() is deprecated since 3.5 and will be removed two minor releases later; please call grid(False) first.\n",
      "  plt.colorbar()\n"
     ]
    },
    {
     "data": {
      "image/png": "[encoded data removed]",
      "text/plain": [
       "<Figure size 748.8x514.8 with 2 Axes>"
      ]
     },
     "metadata": {},
     "output_type": "display_data"
    }
   ],
   "source": [
    "svm_bowl_14 = svm_14.predict(X_bowl_14)\n",
    "\n",
    "svm_cm_14 = confusion_matrix(y_bowl_14,svm_bowl_14)\n",
    "print(classification_report(y_bowl_14,svm_bowl_14))\n",
    "print(\"This set of predictions was %s%% accurate\\n\" %str(\n",
    "    round(100*accuracy_score(y_bowl_14,svm_bowl_14),2)))\n",
    "\n",
    "plot_confusion_matrix(\n",
    "    svm_cm_14,title='Random Forest', cmap=plt.cm.Blues)"
   ]
  },
  {
   "cell_type": "code",
   "execution_count": 70,
   "id": "e18ecce3",
   "metadata": {},
   "outputs": [
    {
     "name": "stdout",
     "output_type": "stream",
     "text": [
      "              precision    recall  f1-score   support\n",
      "\n",
      "           0       0.00      0.00      0.00        17\n",
      "           1       0.59      1.00      0.74        24\n",
      "\n",
      "    accuracy                           0.59        41\n",
      "   macro avg       0.29      0.50      0.37        41\n",
      "weighted avg       0.34      0.59      0.43        41\n",
      "\n",
      "This set of predictions was 58.54% accurate\n",
      "\n",
      "Confusion matrix, without normalization\n",
      "[[ 0 17]\n",
      " [ 0 24]]\n"
     ]
    },
    {
     "name": "stderr",
     "output_type": "stream",
     "text": [
      "/opt/anaconda3/lib/python3.9/site-packages/sklearn/base.py:450: UserWarning: X does not have valid feature names, but SVC was fitted with feature names\n",
      "  warnings.warn(\n",
      "/opt/anaconda3/lib/python3.9/site-packages/sklearn/metrics/_classification.py:1318: UndefinedMetricWarning: Precision and F-score are ill-defined and being set to 0.0 in labels with no predicted samples. Use `zero_division` parameter to control this behavior.\n",
      "  _warn_prf(average, modifier, msg_start, len(result))\n",
      "/opt/anaconda3/lib/python3.9/site-packages/sklearn/metrics/_classification.py:1318: UndefinedMetricWarning: Precision and F-score are ill-defined and being set to 0.0 in labels with no predicted samples. Use `zero_division` parameter to control this behavior.\n",
      "  _warn_prf(average, modifier, msg_start, len(result))\n",
      "/opt/anaconda3/lib/python3.9/site-packages/sklearn/metrics/_classification.py:1318: UndefinedMetricWarning: Precision and F-score are ill-defined and being set to 0.0 in labels with no predicted samples. Use `zero_division` parameter to control this behavior.\n",
      "  _warn_prf(average, modifier, msg_start, len(result))\n",
      "/var/folders/kn/qx4j8z6162vd2k57zrwz_w_h0000gp/T/ipykernel_8868/3398209949.py:20: MatplotlibDeprecationWarning: Auto-removal of grids by pcolor() and pcolormesh() is deprecated since 3.5 and will be removed two minor releases later; please call grid(False) first.\n",
      "  plt.colorbar()\n"
     ]
    },
    {
     "data": {
      "image/png": "[encoded data removed]",
      "text/plain": [
       "<Figure size 748.8x514.8 with 2 Axes>"
      ]
     },
     "metadata": {},
     "output_type": "display_data"
    }
   ],
   "source": [
    "svm_bowl_15 = svm_15.predict(X_bowl_15)\n",
    "\n",
    "svm_cm_15 = confusion_matrix(y_bowl_15,svm_bowl_15)\n",
    "print(classification_report(y_bowl_15,svm_bowl_15))\n",
    "print(\"This set of predictions was %s%% accurate\\n\" %str(\n",
    "    round(100*accuracy_score(y_bowl_15,svm_bowl_15),2)))\n",
    "\n",
    "plot_confusion_matrix(\n",
    "    svm_cm_15,title='Random Forest', cmap=plt.cm.Blues)"
   ]
  },
  {
   "cell_type": "code",
   "execution_count": 71,
   "id": "9d357501",
   "metadata": {},
   "outputs": [
    {
     "name": "stdout",
     "output_type": "stream",
     "text": [
      "              precision    recall  f1-score   support\n",
      "\n",
      "           0       0.00      0.00      0.00        20\n",
      "           1       0.51      1.00      0.68        21\n",
      "\n",
      "    accuracy                           0.51        41\n",
      "   macro avg       0.26      0.50      0.34        41\n",
      "weighted avg       0.26      0.51      0.35        41\n",
      "\n",
      "This set of predictions was 51.22% accurate\n",
      "\n",
      "Confusion matrix, without normalization\n",
      "[[ 0 20]\n",
      " [ 0 21]]\n"
     ]
    },
    {
     "name": "stderr",
     "output_type": "stream",
     "text": [
      "/opt/anaconda3/lib/python3.9/site-packages/sklearn/base.py:450: UserWarning: X does not have valid feature names, but SVC was fitted with feature names\n",
      "  warnings.warn(\n",
      "/opt/anaconda3/lib/python3.9/site-packages/sklearn/metrics/_classification.py:1318: UndefinedMetricWarning: Precision and F-score are ill-defined and being set to 0.0 in labels with no predicted samples. Use `zero_division` parameter to control this behavior.\n",
      "  _warn_prf(average, modifier, msg_start, len(result))\n",
      "/opt/anaconda3/lib/python3.9/site-packages/sklearn/metrics/_classification.py:1318: UndefinedMetricWarning: Precision and F-score are ill-defined and being set to 0.0 in labels with no predicted samples. Use `zero_division` parameter to control this behavior.\n",
      "  _warn_prf(average, modifier, msg_start, len(result))\n",
      "/opt/anaconda3/lib/python3.9/site-packages/sklearn/metrics/_classification.py:1318: UndefinedMetricWarning: Precision and F-score are ill-defined and being set to 0.0 in labels with no predicted samples. Use `zero_division` parameter to control this behavior.\n",
      "  _warn_prf(average, modifier, msg_start, len(result))\n",
      "/var/folders/kn/qx4j8z6162vd2k57zrwz_w_h0000gp/T/ipykernel_8868/3398209949.py:20: MatplotlibDeprecationWarning: Auto-removal of grids by pcolor() and pcolormesh() is deprecated since 3.5 and will be removed two minor releases later; please call grid(False) first.\n",
      "  plt.colorbar()\n"
     ]
    },
    {
     "data": {
      "image/png": "[encoded data removed]",
      "text/plain": [
       "<Figure size 748.8x514.8 with 2 Axes>"
      ]
     },
     "metadata": {},
     "output_type": "display_data"
    }
   ],
   "source": [
    "svm_bowl_16 = svm_16.predict(X_bowl_16)\n",
    "\n",
    "svm_cm_16 = confusion_matrix(y_bowl_16,svm_bowl_16)\n",
    "print(classification_report(y_bowl_16,svm_bowl_16))\n",
    "print(\"This set of predictions was %s%% accurate\\n\" %str(\n",
    "    round(100*accuracy_score(y_bowl_16,svm_bowl_16),2)))\n",
    "\n",
    "plot_confusion_matrix(\n",
    "    svm_cm_16,title='Random Forest', cmap=plt.cm.Blues)"
   ]
  },
  {
   "cell_type": "code",
   "execution_count": 72,
   "id": "92a850aa",
   "metadata": {},
   "outputs": [
    {
     "name": "stderr",
     "output_type": "stream",
     "text": [
      "/opt/anaconda3/lib/python3.9/site-packages/sklearn/base.py:450: UserWarning: X does not have valid feature names, but SVC was fitted with feature names\n",
      "  warnings.warn(\n",
      "/opt/anaconda3/lib/python3.9/site-packages/sklearn/metrics/_classification.py:1318: UndefinedMetricWarning: Precision and F-score are ill-defined and being set to 0.0 in labels with no predicted samples. Use `zero_division` parameter to control this behavior.\n",
      "  _warn_prf(average, modifier, msg_start, len(result))\n",
      "/opt/anaconda3/lib/python3.9/site-packages/sklearn/metrics/_classification.py:1318: UndefinedMetricWarning: Precision and F-score are ill-defined and being set to 0.0 in labels with no predicted samples. Use `zero_division` parameter to control this behavior.\n",
      "  _warn_prf(average, modifier, msg_start, len(result))\n",
      "/opt/anaconda3/lib/python3.9/site-packages/sklearn/metrics/_classification.py:1318: UndefinedMetricWarning: Precision and F-score are ill-defined and being set to 0.0 in labels with no predicted samples. Use `zero_division` parameter to control this behavior.\n",
      "  _warn_prf(average, modifier, msg_start, len(result))\n",
      "/var/folders/kn/qx4j8z6162vd2k57zrwz_w_h0000gp/T/ipykernel_8868/3398209949.py:20: MatplotlibDeprecationWarning: Auto-removal of grids by pcolor() and pcolormesh() is deprecated since 3.5 and will be removed two minor releases later; please call grid(False) first.\n",
      "  plt.colorbar()\n"
     ]
    },
    {
     "name": "stdout",
     "output_type": "stream",
     "text": [
      "              precision    recall  f1-score   support\n",
      "\n",
      "           0       0.00      0.00      0.00        23\n",
      "           1       0.42      1.00      0.60        17\n",
      "\n",
      "    accuracy                           0.42        40\n",
      "   macro avg       0.21      0.50      0.30        40\n",
      "weighted avg       0.18      0.42      0.25        40\n",
      "\n",
      "This set of predictions was 42.5% accurate\n",
      "\n",
      "Confusion matrix, without normalization\n",
      "[[ 0 23]\n",
      " [ 0 17]]\n"
     ]
    },
    {
     "data": {
      "image/png": "[encoded data removed]",
      "text/plain": [
       "<Figure size 748.8x514.8 with 2 Axes>"
      ]
     },
     "metadata": {},
     "output_type": "display_data"
    }
   ],
   "source": [
    "svm_bowl_17 = svm_17.predict(X_bowl_17)\n",
    "\n",
    "svm_cm_17 = confusion_matrix(y_bowl_17,svm_bowl_17)\n",
    "print(classification_report(y_bowl_17,svm_bowl_17))\n",
    "print(\"This set of predictions was %s%% accurate\\n\" %str(\n",
    "    round(100*accuracy_score(y_bowl_17,svm_bowl_17),2)))\n",
    "\n",
    "plot_confusion_matrix(\n",
    "    svm_cm_17,title='Random Forest', cmap=plt.cm.Blues)"
   ]
  },
  {
   "cell_type": "code",
   "execution_count": 73,
   "id": "bab74544",
   "metadata": {},
   "outputs": [
    {
     "name": "stdout",
     "output_type": "stream",
     "text": [
      "              precision    recall  f1-score   support\n",
      "\n",
      "           0       0.00      0.00      0.00        16\n",
      "           1       0.59      1.00      0.74        23\n",
      "\n",
      "    accuracy                           0.59        39\n",
      "   macro avg       0.29      0.50      0.37        39\n",
      "weighted avg       0.35      0.59      0.44        39\n",
      "\n",
      "This set of predictions was 58.97% accurate\n",
      "\n",
      "Confusion matrix, without normalization\n",
      "[[ 0 16]\n",
      " [ 0 23]]\n"
     ]
    },
    {
     "name": "stderr",
     "output_type": "stream",
     "text": [
      "/opt/anaconda3/lib/python3.9/site-packages/sklearn/base.py:450: UserWarning: X does not have valid feature names, but SVC was fitted with feature names\n",
      "  warnings.warn(\n",
      "/opt/anaconda3/lib/python3.9/site-packages/sklearn/metrics/_classification.py:1318: UndefinedMetricWarning: Precision and F-score are ill-defined and being set to 0.0 in labels with no predicted samples. Use `zero_division` parameter to control this behavior.\n",
      "  _warn_prf(average, modifier, msg_start, len(result))\n",
      "/opt/anaconda3/lib/python3.9/site-packages/sklearn/metrics/_classification.py:1318: UndefinedMetricWarning: Precision and F-score are ill-defined and being set to 0.0 in labels with no predicted samples. Use `zero_division` parameter to control this behavior.\n",
      "  _warn_prf(average, modifier, msg_start, len(result))\n",
      "/opt/anaconda3/lib/python3.9/site-packages/sklearn/metrics/_classification.py:1318: UndefinedMetricWarning: Precision and F-score are ill-defined and being set to 0.0 in labels with no predicted samples. Use `zero_division` parameter to control this behavior.\n",
      "  _warn_prf(average, modifier, msg_start, len(result))\n",
      "/var/folders/kn/qx4j8z6162vd2k57zrwz_w_h0000gp/T/ipykernel_8868/3398209949.py:20: MatplotlibDeprecationWarning: Auto-removal of grids by pcolor() and pcolormesh() is deprecated since 3.5 and will be removed two minor releases later; please call grid(False) first.\n",
      "  plt.colorbar()\n"
     ]
    },
    {
     "data": {
      "image/png": "[encoded data removed]",
      "text/plain": [
       "<Figure size 748.8x514.8 with 2 Axes>"
      ]
     },
     "metadata": {},
     "output_type": "display_data"
    }
   ],
   "source": [
    "svm_bowl_18 = svm_18.predict(X_bowl_18)\n",
    "\n",
    "svm_cm_18 = confusion_matrix(y_bowl_18,svm_bowl_18)\n",
    "print(classification_report(y_bowl_18,svm_bowl_18))\n",
    "print(\"This set of predictions was %s%% accurate\\n\" %str(\n",
    "    round(100*accuracy_score(y_bowl_18,svm_bowl_18),2)))\n",
    "\n",
    "plot_confusion_matrix(\n",
    "    svm_cm_18,title='Random Forest', cmap=plt.cm.Blues)"
   ]
  },
  {
   "cell_type": "code",
   "execution_count": 74,
   "id": "de538ca8",
   "metadata": {},
   "outputs": [
    {
     "name": "stdout",
     "output_type": "stream",
     "text": [
      "              precision    recall  f1-score   support\n",
      "\n",
      "           0       0.00      0.00      0.00        22\n",
      "           1       0.45      1.00      0.62        18\n",
      "\n",
      "    accuracy                           0.45        40\n",
      "   macro avg       0.23      0.50      0.31        40\n",
      "weighted avg       0.20      0.45      0.28        40\n",
      "\n",
      "This set of predictions was 45.0% accurate\n",
      "\n",
      "Confusion matrix, without normalization\n",
      "[[ 0 22]\n",
      " [ 0 18]]\n"
     ]
    },
    {
     "name": "stderr",
     "output_type": "stream",
     "text": [
      "/opt/anaconda3/lib/python3.9/site-packages/sklearn/base.py:450: UserWarning: X does not have valid feature names, but SVC was fitted with feature names\n",
      "  warnings.warn(\n",
      "/opt/anaconda3/lib/python3.9/site-packages/sklearn/metrics/_classification.py:1318: UndefinedMetricWarning: Precision and F-score are ill-defined and being set to 0.0 in labels with no predicted samples. Use `zero_division` parameter to control this behavior.\n",
      "  _warn_prf(average, modifier, msg_start, len(result))\n",
      "/opt/anaconda3/lib/python3.9/site-packages/sklearn/metrics/_classification.py:1318: UndefinedMetricWarning: Precision and F-score are ill-defined and being set to 0.0 in labels with no predicted samples. Use `zero_division` parameter to control this behavior.\n",
      "  _warn_prf(average, modifier, msg_start, len(result))\n",
      "/opt/anaconda3/lib/python3.9/site-packages/sklearn/metrics/_classification.py:1318: UndefinedMetricWarning: Precision and F-score are ill-defined and being set to 0.0 in labels with no predicted samples. Use `zero_division` parameter to control this behavior.\n",
      "  _warn_prf(average, modifier, msg_start, len(result))\n",
      "/var/folders/kn/qx4j8z6162vd2k57zrwz_w_h0000gp/T/ipykernel_8868/3398209949.py:20: MatplotlibDeprecationWarning: Auto-removal of grids by pcolor() and pcolormesh() is deprecated since 3.5 and will be removed two minor releases later; please call grid(False) first.\n",
      "  plt.colorbar()\n"
     ]
    },
    {
     "data": {
      "image/png": "[encoded data removed]",
      "text/plain": [
       "<Figure size 748.8x514.8 with 2 Axes>"
      ]
     },
     "metadata": {},
     "output_type": "display_data"
    }
   ],
   "source": [
    "svm_bowl_19 = svm_19.predict(X_bowl_19)\n",
    "\n",
    "svm_cm_19 = confusion_matrix(y_bowl_19,svm_bowl_19)\n",
    "print(classification_report(y_bowl_19,svm_bowl_19))\n",
    "print(\"This set of predictions was %s%% accurate\\n\" %str(\n",
    "    round(100*accuracy_score(y_bowl_19,svm_bowl_19),2)))\n",
    "\n",
    "plot_confusion_matrix(\n",
    "    svm_cm_19,title='Random Forest', cmap=plt.cm.Blues)"
   ]
  },
  {
   "cell_type": "code",
   "execution_count": 75,
   "id": "ec68b158",
   "metadata": {},
   "outputs": [
    {
     "name": "stdout",
     "output_type": "stream",
     "text": [
      "              precision    recall  f1-score   support\n",
      "\n",
      "           0       0.00      0.00      0.00        12\n",
      "           1       0.54      1.00      0.70        14\n",
      "\n",
      "    accuracy                           0.54        26\n",
      "   macro avg       0.27      0.50      0.35        26\n",
      "weighted avg       0.29      0.54      0.38        26\n",
      "\n",
      "This set of predictions was 53.85% accurate\n",
      "\n",
      "Confusion matrix, without normalization\n",
      "[[ 0 12]\n",
      " [ 0 14]]\n"
     ]
    },
    {
     "name": "stderr",
     "output_type": "stream",
     "text": [
      "/opt/anaconda3/lib/python3.9/site-packages/sklearn/base.py:450: UserWarning: X does not have valid feature names, but SVC was fitted with feature names\n",
      "  warnings.warn(\n",
      "/opt/anaconda3/lib/python3.9/site-packages/sklearn/metrics/_classification.py:1318: UndefinedMetricWarning: Precision and F-score are ill-defined and being set to 0.0 in labels with no predicted samples. Use `zero_division` parameter to control this behavior.\n",
      "  _warn_prf(average, modifier, msg_start, len(result))\n",
      "/opt/anaconda3/lib/python3.9/site-packages/sklearn/metrics/_classification.py:1318: UndefinedMetricWarning: Precision and F-score are ill-defined and being set to 0.0 in labels with no predicted samples. Use `zero_division` parameter to control this behavior.\n",
      "  _warn_prf(average, modifier, msg_start, len(result))\n",
      "/opt/anaconda3/lib/python3.9/site-packages/sklearn/metrics/_classification.py:1318: UndefinedMetricWarning: Precision and F-score are ill-defined and being set to 0.0 in labels with no predicted samples. Use `zero_division` parameter to control this behavior.\n",
      "  _warn_prf(average, modifier, msg_start, len(result))\n",
      "/var/folders/kn/qx4j8z6162vd2k57zrwz_w_h0000gp/T/ipykernel_8868/3398209949.py:20: MatplotlibDeprecationWarning: Auto-removal of grids by pcolor() and pcolormesh() is deprecated since 3.5 and will be removed two minor releases later; please call grid(False) first.\n",
      "  plt.colorbar()\n"
     ]
    },
    {
     "data": {
      "image/png": "[encoded data removed]",
      "text/plain": [
       "<Figure size 748.8x514.8 with 2 Axes>"
      ]
     },
     "metadata": {},
     "output_type": "display_data"
    }
   ],
   "source": [
    "svm_bowl_20 = svm_20.predict(X_bowl_20)\n",
    "\n",
    "svm_cm_20 = confusion_matrix(y_bowl_20,svm_bowl_20)\n",
    "print(classification_report(y_bowl_20,svm_bowl_20))\n",
    "print(\"This set of predictions was %s%% accurate\\n\" %str(\n",
    "    round(100*accuracy_score(y_bowl_20,svm_bowl_20),2)))\n",
    "\n",
    "plot_confusion_matrix(\n",
    "    svm_cm_20,title='Random Forest', cmap=plt.cm.Blues)"
   ]
  },
  {
   "cell_type": "code",
   "execution_count": 76,
   "id": "7976b84f",
   "metadata": {},
   "outputs": [
    {
     "name": "stdout",
     "output_type": "stream",
     "text": [
      "              precision    recall  f1-score   support\n",
      "\n",
      "           0       0.00      0.00      0.00        18\n",
      "           1       0.53      1.00      0.69        20\n",
      "\n",
      "    accuracy                           0.53        38\n",
      "   macro avg       0.26      0.50      0.34        38\n",
      "weighted avg       0.28      0.53      0.36        38\n",
      "\n",
      "This set of predictions was 52.63% accurate\n",
      "\n",
      "Confusion matrix, without normalization\n",
      "[[ 0 18]\n",
      " [ 0 20]]\n"
     ]
    },
    {
     "name": "stderr",
     "output_type": "stream",
     "text": [
      "/opt/anaconda3/lib/python3.9/site-packages/sklearn/base.py:450: UserWarning: X does not have valid feature names, but SVC was fitted with feature names\n",
      "  warnings.warn(\n",
      "/opt/anaconda3/lib/python3.9/site-packages/sklearn/metrics/_classification.py:1318: UndefinedMetricWarning: Precision and F-score are ill-defined and being set to 0.0 in labels with no predicted samples. Use `zero_division` parameter to control this behavior.\n",
      "  _warn_prf(average, modifier, msg_start, len(result))\n",
      "/opt/anaconda3/lib/python3.9/site-packages/sklearn/metrics/_classification.py:1318: UndefinedMetricWarning: Precision and F-score are ill-defined and being set to 0.0 in labels with no predicted samples. Use `zero_division` parameter to control this behavior.\n",
      "  _warn_prf(average, modifier, msg_start, len(result))\n",
      "/opt/anaconda3/lib/python3.9/site-packages/sklearn/metrics/_classification.py:1318: UndefinedMetricWarning: Precision and F-score are ill-defined and being set to 0.0 in labels with no predicted samples. Use `zero_division` parameter to control this behavior.\n",
      "  _warn_prf(average, modifier, msg_start, len(result))\n",
      "/var/folders/kn/qx4j8z6162vd2k57zrwz_w_h0000gp/T/ipykernel_8868/3398209949.py:20: MatplotlibDeprecationWarning: Auto-removal of grids by pcolor() and pcolormesh() is deprecated since 3.5 and will be removed two minor releases later; please call grid(False) first.\n",
      "  plt.colorbar()\n"
     ]
    },
    {
     "data": {
      "image/png": "[encoded data removed]",
      "text/plain": [
       "<Figure size 748.8x514.8 with 2 Axes>"
      ]
     },
     "metadata": {},
     "output_type": "display_data"
    }
   ],
   "source": [
    "svm_bowl_21 = svm_21.predict(X_bowl_21)\n",
    "\n",
    "svm_cm_21 = confusion_matrix(y_bowl_21,svm_bowl_21)\n",
    "print(classification_report(y_bowl_21,svm_bowl_21))\n",
    "print(\"This set of predictions was %s%% accurate\\n\" %str(\n",
    "    round(100*accuracy_score(y_bowl_21,svm_bowl_21),2)))\n",
    "\n",
    "plot_confusion_matrix(\n",
    "    svm_cm_21,title='Random Forest', cmap=plt.cm.Blues)"
   ]
  },
  {
   "cell_type": "code",
   "execution_count": 77,
   "id": "aebc8aa7",
   "metadata": {},
   "outputs": [
    {
     "name": "stderr",
     "output_type": "stream",
     "text": [
      "/opt/anaconda3/lib/python3.9/site-packages/sklearn/base.py:450: UserWarning: X does not have valid feature names, but SVC was fitted with feature names\n",
      "  warnings.warn(\n"
     ]
    }
   ],
   "source": [
    "svm_bowl_22 = svm_22.predict(X_bowl_22)\n"
   ]
  },
  {
   "cell_type": "markdown",
   "id": "3c75fc2d",
   "metadata": {},
   "source": [
    "# Get Correct Predictions from Bowls before 2022"
   ]
  },
  {
   "cell_type": "markdown",
   "id": "f5fdb81e",
   "metadata": {},
   "source": [
    "### 2014"
   ]
  },
  {
   "cell_type": "code",
   "execution_count": 78,
   "id": "9b0169b1",
   "metadata": {},
   "outputs": [
    {
     "name": "stdout",
     "output_type": "stream",
     "text": [
      "For 2014, Louisiana vs Nevada, predicted winner Louisiana <br>\n",
      "For 2014, Air Force vs Western Michigan, predicted winner Air Force <br>\n",
      "For 2014, Bowling Green vs South Alabama, predicted winner Bowling Green <br>\n",
      "For 2014, Memphis vs BYU, predicted winner Memphis <br>\n",
      "For 2014, Western Kentucky vs Central Michigan, predicted winner Western Kentucky <br>\n",
      "For 2014, Rice vs Fresno State, predicted winner Rice <br>\n",
      "For 2014, Louisiana Tech vs Illinois, predicted winner Louisiana Tech <br>\n",
      "For 2014, Virginia Tech vs Cincinnati, predicted winner Virginia Tech <br>\n",
      "For 2014, South Carolina vs Miami, predicted winner South Carolina <br>\n",
      "For 2014, Penn State vs Boston College, predicted winner Penn State <br>\n",
      "For 2014, USC vs Nebraska, predicted winner USC <br>\n",
      "For 2014, Clemson vs Oklahoma, predicted winner Clemson <br>\n",
      "For 2014, Stanford vs Maryland, predicted winner Stanford <br>\n",
      "For 2014, TCU vs Ole Miss, predicted winner TCU <br>\n",
      "For 2014, Georgia Tech vs Mississippi State, predicted winner Georgia Tech <br>\n",
      "For 2014, Wisconsin vs Auburn, predicted winner Wisconsin <br>\n",
      "For 2014, Ohio State vs Alabama, predicted winner Ohio State <br>\n",
      "For 2014, Tennessee vs Iowa, predicted winner Tennessee <br>\n",
      "For 2014, UCLA vs Kansas State, predicted winner UCLA <br>\n",
      "For 2014, Oklahoma State vs Washington, predicted winner Oklahoma State <br>\n",
      "For 2014, Florida vs East Carolina, predicted winner Florida <br>\n",
      "For 2014, Ohio State vs Oregon, predicted winner Ohio State <br>\n"
     ]
    }
   ],
   "source": [
    "for bowl, home, away,year,actual in zip(svm_bowl_14, home_bowl_14, away_bowl_14,year_bowl_14,y_bowl_14):\n",
    "    year = str(year)\n",
    "    if actual == bowl:\n",
    "        if bowl == 1:\n",
    "            predicted_winner = home\n",
    "        else:\n",
    "            predicted_winner = away\n",
    "        print(\"For %s, %s vs %s, predicted winner %s <br>\" % (year, home, away, predicted_winner))"
   ]
  },
  {
   "cell_type": "markdown",
   "id": "84fc4280",
   "metadata": {},
   "source": [
    "### 2015"
   ]
  },
  {
   "cell_type": "code",
   "execution_count": 79,
   "id": "b8aaf76b",
   "metadata": {},
   "outputs": [
    {
     "name": "stdout",
     "output_type": "stream",
     "text": [
      "For 2015, Utah vs BYU, predicted winner Utah <br>\n",
      "For 2015, Appalachian State vs Ohio, predicted winner Appalachian State <br>\n",
      "For 2015, Louisiana Tech vs Arkansas State, predicted winner Louisiana Tech <br>\n",
      "For 2015, Toledo vs Temple, predicted winner Toledo <br>\n",
      "For 2015, Western Michigan vs Middle Tennessee, predicted winner Western Michigan <br>\n",
      "For 2015, Marshall vs Connecticut, predicted winner Marshall <br>\n",
      "For 2015, Washington State vs Miami, predicted winner Washington State <br>\n",
      "For 2015, Duke vs Indiana, predicted winner Duke <br>\n",
      "For 2015, Virginia Tech vs Tulsa, predicted winner Virginia Tech <br>\n",
      "For 2015, Nebraska vs UCLA, predicted winner Nebraska <br>\n",
      "For 2015, Navy vs Pittsburgh, predicted winner Navy <br>\n",
      "For 2015, Minnesota vs Central Michigan, predicted winner Minnesota <br>\n",
      "For 2015, Baylor vs North Carolina, predicted winner Baylor <br>\n",
      "For 2015, Mississippi State vs NC State, predicted winner Mississippi State <br>\n",
      "For 2015, Louisville vs Texas A&M, predicted winner Louisville <br>\n",
      "For 2015, Wisconsin vs USC, predicted winner Wisconsin <br>\n",
      "For 2015, Clemson vs Oklahoma, predicted winner Clemson <br>\n",
      "For 2015, Alabama vs Michigan State, predicted winner Alabama <br>\n",
      "For 2015, Tennessee vs Northwestern, predicted winner Tennessee <br>\n",
      "For 2015, Ohio State vs Notre Dame, predicted winner Ohio State <br>\n",
      "For 2015, Ole Miss vs Oklahoma State, predicted winner Ole Miss <br>\n",
      "For 2015, Georgia vs Penn State, predicted winner Georgia <br>\n",
      "For 2015, Arkansas vs Kansas State, predicted winner Arkansas <br>\n",
      "For 2015, TCU vs Oregon, predicted winner TCU <br>\n"
     ]
    }
   ],
   "source": [
    "for bowl, home, away,year,actual in zip(svm_bowl_15, home_bowl_15, away_bowl_15,year_bowl_15,y_bowl_15):\n",
    "    year = str(year)\n",
    "    if actual == bowl:\n",
    "        if bowl == 1:\n",
    "            predicted_winner = home\n",
    "        else:\n",
    "            predicted_winner = away\n",
    "        print(\"For %s, %s vs %s, predicted winner %s <br>\" % (year, home, away, predicted_winner))"
   ]
  },
  {
   "cell_type": "markdown",
   "id": "16898ee8",
   "metadata": {},
   "source": [
    "### 2016"
   ]
  },
  {
   "cell_type": "code",
   "execution_count": 80,
   "id": "930d97c0",
   "metadata": {},
   "outputs": [
    {
     "name": "stdout",
     "output_type": "stream",
     "text": [
      "For 2016, San Diego State vs Houston, predicted winner San Diego State <br>\n",
      "For 2016, Tulsa vs Central Michigan, predicted winner Tulsa <br>\n",
      "For 2016, Western Kentucky vs Memphis, predicted winner Western Kentucky <br>\n",
      "For 2016, Old Dominion vs Eastern Michigan, predicted winner Old Dominion <br>\n",
      "For 2016, Troy vs Ohio, predicted winner Troy <br>\n",
      "For 2016, Mississippi State vs Miami (OH), predicted winner Mississippi State <br>\n",
      "For 2016, Boston College vs Maryland, predicted winner Boston College <br>\n",
      "For 2016, Wake Forest vs Temple, predicted winner Wake Forest <br>\n",
      "For 2016, Baylor vs Boise State, predicted winner Baylor <br>\n",
      "For 2016, Northwestern vs Pittsburgh, predicted winner Northwestern <br>\n",
      "For 2016, Miami vs West Virginia, predicted winner Miami <br>\n",
      "For 2016, Utah vs Indiana, predicted winner Utah <br>\n",
      "For 2016, Kansas State vs Texas A&M, predicted winner Kansas State <br>\n",
      "For 2016, Virginia Tech vs Arkansas, predicted winner Virginia Tech <br>\n",
      "For 2016, Tennessee vs Nebraska, predicted winner Tennessee <br>\n",
      "For 2016, Air Force vs South Alabama, predicted winner Air Force <br>\n",
      "For 2016, Florida State vs Michigan, predicted winner Florida State <br>\n",
      "For 2016, Alabama vs Washington, predicted winner Alabama <br>\n",
      "For 2016, Clemson vs Ohio State, predicted winner Clemson <br>\n",
      "For 2016, Wisconsin vs Western Michigan, predicted winner Wisconsin <br>\n",
      "For 2016, Oklahoma vs Auburn, predicted winner Oklahoma <br>\n"
     ]
    }
   ],
   "source": [
    "for bowl, home, away,year,actual in zip(svm_bowl_16, home_bowl_16, away_bowl_16,year_bowl_16,y_bowl_16):\n",
    "    year = str(year)\n",
    "    if actual == bowl:\n",
    "        if bowl == 1:\n",
    "            predicted_winner = home\n",
    "        else:\n",
    "            predicted_winner = away\n",
    "        print(\"For %s, %s vs %s, predicted winner %s <br>\" % (year, home, away, predicted_winner))"
   ]
  },
  {
   "cell_type": "markdown",
   "id": "cc1ad272",
   "metadata": {},
   "source": [
    "### 2017"
   ]
  },
  {
   "cell_type": "code",
   "execution_count": 81,
   "id": "27a36129",
   "metadata": {},
   "outputs": [
    {
     "name": "stdout",
     "output_type": "stream",
     "text": [
      "For 2017, Georgia State vs Western Kentucky, predicted winner Georgia State <br>\n",
      "For 2017, Florida Atlantic vs Akron, predicted winner Florida Atlantic <br>\n",
      "For 2017, Ohio vs UAB, predicted winner Ohio <br>\n",
      "For 2017, Wyoming vs Central Michigan, predicted winner Wyoming <br>\n",
      "For 2017, South Florida vs Texas Tech, predicted winner South Florida <br>\n",
      "For 2017, Army vs San Diego State, predicted winner Army <br>\n",
      "For 2017, Florida State vs Southern Mississippi, predicted winner Florida State <br>\n",
      "For 2017, Purdue vs Arizona, predicted winner Purdue <br>\n",
      "For 2017, Navy vs Virginia, predicted winner Navy <br>\n",
      "For 2017, Oklahoma State vs Virginia Tech, predicted winner Oklahoma State <br>\n",
      "For 2017, Michigan State vs Washington State, predicted winner Michigan State <br>\n",
      "For 2017, TCU vs Stanford, predicted winner TCU <br>\n",
      "For 2017, Northwestern vs Kentucky, predicted winner Northwestern <br>\n",
      "For 2017, Ohio State vs USC, predicted winner Ohio State <br>\n",
      "For 2017, Mississippi State vs Louisville, predicted winner Mississippi State <br>\n",
      "For 2017, Penn State vs Washington, predicted winner Penn State <br>\n",
      "For 2017, South Carolina vs Michigan, predicted winner South Carolina <br>\n"
     ]
    }
   ],
   "source": [
    "for bowl, home, away,year,actual in zip(svm_bowl_14, home_bowl_17, away_bowl_17,year_bowl_17,y_bowl_17):\n",
    "    year = str(year)\n",
    "    if actual == bowl:\n",
    "        if bowl == 1:\n",
    "            predicted_winner = home\n",
    "        else:\n",
    "            predicted_winner = away\n",
    "        print(\"For %s, %s vs %s, predicted winner %s <br>\" % (year, home, away, predicted_winner))"
   ]
  },
  {
   "cell_type": "markdown",
   "id": "23020352",
   "metadata": {},
   "source": [
    "### 2018"
   ]
  },
  {
   "cell_type": "code",
   "execution_count": 82,
   "id": "11b533a6",
   "metadata": {},
   "outputs": [
    {
     "name": "stdout",
     "output_type": "stream",
     "text": [
      "For 2018, Fresno State vs Arizona State, predicted winner Fresno State <br>\n",
      "For 2018, Appalachian State vs Middle Tennessee, predicted winner Appalachian State <br>\n",
      "For 2018, Ohio vs San Diego State, predicted winner Ohio <br>\n",
      "For 2018, BYU vs Western Michigan, predicted winner BYU <br>\n",
      "For 2018, Wake Forest vs Memphis, predicted winner Wake Forest <br>\n",
      "For 2018, Army vs Houston, predicted winner Army <br>\n",
      "For 2018, Troy vs Buffalo, predicted winner Troy <br>\n",
      "For 2018, Louisiana Tech vs Hawai'i, predicted winner Louisiana Tech <br>\n",
      "For 2018, TCU vs California, predicted winner TCU <br>\n",
      "For 2018, Duke vs Temple, predicted winner Duke <br>\n",
      "For 2018, Wisconsin vs Miami, predicted winner Wisconsin <br>\n",
      "For 2018, Auburn vs Purdue, predicted winner Auburn <br>\n",
      "For 2018, Syracuse vs West Virginia, predicted winner Syracuse <br>\n",
      "For 2018, Washington State vs Iowa State, predicted winner Washington State <br>\n",
      "For 2018, Virginia vs South Carolina, predicted winner Virginia <br>\n",
      "For 2018, Nevada vs Arkansas State, predicted winner Nevada <br>\n",
      "For 2018, Clemson vs Notre Dame, predicted winner Clemson <br>\n",
      "For 2018, Alabama vs Oklahoma, predicted winner Alabama <br>\n",
      "For 2018, Oregon vs Michigan State, predicted winner Oregon <br>\n",
      "For 2018, Oklahoma State vs Missouri, predicted winner Oklahoma State <br>\n",
      "For 2018, Texas A&M vs NC State, predicted winner Texas A&M <br>\n",
      "For 2018, Iowa vs Mississippi State, predicted winner Iowa <br>\n",
      "For 2018, Ohio State vs Washington, predicted winner Ohio State <br>\n"
     ]
    }
   ],
   "source": [
    "for bowl, home, away,year,actual in zip(svm_bowl_18, home_bowl_18, away_bowl_18,year_bowl_18,y_bowl_18):\n",
    "    year = str(year)\n",
    "    if actual == bowl:\n",
    "        if bowl == 1:\n",
    "            predicted_winner = home\n",
    "        else:\n",
    "            predicted_winner = away\n",
    "        print(\"For %s, %s vs %s, predicted winner %s <br>\" % (year, home, away, predicted_winner))"
   ]
  },
  {
   "cell_type": "markdown",
   "id": "2238e914",
   "metadata": {},
   "source": [
    "### 2019"
   ]
  },
  {
   "cell_type": "code",
   "execution_count": 83,
   "id": "980cb8be",
   "metadata": {},
   "outputs": [
    {
     "name": "stdout",
     "output_type": "stream",
     "text": [
      "For 2019, Kent State vs Utah State, predicted winner Kent State <br>\n",
      "For 2019, San Diego State vs Central Michigan, predicted winner San Diego State <br>\n",
      "For 2019, Florida Atlantic vs SMU, predicted winner Florida Atlantic <br>\n",
      "For 2019, Arkansas State vs Florida International, predicted winner Arkansas State <br>\n",
      "For 2019, Washington vs Boise State, predicted winner Washington <br>\n",
      "For 2019, Texas A&M vs Oklahoma State, predicted winner Texas A&M <br>\n",
      "For 2019, Iowa vs USC, predicted winner Iowa <br>\n",
      "For 2019, Penn State vs Memphis, predicted winner Penn State <br>\n",
      "For 2019, LSU vs Oklahoma, predicted winner LSU <br>\n",
      "For 2019, Louisville vs Mississippi State, predicted winner Louisville <br>\n",
      "For 2019, Kentucky vs Virginia Tech, predicted winner Kentucky <br>\n",
      "For 2019, Arizona State vs Florida State, predicted winner Arizona State <br>\n",
      "For 2019, Texas vs Utah, predicted winner Texas <br>\n",
      "For 2019, Alabama vs Michigan, predicted winner Alabama <br>\n",
      "For 2019, Cincinnati vs Boston College, predicted winner Cincinnati <br>\n",
      "For 2019, Tennessee vs Indiana, predicted winner Tennessee <br>\n",
      "For 2019, Tulane vs Southern Mississippi, predicted winner Tulane <br>\n",
      "For 2019, LSU vs Clemson, predicted winner LSU <br>\n"
     ]
    }
   ],
   "source": [
    "for bowl, home, away,year,actual in zip(svm_bowl_19, home_bowl_19, away_bowl_19,year_bowl_19,y_bowl_19):\n",
    "    year = str(year)\n",
    "    if actual == bowl:\n",
    "        if bowl == 1:\n",
    "            predicted_winner = home\n",
    "        else:\n",
    "            predicted_winner = away\n",
    "        print(\"For %s, %s vs %s, predicted winner %s <br>\" % (year, home, away, predicted_winner))"
   ]
  },
  {
   "cell_type": "markdown",
   "id": "db8e17e2",
   "metadata": {},
   "source": [
    "### 2020"
   ]
  },
  {
   "cell_type": "code",
   "execution_count": 84,
   "id": "f8b54989",
   "metadata": {},
   "outputs": [
    {
     "name": "stdout",
     "output_type": "stream",
     "text": [
      "For 2020, Nevada vs Tulane, predicted winner Nevada <br>\n",
      "For 2020, BYU vs UCF, predicted winner BYU <br>\n",
      "For 2020, Georgia Southern vs Louisiana Tech, predicted winner Georgia Southern <br>\n",
      "For 2020, Buffalo vs Marshall, predicted winner Buffalo <br>\n",
      "For 2020, Georgia State vs Western Kentucky, predicted winner Georgia State <br>\n",
      "For 2020, Wisconsin vs Wake Forest, predicted winner Wisconsin <br>\n",
      "For 2020, Oklahoma vs Florida, predicted winner Oklahoma <br>\n",
      "For 2020, Mississippi State vs Tulsa, predicted winner Mississippi State <br>\n",
      "For 2020, Georgia vs Cincinnati, predicted winner Georgia <br>\n",
      "For 2020, Northwestern vs Auburn, predicted winner Northwestern <br>\n",
      "For 2020, Alabama vs Notre Dame, predicted winner Alabama <br>\n",
      "For 2020, Kentucky vs NC State, predicted winner Kentucky <br>\n",
      "For 2020, Iowa State vs Oregon, predicted winner Iowa State <br>\n",
      "For 2020, Alabama vs Ohio State, predicted winner Alabama <br>\n"
     ]
    }
   ],
   "source": [
    "for bowl, home, away,year,actual in zip(svm_bowl_20, home_bowl_20, away_bowl_20,year_bowl_20,y_bowl_20):\n",
    "    year = str(year)\n",
    "    if actual == bowl:\n",
    "        if bowl == 1:\n",
    "            predicted_winner = home\n",
    "        else:\n",
    "            predicted_winner = away\n",
    "        print(\"For %s, %s vs %s, predicted winner %s <br>\" % (year, home, away, predicted_winner))"
   ]
  },
  {
   "cell_type": "markdown",
   "id": "13999c3c",
   "metadata": {},
   "source": [
    "### 2021"
   ]
  },
  {
   "cell_type": "code",
   "execution_count": 85,
   "id": "257e6a13",
   "metadata": {},
   "outputs": [
    {
     "name": "stdout",
     "output_type": "stream",
     "text": [
      "For 2021, Coastal Carolina vs Northern Illinois, predicted winner Coastal Carolina <br>\n",
      "For 2021, Fresno State vs UTEP, predicted winner Fresno State <br>\n",
      "For 2021, Liberty vs Eastern Michigan, predicted winner Liberty <br>\n",
      "For 2021, Tulsa vs Old Dominion, predicted winner Tulsa <br>\n",
      "For 2021, Wyoming vs Kent State, predicted winner Wyoming <br>\n",
      "For 2021, San Diego State vs UT San Antonio, predicted winner San Diego State <br>\n",
      "For 2021, Army vs Missouri, predicted winner Army <br>\n",
      "For 2021, Miami (OH) vs North Texas, predicted winner Miami (OH) <br>\n",
      "For 2021, Texas Tech vs Mississippi State, predicted winner Texas Tech <br>\n",
      "For 2021, Minnesota vs West Virginia, predicted winner Minnesota <br>\n",
      "For 2021, Oklahoma vs Oregon, predicted winner Oklahoma <br>\n",
      "For 2021, South Carolina vs North Carolina, predicted winner South Carolina <br>\n",
      "For 2021, Purdue vs Tennessee, predicted winner Purdue <br>\n",
      "For 2021, Michigan State vs Pittsburgh, predicted winner Michigan State <br>\n",
      "For 2021, Central Michigan vs Washington State, predicted winner Central Michigan <br>\n",
      "For 2021, Alabama vs Cincinnati, predicted winner Alabama <br>\n",
      "For 2021, Arkansas vs Penn State, predicted winner Arkansas <br>\n",
      "For 2021, Kentucky vs Iowa, predicted winner Kentucky <br>\n",
      "For 2021, Ohio State vs Utah, predicted winner Ohio State <br>\n",
      "For 2021, Kansas State vs LSU, predicted winner Kansas State <br>\n"
     ]
    }
   ],
   "source": [
    "for bowl, home, away,year,actual in zip(svm_bowl_21, home_bowl_21, away_bowl_21,year_bowl_21,y_bowl_21):\n",
    "    year = str(year)\n",
    "    if actual == bowl:\n",
    "        if bowl == 1:\n",
    "            predicted_winner = home\n",
    "        else:\n",
    "            predicted_winner = away\n",
    "        print(\"For %s, %s vs %s, predicted winner %s <br>\" % (year, home, away, predicted_winner))"
   ]
  },
  {
   "cell_type": "markdown",
   "id": "649208ab",
   "metadata": {},
   "source": [
    "### 2022"
   ]
  },
  {
   "cell_type": "code",
   "execution_count": 86,
   "id": "e381ac9d",
   "metadata": {},
   "outputs": [
    {
     "name": "stdout",
     "output_type": "stream",
     "text": [
      "For 2022, TCU vs Michigan, predicted winner TCU <br>\n",
      "For 2022, Georgia vs Ohio State, predicted winner Georgia <br>\n",
      "For 2022, Kansas State vs Alabama, predicted winner Kansas State <br>\n",
      "For 2022, Clemson vs Tennessee, predicted winner Clemson <br>\n",
      "For 2022, Texas vs Washington, predicted winner Texas <br>\n",
      "For 2022, Oklahoma vs Florida State, predicted winner Oklahoma <br>\n",
      "For 2022, Georgia vs Michigan, predicted winner Georgia <br>\n"
     ]
    }
   ],
   "source": [
    "for bowl, home, away,year in zip(svm_bowl_22, home_bowl_22, away_bowl_22,year_bowl_22):\n",
    "    year = str(year)\n",
    "    if bowl == 1:\n",
    "        predicted_winner = home\n",
    "    else:\n",
    "        predicted_winner = away\n",
    "    print(\"For %s, %s vs %s, predicted winner %s <br>\" % (year, home, away, predicted_winner))"
   ]
  },
  {
   "cell_type": "code",
   "execution_count": null,
   "id": "cf2c91f1",
   "metadata": {},
   "outputs": [],
   "source": []
  }
 ],
 "metadata": {
  "kernelspec": {
   "display_name": "Python 3 (ipykernel)",
   "language": "python",
   "name": "python3"
  },
  "language_info": {
   "codemirror_mode": {
    "name": "ipython",
    "version": 3
   },
   "file_extension": ".py",
   "mimetype": "text/x-python",
   "name": "python",
   "nbconvert_exporter": "python",
   "pygments_lexer": "ipython3",
   "version": "3.9.12"
  }
 },
 "nbformat": 4,
 "nbformat_minor": 5
}
