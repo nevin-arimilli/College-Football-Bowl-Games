{
 "cells": [
  {
   "cell_type": "code",
   "execution_count": 1,
   "id": "5ed4ef9f",
   "metadata": {},
   "outputs": [],
   "source": [
    "import pandas as pd\n",
    "from matplotlib import pyplot as plt\n",
    "import seaborn as sns\n",
    "import matplotlib.ticker as plticker\n",
    "import numpy as np\n",
    "import sklearn.model_selection as ms\n",
    "\n",
    "from sklearn.model_selection import train_test_split\n",
    "\n",
    "from sklearn.model_selection import cross_val_score\n",
    "from sklearn.linear_model import LogisticRegression\n",
    "from sklearn.pipeline import Pipeline\n",
    "from sklearn.neural_network import MLPRegressor\n",
    "from sklearn.preprocessing import OneHotEncoder, StandardScaler\n",
    "from sklearn.neural_network import MLPClassifier\n",
    "from sklearn.model_selection import GridSearchCV\n",
    "\n",
    "from sklearn.metrics import classification_report, confusion_matrix, accuracy_score\n",
    "import itertools\n",
    "\n",
    "plt.style.use('seaborn-talk')\n",
    "plt.style.use('ggplot')"
   ]
  },
  {
   "cell_type": "code",
   "execution_count": 62,
   "id": "eef23723",
   "metadata": {},
   "outputs": [],
   "source": [
    "df14 = pd.read_csv('games/games14.csv')\n",
    "df15 = pd.read_csv('games/games15.csv')\n",
    "df16 = pd.read_csv('games/games16.csv')\n",
    "df17 = pd.read_csv('games/games17.csv')\n",
    "df18 = pd.read_csv('games/games18.csv')\n",
    "df19 = pd.read_csv('games/games19.csv')\n",
    "df20 = pd.read_csv('games/games20.csv')\n",
    "df21 = pd.read_csv('games/games21.csv')\n",
    "df22 = pd.read_csv('games/games22.csv')"
   ]
  },
  {
   "cell_type": "markdown",
   "id": "35e06738",
   "metadata": {},
   "source": [
    "# Strength of Schedule Calculation"
   ]
  },
  {
   "cell_type": "code",
   "execution_count": 3,
   "id": "0b3a62a0",
   "metadata": {},
   "outputs": [
    {
     "ename": "NameError",
     "evalue": "name 'df14' is not defined",
     "output_type": "error",
     "traceback": [
      "\u001b[0;31m---------------------------------------------------------------------------\u001b[0m",
      "\u001b[0;31mNameError\u001b[0m                                 Traceback (most recent call last)",
      "Input \u001b[0;32mIn [3]\u001b[0m, in \u001b[0;36m<cell line: 1>\u001b[0;34m()\u001b[0m\n\u001b[0;32m----> 1\u001b[0m df_list \u001b[38;5;241m=\u001b[39m [\u001b[43mdf14\u001b[49m,df15,df16,df17,df18,df19,df20,df21,df22]\n\u001b[1;32m      3\u001b[0m \u001b[38;5;28;01mfor\u001b[39;00m df \u001b[38;5;129;01min\u001b[39;00m df_list:\n\u001b[1;32m      4\u001b[0m     \u001b[38;5;66;03m# Create new dataframe\u001b[39;00m\n\u001b[1;32m      5\u001b[0m     temp \u001b[38;5;241m=\u001b[39m df\u001b[38;5;241m.\u001b[39mgroupby(\u001b[38;5;124m'\u001b[39m\u001b[38;5;124moffense\u001b[39m\u001b[38;5;124m'\u001b[39m)\u001b[38;5;241m.\u001b[39magg({\u001b[38;5;124m'\u001b[39m\u001b[38;5;124mWin\u001b[39m\u001b[38;5;124m'\u001b[39m:[\u001b[38;5;124m'\u001b[39m\u001b[38;5;124msum\u001b[39m\u001b[38;5;124m'\u001b[39m, \u001b[38;5;124m'\u001b[39m\u001b[38;5;124mcount\u001b[39m\u001b[38;5;124m'\u001b[39m]})\n",
      "\u001b[0;31mNameError\u001b[0m: name 'df14' is not defined"
     ]
    }
   ],
   "source": [
    "df_list = [df14,df15,df16,df17,df18,df19,df20,df21,df22]\n",
    "\n",
    "for df in df_list:\n",
    "    # Create new dataframe\n",
    "    temp = df.groupby('offense').agg({'Win':['sum', 'count']})\n",
    "    temp.columns = ['Wins', 'games_offense']\n",
    "    temp.loc[temp['games_offense'] < 8, 'games_offense'] = 10\n",
    "    #temp.drop(temp[temp['games_offense'] < 3].index,inplace = True)\n",
    "    temp['Win Pct'] = temp['Wins']/temp['games_offense']\n",
    "    # first, create a dictionary that maps teams from df14_SOS to their Win Pct\n",
    "    win_pct_dict = temp['Win Pct'].to_dict()\n",
    "    wins_dict = temp['Wins'].to_dict()\n",
    "    off_games_dict = temp['games_offense'].to_dict()\n",
    "    # then, use the dictionary to map teams in df14 to their Win Pct\n",
    "    df['Def Win Pct'] = df['defense'].map(win_pct_dict)\n",
    "    \n",
    "    temp2 = df.groupby(['defense','offense']).agg({'Win':['sum', 'count']})\n",
    "    temp2.columns = ['Win','games_defense']\n",
    "    temp2 = temp2.reset_index()\n",
    "    temp2['offense_wins'] = temp2['offense'].map(wins_dict)\n",
    "    temp2['games_offense'] = temp2['offense'].map(off_games_dict)\n",
    "    temp2.loc[temp2['games_offense'] < 8, 'games_offense'] = 10\n",
    "    \n",
    "    temp3 = temp2.groupby('defense').agg({'offense_wins':'sum','games_offense':'sum'})\n",
    "    temp3.columns = ['Opp_Wins', 'games_opp']\n",
    "    temp3['Opp_Win Pct'] = temp3['Opp_Wins']/temp3['games_opp']\n",
    "    opp_win_pct_dict = temp3['Opp_Win Pct'].to_dict()\n",
    "    df['Def_Opp Win Pct'] = df['defense'].map(opp_win_pct_dict)\n",
    "    \n",
    "    df['Def SoS'] =2*df['Def Win Pct']/3 + 1*df['Def_Opp Win Pct']/3\n",
    "\n",
    "    \n",
    "\n",
    "    "
   ]
  },
  {
   "cell_type": "code",
   "execution_count": 64,
   "id": "32322cc7",
   "metadata": {},
   "outputs": [],
   "source": [
    "df14 = df14.drop(['Unnamed: 0','Def Win Pct','Def_Opp Win Pct'],axis = 1)\n",
    "df15 = df15.drop(['Unnamed: 0','Def Win Pct','Def_Opp Win Pct'],axis = 1)\n",
    "df16 = df16.drop(['Unnamed: 0','Def Win Pct','Def_Opp Win Pct'],axis = 1)\n",
    "df17 = df17.drop(['Unnamed: 0','Def Win Pct','Def_Opp Win Pct'],axis = 1)\n",
    "df18 = df18.drop(['Unnamed: 0','Def Win Pct','Def_Opp Win Pct'],axis = 1)\n",
    "df19 = df19.drop(['Unnamed: 0','Def Win Pct','Def_Opp Win Pct'],axis = 1)\n",
    "df20 = df20.drop(['Unnamed: 0','Def Win Pct','Def_Opp Win Pct'],axis = 1)\n",
    "df21 = df21.drop(['Unnamed: 0','Def Win Pct','Def_Opp Win Pct'],axis = 1)\n",
    "df22 = df22.drop(['Unnamed: 0','Def Win Pct','Def_Opp Win Pct'],axis = 1)"
   ]
  },
  {
   "cell_type": "markdown",
   "id": "0b0d0414",
   "metadata": {},
   "source": [
    "# Saving SoS Calculation"
   ]
  },
  {
   "cell_type": "code",
   "execution_count": 66,
   "id": "7dbab24d",
   "metadata": {},
   "outputs": [],
   "source": [
    "df14.to_csv('games14.csv')\n",
    "df15.to_csv('games15.csv')\n",
    "df16.to_csv('games16.csv')\n",
    "df17.to_csv('games17.csv')\n",
    "df18.to_csv('games18.csv')\n",
    "df19.to_csv('games19.csv')\n",
    "df20.to_csv('games20.csv')\n",
    "df21.to_csv('games21.csv')\n",
    "df22.to_csv('games22.csv')"
   ]
  },
  {
   "cell_type": "markdown",
   "id": "904508c0",
   "metadata": {},
   "source": [
    "# Adding Target to Bowls"
   ]
  },
  {
   "cell_type": "code",
   "execution_count": 87,
   "id": "1e5894e8",
   "metadata": {},
   "outputs": [],
   "source": [
    "bowls14 = pd.read_csv('Bowl_Games/bowls_14.csv')\n",
    "bowls15 = pd.read_csv('Bowl_Games/bowls_15.csv')\n",
    "bowls16 = pd.read_csv('Bowl_Games/bowls_16.csv')\n",
    "bowls17 = pd.read_csv('Bowl_Games/bowls_17.csv')\n",
    "bowls18 = pd.read_csv('Bowl_Games/bowls_18.csv')\n",
    "bowls19 = pd.read_csv('Bowl_Games/bowls_19.csv')\n",
    "bowls20 = pd.read_csv('Bowl_Games/bowls_20.csv')\n",
    "bowls21 = pd.read_csv('Bowl_Games/bowls_21.csv')\n"
   ]
  },
  {
   "cell_type": "code",
   "execution_count": 89,
   "id": "ab837f39",
   "metadata": {},
   "outputs": [],
   "source": [
    "bowls14 = bowls14[['home_team','away_team','home_conference','away_conference','home_points','away_points']]\n",
    "bowls15 = bowls15[['home_team','away_team','home_conference','away_conference','home_points','away_points']]\n",
    "bowls16 = bowls16[['home_team','away_team','home_conference','away_conference','home_points','away_points']]\n",
    "bowls17 = bowls17[['home_team','away_team','home_conference','away_conference','home_points','away_points']]\n",
    "bowls18 = bowls18[['home_team','away_team','home_conference','away_conference','home_points','away_points']]\n",
    "bowls19 = bowls19[['home_team','away_team','home_conference','away_conference','home_points','away_points']]\n",
    "bowls20 = bowls20[['home_team','away_team','home_conference','away_conference','home_points','away_points']]\n",
    "bowls21 = bowls21[['home_team','away_team','home_conference','away_conference','home_points','away_points']]\n"
   ]
  },
  {
   "cell_type": "code",
   "execution_count": 92,
   "id": "056def77",
   "metadata": {},
   "outputs": [
    {
     "name": "stderr",
     "output_type": "stream",
     "text": [
      "/var/folders/kn/qx4j8z6162vd2k57zrwz_w_h0000gp/T/ipykernel_898/2207120434.py:3: SettingWithCopyWarning: \n",
      "A value is trying to be set on a copy of a slice from a DataFrame.\n",
      "Try using .loc[row_indexer,col_indexer] = value instead\n",
      "\n",
      "See the caveats in the documentation: https://pandas.pydata.org/pandas-docs/stable/user_guide/indexing.html#returning-a-view-versus-a-copy\n",
      "  df['home_win'] = df['home_points'] > df['away_points']\n",
      "/var/folders/kn/qx4j8z6162vd2k57zrwz_w_h0000gp/T/ipykernel_898/2207120434.py:4: SettingWithCopyWarning: \n",
      "A value is trying to be set on a copy of a slice from a DataFrame.\n",
      "Try using .loc[row_indexer,col_indexer] = value instead\n",
      "\n",
      "See the caveats in the documentation: https://pandas.pydata.org/pandas-docs/stable/user_guide/indexing.html#returning-a-view-versus-a-copy\n",
      "  df['home_win'] = df['home_win'].astype(int)\n",
      "/var/folders/kn/qx4j8z6162vd2k57zrwz_w_h0000gp/T/ipykernel_898/2207120434.py:3: SettingWithCopyWarning: \n",
      "A value is trying to be set on a copy of a slice from a DataFrame.\n",
      "Try using .loc[row_indexer,col_indexer] = value instead\n",
      "\n",
      "See the caveats in the documentation: https://pandas.pydata.org/pandas-docs/stable/user_guide/indexing.html#returning-a-view-versus-a-copy\n",
      "  df['home_win'] = df['home_points'] > df['away_points']\n",
      "/var/folders/kn/qx4j8z6162vd2k57zrwz_w_h0000gp/T/ipykernel_898/2207120434.py:4: SettingWithCopyWarning: \n",
      "A value is trying to be set on a copy of a slice from a DataFrame.\n",
      "Try using .loc[row_indexer,col_indexer] = value instead\n",
      "\n",
      "See the caveats in the documentation: https://pandas.pydata.org/pandas-docs/stable/user_guide/indexing.html#returning-a-view-versus-a-copy\n",
      "  df['home_win'] = df['home_win'].astype(int)\n",
      "/var/folders/kn/qx4j8z6162vd2k57zrwz_w_h0000gp/T/ipykernel_898/2207120434.py:3: SettingWithCopyWarning: \n",
      "A value is trying to be set on a copy of a slice from a DataFrame.\n",
      "Try using .loc[row_indexer,col_indexer] = value instead\n",
      "\n",
      "See the caveats in the documentation: https://pandas.pydata.org/pandas-docs/stable/user_guide/indexing.html#returning-a-view-versus-a-copy\n",
      "  df['home_win'] = df['home_points'] > df['away_points']\n",
      "/var/folders/kn/qx4j8z6162vd2k57zrwz_w_h0000gp/T/ipykernel_898/2207120434.py:4: SettingWithCopyWarning: \n",
      "A value is trying to be set on a copy of a slice from a DataFrame.\n",
      "Try using .loc[row_indexer,col_indexer] = value instead\n",
      "\n",
      "See the caveats in the documentation: https://pandas.pydata.org/pandas-docs/stable/user_guide/indexing.html#returning-a-view-versus-a-copy\n",
      "  df['home_win'] = df['home_win'].astype(int)\n",
      "/var/folders/kn/qx4j8z6162vd2k57zrwz_w_h0000gp/T/ipykernel_898/2207120434.py:3: SettingWithCopyWarning: \n",
      "A value is trying to be set on a copy of a slice from a DataFrame.\n",
      "Try using .loc[row_indexer,col_indexer] = value instead\n",
      "\n",
      "See the caveats in the documentation: https://pandas.pydata.org/pandas-docs/stable/user_guide/indexing.html#returning-a-view-versus-a-copy\n",
      "  df['home_win'] = df['home_points'] > df['away_points']\n",
      "/var/folders/kn/qx4j8z6162vd2k57zrwz_w_h0000gp/T/ipykernel_898/2207120434.py:4: SettingWithCopyWarning: \n",
      "A value is trying to be set on a copy of a slice from a DataFrame.\n",
      "Try using .loc[row_indexer,col_indexer] = value instead\n",
      "\n",
      "See the caveats in the documentation: https://pandas.pydata.org/pandas-docs/stable/user_guide/indexing.html#returning-a-view-versus-a-copy\n",
      "  df['home_win'] = df['home_win'].astype(int)\n",
      "/var/folders/kn/qx4j8z6162vd2k57zrwz_w_h0000gp/T/ipykernel_898/2207120434.py:3: SettingWithCopyWarning: \n",
      "A value is trying to be set on a copy of a slice from a DataFrame.\n",
      "Try using .loc[row_indexer,col_indexer] = value instead\n",
      "\n",
      "See the caveats in the documentation: https://pandas.pydata.org/pandas-docs/stable/user_guide/indexing.html#returning-a-view-versus-a-copy\n",
      "  df['home_win'] = df['home_points'] > df['away_points']\n",
      "/var/folders/kn/qx4j8z6162vd2k57zrwz_w_h0000gp/T/ipykernel_898/2207120434.py:4: SettingWithCopyWarning: \n",
      "A value is trying to be set on a copy of a slice from a DataFrame.\n",
      "Try using .loc[row_indexer,col_indexer] = value instead\n",
      "\n",
      "See the caveats in the documentation: https://pandas.pydata.org/pandas-docs/stable/user_guide/indexing.html#returning-a-view-versus-a-copy\n",
      "  df['home_win'] = df['home_win'].astype(int)\n",
      "/var/folders/kn/qx4j8z6162vd2k57zrwz_w_h0000gp/T/ipykernel_898/2207120434.py:3: SettingWithCopyWarning: \n",
      "A value is trying to be set on a copy of a slice from a DataFrame.\n",
      "Try using .loc[row_indexer,col_indexer] = value instead\n",
      "\n",
      "See the caveats in the documentation: https://pandas.pydata.org/pandas-docs/stable/user_guide/indexing.html#returning-a-view-versus-a-copy\n",
      "  df['home_win'] = df['home_points'] > df['away_points']\n",
      "/var/folders/kn/qx4j8z6162vd2k57zrwz_w_h0000gp/T/ipykernel_898/2207120434.py:4: SettingWithCopyWarning: \n",
      "A value is trying to be set on a copy of a slice from a DataFrame.\n",
      "Try using .loc[row_indexer,col_indexer] = value instead\n",
      "\n",
      "See the caveats in the documentation: https://pandas.pydata.org/pandas-docs/stable/user_guide/indexing.html#returning-a-view-versus-a-copy\n",
      "  df['home_win'] = df['home_win'].astype(int)\n",
      "/var/folders/kn/qx4j8z6162vd2k57zrwz_w_h0000gp/T/ipykernel_898/2207120434.py:3: SettingWithCopyWarning: \n",
      "A value is trying to be set on a copy of a slice from a DataFrame.\n",
      "Try using .loc[row_indexer,col_indexer] = value instead\n",
      "\n",
      "See the caveats in the documentation: https://pandas.pydata.org/pandas-docs/stable/user_guide/indexing.html#returning-a-view-versus-a-copy\n",
      "  df['home_win'] = df['home_points'] > df['away_points']\n",
      "/var/folders/kn/qx4j8z6162vd2k57zrwz_w_h0000gp/T/ipykernel_898/2207120434.py:4: SettingWithCopyWarning: \n",
      "A value is trying to be set on a copy of a slice from a DataFrame.\n",
      "Try using .loc[row_indexer,col_indexer] = value instead\n",
      "\n",
      "See the caveats in the documentation: https://pandas.pydata.org/pandas-docs/stable/user_guide/indexing.html#returning-a-view-versus-a-copy\n",
      "  df['home_win'] = df['home_win'].astype(int)\n",
      "/var/folders/kn/qx4j8z6162vd2k57zrwz_w_h0000gp/T/ipykernel_898/2207120434.py:3: SettingWithCopyWarning: \n",
      "A value is trying to be set on a copy of a slice from a DataFrame.\n",
      "Try using .loc[row_indexer,col_indexer] = value instead\n",
      "\n",
      "See the caveats in the documentation: https://pandas.pydata.org/pandas-docs/stable/user_guide/indexing.html#returning-a-view-versus-a-copy\n",
      "  df['home_win'] = df['home_points'] > df['away_points']\n",
      "/var/folders/kn/qx4j8z6162vd2k57zrwz_w_h0000gp/T/ipykernel_898/2207120434.py:4: SettingWithCopyWarning: \n",
      "A value is trying to be set on a copy of a slice from a DataFrame.\n",
      "Try using .loc[row_indexer,col_indexer] = value instead\n",
      "\n",
      "See the caveats in the documentation: https://pandas.pydata.org/pandas-docs/stable/user_guide/indexing.html#returning-a-view-versus-a-copy\n",
      "  df['home_win'] = df['home_win'].astype(int)\n"
     ]
    }
   ],
   "source": [
    "bowl_list = [bowls14,bowls15,bowls16,bowls17,bowls18,bowls19,bowls20,bowls21]\n",
    "for df in bowl_list:\n",
    "    df['home_win'] = df['home_points'] > df['away_points']\n",
    "    df['home_win'] = df['home_win'].astype(int)\n"
   ]
  },
  {
   "cell_type": "markdown",
   "id": "4bc8bfae",
   "metadata": {},
   "source": [
    "# Saving Bowls to CSV"
   ]
  },
  {
   "cell_type": "code",
   "execution_count": 96,
   "id": "0bbfec64",
   "metadata": {},
   "outputs": [],
   "source": [
    "bowls14.to_csv('bowls_14.csv')\n",
    "bowls15.to_csv('bowls_15.csv')\n",
    "bowls16.to_csv('bowls_16.csv')\n",
    "bowls17.to_csv('bowls_17.csv')\n",
    "bowls18.to_csv('bowls_18.csv')\n",
    "bowls19.to_csv('bowls_19.csv')\n",
    "bowls20.to_csv('bowls_20.csv')\n",
    "bowls21.to_csv('bowls_21.csv')\n"
   ]
  },
  {
   "cell_type": "code",
   "execution_count": 98,
   "id": "f52157de",
   "metadata": {},
   "outputs": [
    {
     "data": {
      "text/html": [
       "<div>\n",
       "<style scoped>\n",
       "    .dataframe tbody tr th:only-of-type {\n",
       "        vertical-align: middle;\n",
       "    }\n",
       "\n",
       "    .dataframe tbody tr th {\n",
       "        vertical-align: top;\n",
       "    }\n",
       "\n",
       "    .dataframe thead th {\n",
       "        text-align: right;\n",
       "    }\n",
       "</style>\n",
       "<table border=\"1\" class=\"dataframe\">\n",
       "  <thead>\n",
       "    <tr style=\"text-align: right;\">\n",
       "      <th></th>\n",
       "      <th>offense</th>\n",
       "      <th>defense</th>\n",
       "      <th>game_id</th>\n",
       "      <th>LocOff</th>\n",
       "      <th>LocDef</th>\n",
       "      <th>Off. Conf</th>\n",
       "      <th>Def. Conf</th>\n",
       "      <th>Plays</th>\n",
       "      <th>Rush Atts</th>\n",
       "      <th>Rush Yards</th>\n",
       "      <th>...</th>\n",
       "      <th>Turnover</th>\n",
       "      <th>Field Goal Made</th>\n",
       "      <th>Field Goal Attempt</th>\n",
       "      <th>offense_score</th>\n",
       "      <th>defense_score</th>\n",
       "      <th>PPD</th>\n",
       "      <th>Win</th>\n",
       "      <th>score_diff</th>\n",
       "      <th>OT</th>\n",
       "      <th>Def SoS</th>\n",
       "    </tr>\n",
       "  </thead>\n",
       "  <tbody>\n",
       "    <tr>\n",
       "      <th>0</th>\n",
       "      <td>Temple</td>\n",
       "      <td>Vanderbilt</td>\n",
       "      <td>[400547640]</td>\n",
       "      <td>-1</td>\n",
       "      <td>1</td>\n",
       "      <td>['American Athletic']</td>\n",
       "      <td>['SEC']</td>\n",
       "      <td>78</td>\n",
       "      <td>42</td>\n",
       "      <td>158</td>\n",
       "      <td>...</td>\n",
       "      <td>2</td>\n",
       "      <td>3</td>\n",
       "      <td>4</td>\n",
       "      <td>37</td>\n",
       "      <td>7.0</td>\n",
       "      <td>2.176471</td>\n",
       "      <td>1</td>\n",
       "      <td>30.0</td>\n",
       "      <td>0</td>\n",
       "      <td>0.342995</td>\n",
       "    </tr>\n",
       "    <tr>\n",
       "      <th>1</th>\n",
       "      <td>Vanderbilt</td>\n",
       "      <td>Temple</td>\n",
       "      <td>[400547640]</td>\n",
       "      <td>1</td>\n",
       "      <td>-1</td>\n",
       "      <td>['SEC']</td>\n",
       "      <td>['American Athletic']</td>\n",
       "      <td>57</td>\n",
       "      <td>23</td>\n",
       "      <td>88</td>\n",
       "      <td>...</td>\n",
       "      <td>1</td>\n",
       "      <td>0</td>\n",
       "      <td>1</td>\n",
       "      <td>7</td>\n",
       "      <td>37.0</td>\n",
       "      <td>0.500000</td>\n",
       "      <td>0</td>\n",
       "      <td>-30.0</td>\n",
       "      <td>0</td>\n",
       "      <td>0.461500</td>\n",
       "    </tr>\n",
       "    <tr>\n",
       "      <th>2</th>\n",
       "      <td>BYU</td>\n",
       "      <td>Connecticut</td>\n",
       "      <td>[400547641]</td>\n",
       "      <td>-1</td>\n",
       "      <td>1</td>\n",
       "      <td>['FBS Independents']</td>\n",
       "      <td>['American Athletic']</td>\n",
       "      <td>71</td>\n",
       "      <td>34</td>\n",
       "      <td>211</td>\n",
       "      <td>...</td>\n",
       "      <td>1</td>\n",
       "      <td>0</td>\n",
       "      <td>1</td>\n",
       "      <td>35</td>\n",
       "      <td>10.0</td>\n",
       "      <td>2.916667</td>\n",
       "      <td>1</td>\n",
       "      <td>25.0</td>\n",
       "      <td>0</td>\n",
       "      <td>0.308929</td>\n",
       "    </tr>\n",
       "    <tr>\n",
       "      <th>3</th>\n",
       "      <td>Connecticut</td>\n",
       "      <td>BYU</td>\n",
       "      <td>[400547641]</td>\n",
       "      <td>1</td>\n",
       "      <td>-1</td>\n",
       "      <td>['American Athletic']</td>\n",
       "      <td>['FBS Independents']</td>\n",
       "      <td>77</td>\n",
       "      <td>26</td>\n",
       "      <td>87</td>\n",
       "      <td>...</td>\n",
       "      <td>1</td>\n",
       "      <td>1</td>\n",
       "      <td>1</td>\n",
       "      <td>10</td>\n",
       "      <td>35.0</td>\n",
       "      <td>0.833333</td>\n",
       "      <td>0</td>\n",
       "      <td>-25.0</td>\n",
       "      <td>0</td>\n",
       "      <td>0.602595</td>\n",
       "    </tr>\n",
       "    <tr>\n",
       "      <th>4</th>\n",
       "      <td>UCF</td>\n",
       "      <td>Penn State</td>\n",
       "      <td>[400547642]</td>\n",
       "      <td>1</td>\n",
       "      <td>-1</td>\n",
       "      <td>['American Athletic']</td>\n",
       "      <td>['Big Ten']</td>\n",
       "      <td>50</td>\n",
       "      <td>26</td>\n",
       "      <td>42</td>\n",
       "      <td>...</td>\n",
       "      <td>1</td>\n",
       "      <td>1</td>\n",
       "      <td>1</td>\n",
       "      <td>24</td>\n",
       "      <td>26.0</td>\n",
       "      <td>2.181818</td>\n",
       "      <td>0</td>\n",
       "      <td>-2.0</td>\n",
       "      <td>0</td>\n",
       "      <td>0.511905</td>\n",
       "    </tr>\n",
       "    <tr>\n",
       "      <th>5</th>\n",
       "      <td>Penn State</td>\n",
       "      <td>UCF</td>\n",
       "      <td>[400547642]</td>\n",
       "      <td>-1</td>\n",
       "      <td>1</td>\n",
       "      <td>['Big Ten']</td>\n",
       "      <td>['American Athletic']</td>\n",
       "      <td>72</td>\n",
       "      <td>26</td>\n",
       "      <td>74</td>\n",
       "      <td>...</td>\n",
       "      <td>1</td>\n",
       "      <td>4</td>\n",
       "      <td>4</td>\n",
       "      <td>26</td>\n",
       "      <td>24.0</td>\n",
       "      <td>2.166667</td>\n",
       "      <td>1</td>\n",
       "      <td>2.0</td>\n",
       "      <td>0</td>\n",
       "      <td>0.613881</td>\n",
       "    </tr>\n",
       "    <tr>\n",
       "      <th>6</th>\n",
       "      <td>East Carolina</td>\n",
       "      <td>North Carolina Central</td>\n",
       "      <td>[400547643]</td>\n",
       "      <td>1</td>\n",
       "      <td>-1</td>\n",
       "      <td>['American Athletic']</td>\n",
       "      <td>['MEAC']</td>\n",
       "      <td>72</td>\n",
       "      <td>26</td>\n",
       "      <td>237</td>\n",
       "      <td>...</td>\n",
       "      <td>1</td>\n",
       "      <td>1</td>\n",
       "      <td>1</td>\n",
       "      <td>52</td>\n",
       "      <td>7.0</td>\n",
       "      <td>4.000000</td>\n",
       "      <td>1</td>\n",
       "      <td>45.0</td>\n",
       "      <td>0</td>\n",
       "      <td>0.242424</td>\n",
       "    </tr>\n",
       "    <tr>\n",
       "      <th>7</th>\n",
       "      <td>North Carolina Central</td>\n",
       "      <td>East Carolina</td>\n",
       "      <td>[400547643]</td>\n",
       "      <td>-1</td>\n",
       "      <td>1</td>\n",
       "      <td>['MEAC']</td>\n",
       "      <td>['American Athletic']</td>\n",
       "      <td>52</td>\n",
       "      <td>27</td>\n",
       "      <td>94</td>\n",
       "      <td>...</td>\n",
       "      <td>1</td>\n",
       "      <td>0</td>\n",
       "      <td>0</td>\n",
       "      <td>7</td>\n",
       "      <td>52.0</td>\n",
       "      <td>0.538462</td>\n",
       "      <td>0</td>\n",
       "      <td>-45.0</td>\n",
       "      <td>0</td>\n",
       "      <td>0.595960</td>\n",
       "    </tr>\n",
       "    <tr>\n",
       "      <th>8</th>\n",
       "      <td>Houston</td>\n",
       "      <td>UT San Antonio</td>\n",
       "      <td>[400547644]</td>\n",
       "      <td>1</td>\n",
       "      <td>-1</td>\n",
       "      <td>['American Athletic']</td>\n",
       "      <td>['Conference USA']</td>\n",
       "      <td>67</td>\n",
       "      <td>18</td>\n",
       "      <td>-4</td>\n",
       "      <td>...</td>\n",
       "      <td>1</td>\n",
       "      <td>0</td>\n",
       "      <td>0</td>\n",
       "      <td>7</td>\n",
       "      <td>27.0</td>\n",
       "      <td>0.466667</td>\n",
       "      <td>0</td>\n",
       "      <td>-20.0</td>\n",
       "      <td>0</td>\n",
       "      <td>0.387534</td>\n",
       "    </tr>\n",
       "    <tr>\n",
       "      <th>9</th>\n",
       "      <td>UT San Antonio</td>\n",
       "      <td>Houston</td>\n",
       "      <td>[400547644]</td>\n",
       "      <td>-1</td>\n",
       "      <td>1</td>\n",
       "      <td>['Conference USA']</td>\n",
       "      <td>['American Athletic']</td>\n",
       "      <td>73</td>\n",
       "      <td>47</td>\n",
       "      <td>159</td>\n",
       "      <td>...</td>\n",
       "      <td>0</td>\n",
       "      <td>2</td>\n",
       "      <td>3</td>\n",
       "      <td>27</td>\n",
       "      <td>7.0</td>\n",
       "      <td>1.800000</td>\n",
       "      <td>1</td>\n",
       "      <td>20.0</td>\n",
       "      <td>0</td>\n",
       "      <td>0.542353</td>\n",
       "    </tr>\n",
       "  </tbody>\n",
       "</table>\n",
       "<p>10 rows × 23 columns</p>\n",
       "</div>"
      ],
      "text/plain": [
       "                  offense                 defense      game_id  LocOff  \\\n",
       "0                  Temple              Vanderbilt  [400547640]      -1   \n",
       "1              Vanderbilt                  Temple  [400547640]       1   \n",
       "2                     BYU             Connecticut  [400547641]      -1   \n",
       "3             Connecticut                     BYU  [400547641]       1   \n",
       "4                     UCF              Penn State  [400547642]       1   \n",
       "5              Penn State                     UCF  [400547642]      -1   \n",
       "6           East Carolina  North Carolina Central  [400547643]       1   \n",
       "7  North Carolina Central           East Carolina  [400547643]      -1   \n",
       "8                 Houston          UT San Antonio  [400547644]       1   \n",
       "9          UT San Antonio                 Houston  [400547644]      -1   \n",
       "\n",
       "   LocDef              Off. Conf              Def. Conf  Plays  Rush Atts  \\\n",
       "0       1  ['American Athletic']                ['SEC']     78         42   \n",
       "1      -1                ['SEC']  ['American Athletic']     57         23   \n",
       "2       1   ['FBS Independents']  ['American Athletic']     71         34   \n",
       "3      -1  ['American Athletic']   ['FBS Independents']     77         26   \n",
       "4      -1  ['American Athletic']            ['Big Ten']     50         26   \n",
       "5       1            ['Big Ten']  ['American Athletic']     72         26   \n",
       "6      -1  ['American Athletic']               ['MEAC']     72         26   \n",
       "7       1               ['MEAC']  ['American Athletic']     52         27   \n",
       "8      -1  ['American Athletic']     ['Conference USA']     67         18   \n",
       "9       1     ['Conference USA']  ['American Athletic']     73         47   \n",
       "\n",
       "   Rush Yards  ...  Turnover  Field Goal Made  Field Goal Attempt  \\\n",
       "0         158  ...         2                3                   4   \n",
       "1          88  ...         1                0                   1   \n",
       "2         211  ...         1                0                   1   \n",
       "3          87  ...         1                1                   1   \n",
       "4          42  ...         1                1                   1   \n",
       "5          74  ...         1                4                   4   \n",
       "6         237  ...         1                1                   1   \n",
       "7          94  ...         1                0                   0   \n",
       "8          -4  ...         1                0                   0   \n",
       "9         159  ...         0                2                   3   \n",
       "\n",
       "   offense_score  defense_score       PPD  Win  score_diff  OT   Def SoS  \n",
       "0             37            7.0  2.176471    1        30.0   0  0.342995  \n",
       "1              7           37.0  0.500000    0       -30.0   0  0.461500  \n",
       "2             35           10.0  2.916667    1        25.0   0  0.308929  \n",
       "3             10           35.0  0.833333    0       -25.0   0  0.602595  \n",
       "4             24           26.0  2.181818    0        -2.0   0  0.511905  \n",
       "5             26           24.0  2.166667    1         2.0   0  0.613881  \n",
       "6             52            7.0  4.000000    1        45.0   0  0.242424  \n",
       "7              7           52.0  0.538462    0       -45.0   0  0.595960  \n",
       "8              7           27.0  0.466667    0       -20.0   0  0.387534  \n",
       "9             27            7.0  1.800000    1        20.0   0  0.542353  \n",
       "\n",
       "[10 rows x 23 columns]"
      ]
     },
     "execution_count": 98,
     "metadata": {},
     "output_type": "execute_result"
    }
   ],
   "source": [
    "df14.head(10)"
   ]
  },
  {
   "cell_type": "markdown",
   "id": "e5d697c1",
   "metadata": {},
   "source": [
    "# Start Here"
   ]
  },
  {
   "cell_type": "markdown",
   "id": "3fafc936",
   "metadata": {},
   "source": [
    "After creating the .csv files in the format needed, the bowl prediction code begins here."
   ]
  },
  {
   "cell_type": "code",
   "execution_count": 2,
   "id": "9b28ab66",
   "metadata": {},
   "outputs": [],
   "source": [
    "games14 = pd.read_csv('games/games14.csv')\n",
    "games15 = pd.read_csv('games/games15.csv')\n",
    "games16 = pd.read_csv('games/games16.csv')\n",
    "games17 = pd.read_csv('games/games17.csv')\n",
    "games18 = pd.read_csv('games/games18.csv')\n",
    "games19 = pd.read_csv('games/games19.csv')\n",
    "games20 = pd.read_csv('games/games20.csv')\n",
    "games21 = pd.read_csv('games/games21.csv')\n",
    "games22 = pd.read_csv('games/games22.csv')"
   ]
  },
  {
   "cell_type": "code",
   "execution_count": 3,
   "id": "f9a16f16",
   "metadata": {},
   "outputs": [],
   "source": [
    "bowls14 = pd.read_csv('Bowl_Games/bowls_14.csv')\n",
    "bowls15 = pd.read_csv('Bowl_Games/bowls_15.csv')\n",
    "bowls16 = pd.read_csv('Bowl_Games/bowls_16.csv')\n",
    "bowls17 = pd.read_csv('Bowl_Games/bowls_17.csv')\n",
    "bowls18 = pd.read_csv('Bowl_Games/bowls_18.csv')\n",
    "bowls19 = pd.read_csv('Bowl_Games/bowls_19.csv')\n",
    "bowls20 = pd.read_csv('Bowl_Games/bowls_20.csv')\n",
    "bowls21 = pd.read_csv('Bowl_Games/bowls_21.csv')\n"
   ]
  },
  {
   "cell_type": "code",
   "execution_count": 4,
   "id": "5374fabe",
   "metadata": {},
   "outputs": [],
   "source": [
    "games14['Year'] = 2014\n",
    "games15['Year'] = 2015\n",
    "games16['Year'] = 2016\n",
    "games17['Year'] = 2017\n",
    "games18['Year'] = 2018\n",
    "games19['Year'] = 2019\n",
    "games20['Year'] = 2020\n",
    "games21['Year'] = 2021\n",
    "games22['Year'] = 2022\n",
    "\n",
    "bowls14['Year'] = 2014\n",
    "bowls15['Year'] = 2015\n",
    "bowls16['Year'] = 2016\n",
    "bowls17['Year'] = 2017\n",
    "bowls18['Year'] = 2018\n",
    "bowls19['Year'] = 2019\n",
    "bowls20['Year'] = 2020\n",
    "bowls21['Year'] = 2021\n",
    "\n"
   ]
  },
  {
   "cell_type": "markdown",
   "id": "84c4dec8",
   "metadata": {},
   "source": [
    "# Games Into One Row"
   ]
  },
  {
   "cell_type": "code",
   "execution_count": 5,
   "id": "02077f7f",
   "metadata": {},
   "outputs": [],
   "source": [
    "games_list = [games14,games15,games16,games17,games18,games19,games20,games21,games22]\n",
    "dict = {'H_offense':'home_team',\n",
    "        'H_defense':'away_team',\n",
    "        'H_game_id': 'game_id',\n",
    "        'H_Off. Conf': 'home_conf',\n",
    "        'H_Def. Conf': 'away_conf',\n",
    "        'H_Win':'home_win',\n",
    "        'H_offense_score':'H_score',\n",
    "        'H_defense_score': 'A_score',\n",
    "        'H_score_diff':'H_score_diff',\n",
    "        'H_Def SoS':'H_SoS',\n",
    "        'A_Def SoS':'A_SoS'  \n",
    "       }\n",
    "comb_games = []\n",
    "for df in games_list:\n",
    "    temp1 = df[df['LocOff'] == 1].add_prefix('H_')\n",
    "    temp2 = df[df['LocOff'] == -1].add_prefix('A_')\n",
    "    temp3 = temp1.join(temp2.set_index('A_game_id'), on='H_game_id', how='left')\n",
    "    \n",
    "    temp3 = temp3.drop(['H_Unnamed: 0','H_LocOff','H_LocDef','H_Year','A_Unnamed: 0','A_offense', 'A_defense', 'A_LocOff', 'A_LocDef', 'A_Off. Conf', 'A_Def. Conf','A_offense_score', 'A_defense_score','A_Win', 'A_score_diff'], axis=1)\n",
    "    temp3.rename(columns=dict,inplace=True)\n",
    "    comb_games.append(temp3)\n",
    "\n",
    "for i, df in enumerate(comb_games):\n",
    "    globals()[f\"games{i+14}\"] = df"
   ]
  },
  {
   "cell_type": "code",
   "execution_count": 6,
   "id": "80a75263",
   "metadata": {},
   "outputs": [
    {
     "data": {
      "text/plain": [
       "Index(['home_team', 'away_team', 'game_id', 'home_conf', 'away_conf',\n",
       "       'H_Plays', 'H_Rush Atts', 'H_Rush Yards', 'H_Pass Atts', 'H_Pass Yards',\n",
       "       'H_Off. Drives', 'H_Turnover', 'H_Field Goal Made',\n",
       "       'H_Field Goal Attempt', 'H_score', 'A_score', 'H_PPD', 'home_win',\n",
       "       'H_score_diff', 'H_OT', 'H_SoS', 'A_Plays', 'A_Rush Atts',\n",
       "       'A_Rush Yards', 'A_Pass Atts', 'A_Pass Yards', 'A_Off. Drives',\n",
       "       'A_Turnover', 'A_Field Goal Made', 'A_Field Goal Attempt', 'A_PPD',\n",
       "       'A_OT', 'A_SoS', 'A_Year'],\n",
       "      dtype='object')"
      ]
     },
     "execution_count": 6,
     "metadata": {},
     "output_type": "execute_result"
    }
   ],
   "source": [
    "games14.columns"
   ]
  },
  {
   "cell_type": "markdown",
   "id": "c56ab9cd",
   "metadata": {},
   "source": [
    "# Season Means (For Bowl Prediction)"
   ]
  },
  {
   "cell_type": "code",
   "execution_count": 7,
   "id": "c5d3b207",
   "metadata": {},
   "outputs": [],
   "source": [
    "def home_calcs(x):\n",
    "    names = {'Plays': x['H_Plays'].sum(),\n",
    "             'Rush Atts': x['H_Rush Atts'].sum(),\n",
    "             'Rush Yards': x['H_Rush Yards'].sum(),\n",
    "             'Pass Atts': x['H_Pass Atts'].sum(),\n",
    "             'Pass Yards': x['H_Pass Yards'].sum(),\n",
    "             'Off. Drives': x['H_Off. Drives'].sum(),\n",
    "             'Turnover': x['H_Turnover'].sum(),\n",
    "             'Field Goal Made': x['H_Field Goal Made'].sum(),\n",
    "             'Field Goal Attempt': x['H_Field Goal Attempt'].sum(),\n",
    "             'PPD': x['H_PPD'].sum(),\n",
    "             'SoS': x['H_SoS'].sum(),\n",
    "             'OT': x['H_OT'].sum()\n",
    "            }\n",
    "    return pd.Series(names)\n",
    "\n",
    "def away_calcs(x):\n",
    "    names = {'Plays': x['A_Plays'].sum(),\n",
    "             'Rush Atts': x['A_Rush Atts'].sum(),\n",
    "             'Rush Yards': x['A_Rush Yards'].sum(), \n",
    "             'Pass Atts': x['A_Pass Atts'].sum(), \n",
    "             'Pass Yards': x['A_Pass Yards'].sum(), \n",
    "             'Off. Drives': x['A_Off. Drives'].sum(),\n",
    "             'Turnover': x['A_Turnover'].sum(),\n",
    "             'Field Goal Made': x['A_Field Goal Made'].sum(),\n",
    "             'Field Goal Attempt': x['A_Field Goal Attempt'].sum(),\n",
    "             'PPD': x['A_PPD'].sum(),\n",
    "             'SoS': x['A_SoS'].sum(),\n",
    "             'OT': x['A_OT'].sum()\n",
    "            }\n",
    "    return pd.Series(names)"
   ]
  },
  {
   "cell_type": "code",
   "execution_count": 8,
   "id": "052850e6",
   "metadata": {},
   "outputs": [],
   "source": [
    "\n",
    "home14 =  games14.groupby(['home_team'], sort = False).apply(home_calcs)\n",
    "home15 =  games15.groupby('home_team', sort = False).apply(home_calcs)\n",
    "home16 =  games16.groupby('home_team', sort = False).apply(home_calcs)\n",
    "home17 =  games17.groupby('home_team', sort = False).apply(home_calcs)\n",
    "home18 =  games18.groupby('home_team', sort = False).apply(home_calcs)\n",
    "home19 =  games19.groupby('home_team', sort = False).apply(home_calcs)\n",
    "home20 =  games20.groupby('home_team', sort = False).apply(home_calcs)\n",
    "home21 =  games21.groupby('home_team', sort = False).apply(home_calcs)\n",
    "home22 =  games22.groupby('home_team', sort = False).apply(home_calcs)"
   ]
  },
  {
   "cell_type": "code",
   "execution_count": 9,
   "id": "fb5d6ae5",
   "metadata": {},
   "outputs": [],
   "source": [
    "away14 =  games14.groupby(['away_team'], sort = False).apply(away_calcs)\n",
    "away15 =  games15.groupby('away_team', sort = False).apply(away_calcs)\n",
    "away16 =  games16.groupby('away_team', sort = False).apply(away_calcs)\n",
    "away17 =  games17.groupby('away_team', sort = False).apply(away_calcs)\n",
    "away18 =  games18.groupby('away_team', sort = False).apply(away_calcs)\n",
    "away19 =  games19.groupby('away_team', sort = False).apply(away_calcs)\n",
    "away20 =  games20.groupby('away_team', sort = False).apply(away_calcs)\n",
    "away21 =  games21.groupby('away_team', sort = False).apply(away_calcs)\n",
    "away22 =  games22.groupby('away_team', sort = False).apply(away_calcs)"
   ]
  },
  {
   "cell_type": "code",
   "execution_count": 10,
   "id": "ae4c593f",
   "metadata": {},
   "outputs": [],
   "source": [
    "\n",
    "season14 = home14.add(away14, fill_value=0)/12\n",
    "season15 = home15.add(away15, fill_value=0)/12\n",
    "season16 = home16.add(away16, fill_value=0)/12\n",
    "season17 = home17.add(away17, fill_value=0)/12\n",
    "season18 = home18.add(away18, fill_value=0)/12\n",
    "season19 = home19.add(away19, fill_value=0)/12\n",
    "season20 = home20.add(away20, fill_value=0)/12\n",
    "season21 = home21.add(away21, fill_value=0)/12\n",
    "season22 = home22.add(away22, fill_value=0)/12\n"
   ]
  },
  {
   "cell_type": "code",
   "execution_count": 11,
   "id": "e6573226",
   "metadata": {},
   "outputs": [],
   "source": [
    "bowls22 = pd.DataFrame({'home_team':['TCU','Georgia','Kansas State','Clemson','Texas','Oklahoma','Georgia'],'away_team':['Michigan','Ohio State','Alabama','Tennessee','Washington','Florida State','Michigan'],'home_conference':['Big 12','SEC','Big 12','ACC','Big 12','Big 12','SEC'],'away_conference':['Big Ten','Big Ten','SEC','SEC','Pac-12','ACC','Big Ten']})"
   ]
  },
  {
   "cell_type": "code",
   "execution_count": 12,
   "id": "10f6b76d",
   "metadata": {},
   "outputs": [],
   "source": [
    "bowls22['Year'] = 2022"
   ]
  },
  {
   "cell_type": "code",
   "execution_count": 13,
   "id": "f0a75be7",
   "metadata": {},
   "outputs": [],
   "source": [
    "bowls14 = bowls14.merge(season14, left_on='home_team', right_index=True, how='left')\n",
    "bowls15 = bowls15.merge(season15, left_on='home_team', right_index=True, how='left')\n",
    "bowls16 = bowls16.merge(season16, left_on='home_team', right_index=True, how='left')\n",
    "bowls17 = bowls17.merge(season17, left_on='home_team', right_index=True, how='left')\n",
    "bowls18 = bowls18.merge(season18, left_on='home_team', right_index=True, how='left')\n",
    "bowls19 = bowls19.merge(season19, left_on='home_team', right_index=True, how='left')\n",
    "bowls20 = bowls20.merge(season20, left_on='home_team', right_index=True, how='left')\n",
    "bowls21 = bowls21.merge(season21, left_on='home_team', right_index=True, how='left')\n",
    "bowls22 = bowls22.merge(season22, left_on='home_team', right_index=True, how='left')\n"
   ]
  },
  {
   "cell_type": "code",
   "execution_count": 14,
   "id": "d4fc8990",
   "metadata": {},
   "outputs": [],
   "source": [
    "bowls14 = bowls14.merge(season14, left_on='away_team', right_index=True, how='left')\n",
    "bowls15 = bowls15.merge(season15, left_on='away_team', right_index=True, how='left')\n",
    "bowls16 = bowls16.merge(season16, left_on='away_team', right_index=True, how='left')\n",
    "bowls17 = bowls17.merge(season17, left_on='away_team', right_index=True, how='left')\n",
    "bowls18 = bowls18.merge(season18, left_on='away_team', right_index=True, how='left')\n",
    "bowls19 = bowls19.merge(season19, left_on='away_team', right_index=True, how='left')\n",
    "bowls20 = bowls20.merge(season20, left_on='away_team', right_index=True, how='left')\n",
    "bowls21 = bowls21.merge(season21, left_on='away_team', right_index=True, how='left')\n",
    "bowls22 = bowls22.merge(season22, left_on='away_team', right_index=True, how='left')\n",
    "\n"
   ]
  },
  {
   "cell_type": "code",
   "execution_count": 15,
   "id": "328b9381",
   "metadata": {},
   "outputs": [],
   "source": [
    "dict = {'home_conference':'home_conf','away_conference':'away_conf','home_points':'H_score','away_points':'A_score','Plays_x':'H_Plays', 'Rush Atts_x':'H_Rush Atts', 'Rush Yards_x':'H_Rush Yards', 'Pass Atts_x':'H_Pass Atts', 'Pass Yards_x':'H_Pass Yards',\n",
    "       'Off. Drives_x':'H_Off. Drives', 'Turnover_x':'H_Turnover', 'Field Goal Made_x':'H_Field Goal Made',\n",
    "       'Field Goal Attempt_x':'H_Field Goal Attempts', 'PPD_x':'H_PPD', 'SoS_x':'H_SoS','OT_x':'H_OT', 'Plays_y':'A_Plays', 'Rush Atts_y':'A_Rush Atts',\n",
    "       'Rush Yards_y':'A_Rush Yards', 'Pass Atts_y':'A_Pass Atts', 'Pass Yards_y':'A_Pass Yards', 'Off. Drives_y':'A_Off. Drives',\n",
    "       'Turnover_y':'A_Turnover', 'Field Goal Made_y':'A_Field Goal Made', 'Field Goal Attempt_y':'A_Field Goal Attempt', 'PPD_y':'A_PPD',\n",
    "       'SoS_y':'A_SoS','OT_y':'A_OT','Year':'A_Year'}\n",
    "\n",
    "bowls14.rename(columns=dict, inplace=True)\n",
    "bowls15.rename(columns=dict, inplace=True)\n",
    "bowls16.rename(columns=dict, inplace=True)\n",
    "bowls17.rename(columns=dict, inplace=True)\n",
    "bowls18.rename(columns=dict, inplace=True)\n",
    "bowls19.rename(columns=dict, inplace=True)\n",
    "bowls20.rename(columns=dict, inplace=True)\n",
    "bowls21.rename(columns=dict, inplace=True)\n",
    "bowls22.rename(columns=dict, inplace = True)\n"
   ]
  },
  {
   "cell_type": "code",
   "execution_count": 16,
   "id": "8bf24a51",
   "metadata": {},
   "outputs": [],
   "source": [
    "games_list = [games14,games15,games16,games17,games18,games19,games20,games21,games22]\n",
    "bowls_list = [bowls14,bowls15,bowls16,bowls17,bowls18,bowls19,bowls20,bowls21,bowls22]\n",
    "\n",
    "# Create a dictionary of replacement values\n",
    "games_conf_dict = {\"['SEC']\": 1,\n",
    "                   \"['Big Ten']\": 2,\n",
    "                   \"['Big 12']\": 3,\n",
    "                   \"['ACC']\":4,\n",
    "                   \"['Pac-12']\":5,\n",
    "                   \"['FBS Independents']\":6,\n",
    "                   \"['American Athletic']\":7,\n",
    "                   \"['Sun Belt']\":8,\n",
    "                   \"['Conference USA']\":9,\n",
    "                   \"['Mountain West']\":10,\n",
    "                   \"['Mid-American']\":11,\n",
    "                   \"['Ivy']\":12,\n",
    "                   \"['MVFC']\":13,\n",
    "                   \"['Big Sky']\": 14,\n",
    "                   \"['CAA']\":15,\n",
    "                   \"['SWAC']\":16,\n",
    "                   \"['Southern']\": 17,\n",
    "                   \"['Big South']\": 18,\n",
    "                   \"['Southland']\": 19,\n",
    "                   \"['OVC']\": 20,\n",
    "                   \"['Patriot']\": 21,\n",
    "                   \"['NEC']\":22,\n",
    "                   \"['Pioneer']\":23,\n",
    "                   \"['MEAC']\":24,\n",
    "                   \"['Western Athletic']\":16,\n",
    "                   \"['Lone Star']\":25,\n",
    "                   \"['AWC']\":26\n",
    "                   \n",
    "                   \n",
    "            }\n",
    "\n",
    "# Create a dictionary of replacement values\n",
    "bowls_conf_dict = {'SEC': 1,\n",
    "             'Big Ten': 2,\n",
    "             'Big 12': 3,\n",
    "             'ACC':4,\n",
    "             'Pac-12':5,\n",
    "             'FBS Independents':6,\n",
    "             'American Athletic':7,\n",
    "             'Sun Belt':8,\n",
    "             'Conference USA':9,\n",
    "             'Mountain West':10,\n",
    "             'Mid-American':11,\n",
    "             'Ivy':12\n",
    "            }\n",
    "\n",
    "# Loop through the list of dataframes\n",
    "for df in games_list:\n",
    "    # Replace the values in the specified column\n",
    "    df['home_conf'] = df['home_conf'].replace(games_conf_dict)\n",
    "    df['away_conf'] = df['away_conf'].replace(games_conf_dict)\n",
    "    df.loc[df['home_conf'].apply(lambda x: isinstance(x, str)), 'home_conf'] = 30\n",
    "    df.loc[df['away_conf'].apply(lambda x: isinstance(x, str)), 'away_conf'] = 30\n",
    "    \n",
    "    \n",
    "for df in bowls_list:\n",
    "    df['home_conf'] = df['home_conf'].replace(bowls_conf_dict)\n",
    "    df['away_conf'] = df['away_conf'].replace(bowls_conf_dict)\n",
    "    "
   ]
  },
  {
   "cell_type": "code",
   "execution_count": 17,
   "id": "f74763bd",
   "metadata": {},
   "outputs": [
    {
     "data": {
      "text/plain": [
       "Index(['home_team', 'away_team', 'game_id', 'home_conf', 'away_conf',\n",
       "       'H_Plays', 'H_Rush Atts', 'H_Rush Yards', 'H_Pass Atts', 'H_Pass Yards',\n",
       "       'H_Off. Drives', 'H_Turnover', 'H_Field Goal Made',\n",
       "       'H_Field Goal Attempt', 'H_score', 'A_score', 'H_PPD', 'home_win',\n",
       "       'H_score_diff', 'H_OT', 'H_SoS', 'A_Plays', 'A_Rush Atts',\n",
       "       'A_Rush Yards', 'A_Pass Atts', 'A_Pass Yards', 'A_Off. Drives',\n",
       "       'A_Turnover', 'A_Field Goal Made', 'A_Field Goal Attempt', 'A_PPD',\n",
       "       'A_OT', 'A_SoS', 'A_Year'],\n",
       "      dtype='object')"
      ]
     },
     "execution_count": 17,
     "metadata": {},
     "output_type": "execute_result"
    }
   ],
   "source": [
    "games14.columns"
   ]
  },
  {
   "cell_type": "markdown",
   "id": "119868ba",
   "metadata": {},
   "source": [
    "# Splitting Regular Season Train, Test Sets"
   ]
  },
  {
   "cell_type": "code",
   "execution_count": 18,
   "id": "5ab78b43",
   "metadata": {},
   "outputs": [],
   "source": [
    "y_14 = games14['home_win']\n",
    "X_14 = games14.drop(['H_score','A_score','home_win','H_score_diff','game_id'],axis=1)\n",
    "\n",
    "# Had to drop 1198 because the away team had NaN values\n",
    "X_14.index[X_14.isnull().any(axis=1)]\n",
    "X_14.drop(1198, inplace=True)\n",
    "X_14[X_14.index == 1198]\n",
    "y_14.drop(1198, inplace=True)\n",
    "\n",
    "X_14_train, X_14_test, y_14_train, y_14_test = train_test_split(X_14, y_14,test_size = 0.2)\n",
    "\n",
    "home_14_train = X_14_train.iloc[:,0]\n",
    "away_14_train = X_14_train.iloc[:,1]\n",
    "\n",
    "home_14_test = X_14_test.iloc[:,0]\n",
    "away_14_test = X_14_test.iloc[:,1]\n",
    "\n",
    "X_14_train = X_14_train.drop(['home_team','away_team'],axis = 1)\n",
    "X_14_test = X_14_test.drop(['home_team','away_team'],axis = 1)"
   ]
  },
  {
   "cell_type": "code",
   "execution_count": 19,
   "id": "bc034f28",
   "metadata": {},
   "outputs": [],
   "source": [
    "y_15 = games15['home_win']\n",
    "X_15 = games15.drop(['H_score','A_score','home_win','H_score_diff','game_id'],axis=1)\n",
    "\n",
    "X_15_train, X_15_test, y_15_train, y_15_test = train_test_split(X_15, y_15,test_size = 0.2)\n",
    "\n",
    "home_15_train = X_15_train.iloc[:,0]\n",
    "away_15_train = X_15_train.iloc[:,1]\n",
    "\n",
    "home_15_test = X_15_test.iloc[:,0]\n",
    "away_15_test = X_15_test.iloc[:,1]\n",
    "\n",
    "X_15_train = X_15_train.drop(['home_team','away_team'],axis = 1)\n",
    "X_15_test = X_15_test.drop(['home_team','away_team'],axis = 1)"
   ]
  },
  {
   "cell_type": "code",
   "execution_count": 20,
   "id": "ff5e23df",
   "metadata": {},
   "outputs": [],
   "source": [
    "y_16 = games16['home_win']\n",
    "X_16 = games16.drop(['H_score','A_score','home_win','H_score_diff','game_id'],axis=1)\n",
    "\n",
    "X_16_train, X_16_test, y_16_train, y_16_test = train_test_split(X_16, y_16,test_size = 0.2)\n",
    "\n",
    "home_16_train = X_16_train.iloc[:,0]\n",
    "away_16_train = X_16_train.iloc[:,1]\n",
    "\n",
    "home_16_test = X_16_test.iloc[:,0]\n",
    "away_16_test = X_16_test.iloc[:,1]\n",
    "\n",
    "X_16_train = X_16_train.drop(['home_team','away_team'],axis = 1)\n",
    "X_16_test = X_16_test.drop(['home_team','away_team'],axis = 1)"
   ]
  },
  {
   "cell_type": "code",
   "execution_count": 21,
   "id": "1edb6417",
   "metadata": {},
   "outputs": [],
   "source": [
    "y_17 = games17['home_win']\n",
    "X_17 = games17.drop(['H_score','A_score','home_win','H_score_diff','game_id'],axis=1)\n",
    "\n",
    "X_17_train, X_17_test, y_17_train, y_17_test = train_test_split(X_17, y_17,test_size = 0.2)\n",
    "\n",
    "home_17_train = X_17_train.iloc[:,0]\n",
    "away_17_train = X_17_train.iloc[:,1]\n",
    "\n",
    "home_17_test = X_17_test.iloc[:,0]\n",
    "away_17_test = X_17_test.iloc[:,1]\n",
    "\n",
    "X_17_train = X_17_train.drop(['home_team','away_team'],axis = 1)\n",
    "X_17_test = X_17_test.drop(['home_team','away_team'],axis = 1)"
   ]
  },
  {
   "cell_type": "code",
   "execution_count": 22,
   "id": "a74c642a",
   "metadata": {},
   "outputs": [],
   "source": [
    "y_18 = games18['home_win']\n",
    "X_18 = games18.drop(['H_score','A_score','home_win','H_score_diff','game_id'],axis=1)\n",
    "\n",
    "X_18_train, X_18_test, y_18_train, y_18_test = train_test_split(X_18, y_18,test_size = 0.2)\n",
    "\n",
    "home_18_train = X_18_train.iloc[:,0]\n",
    "away_18_train = X_18_train.iloc[:,1]\n",
    "\n",
    "home_18_test = X_18_test.iloc[:,0]\n",
    "away_18_test = X_18_test.iloc[:,1]\n",
    "\n",
    "X_18_train = X_18_train.drop(['home_team','away_team'],axis = 1)\n",
    "X_18_test = X_18_test.drop(['home_team','away_team'],axis = 1)"
   ]
  },
  {
   "cell_type": "code",
   "execution_count": 23,
   "id": "c5da130b",
   "metadata": {},
   "outputs": [],
   "source": [
    "y_19 = games19['home_win']\n",
    "X_19 = games19.drop(['H_score','A_score','home_win','H_score_diff','game_id'],axis=1)\n",
    "\n",
    "X_19_train, X_19_test, y_19_train, y_19_test = train_test_split(X_19, y_19,test_size = 0.2)\n",
    "\n",
    "home_19_train = X_19_train.iloc[:,0]\n",
    "away_19_train = X_19_train.iloc[:,1]\n",
    "\n",
    "home_19_test = X_19_test.iloc[:,0]\n",
    "away_19_test = X_19_test.iloc[:,1]\n",
    "\n",
    "X_19_train = X_19_train.drop(['home_team','away_team'],axis = 1)\n",
    "X_19_test = X_19_test.drop(['home_team','away_team'],axis = 1)"
   ]
  },
  {
   "cell_type": "code",
   "execution_count": 24,
   "id": "2b07c5be",
   "metadata": {},
   "outputs": [],
   "source": [
    "y_20 = games20['home_win']\n",
    "X_20 = games20.drop(['H_score','A_score','home_win','H_score_diff','game_id'],axis=1)\n",
    "\n",
    "X_20_train, X_20_test, y_20_train, y_20_test = train_test_split(X_20, y_20,test_size = 0.2)\n",
    "\n",
    "home_20_train = X_20_train.iloc[:,0]\n",
    "away_20_train = X_20_train.iloc[:,1]\n",
    "\n",
    "home_20_test = X_20_test.iloc[:,0]\n",
    "away_20_test = X_20_test.iloc[:,1]\n",
    "\n",
    "X_20_train = X_20_train.drop(['home_team','away_team'],axis = 1)\n",
    "X_20_test = X_20_test.drop(['home_team','away_team'],axis = 1)"
   ]
  },
  {
   "cell_type": "code",
   "execution_count": 25,
   "id": "4635a208",
   "metadata": {},
   "outputs": [],
   "source": [
    "y_21 = games21['home_win']\n",
    "X_21 = games21.drop(['H_score','A_score','home_win','H_score_diff','game_id'],axis=1)\n",
    "\n",
    "X_21_train, X_21_test, y_21_train, y_21_test = train_test_split(X_21, y_21,test_size = 0.2)\n",
    "\n",
    "home_21_train = X_21_train.iloc[:,0]\n",
    "away_21_train = X_21_train.iloc[:,1]\n",
    "\n",
    "home_21_test = X_21_test.iloc[:,0]\n",
    "away_21_test = X_21_test.iloc[:,1]\n",
    "\n",
    "X_21_train = X_21_train.drop(['home_team','away_team'],axis = 1)\n",
    "X_21_test = X_21_test.drop(['home_team','away_team'],axis = 1)"
   ]
  },
  {
   "cell_type": "code",
   "execution_count": 26,
   "id": "4199bc1e",
   "metadata": {},
   "outputs": [],
   "source": [
    "y_22 = games22['home_win']\n",
    "X_22 = games22.drop(['H_score','A_score','home_win','H_score_diff','game_id'],axis=1)\n",
    "\n",
    "X_22_train, X_22_test, y_22_train, y_22_test = train_test_split(X_22, y_22,test_size = 0.2)\n",
    "\n",
    "home_22_train = X_22_train.iloc[:,0]\n",
    "away_22_train = X_22_train.iloc[:,1]\n",
    "\n",
    "home_22_test = X_22_test.iloc[:,0]\n",
    "away_22_test = X_22_test.iloc[:,1]\n",
    "\n",
    "X_22_train = X_22_train.drop(['home_team','away_team'],axis = 1)\n",
    "X_22_test = X_22_test.drop(['home_team','away_team'],axis = 1)"
   ]
  },
  {
   "cell_type": "markdown",
   "id": "8760bfa8",
   "metadata": {},
   "source": [
    "# Bowl Game Test Set"
   ]
  },
  {
   "cell_type": "code",
   "execution_count": 27,
   "id": "5e4c4f53",
   "metadata": {},
   "outputs": [],
   "source": [
    "scaler = StandardScaler()"
   ]
  },
  {
   "cell_type": "code",
   "execution_count": 28,
   "id": "775eb830",
   "metadata": {},
   "outputs": [],
   "source": [
    "X_bowl_14 = bowls14.drop(['Unnamed: 0','H_score','A_score','home_win'],axis=1)\n",
    "\n",
    "home_bowl_14 = X_bowl_14['home_team']\n",
    "away_bowl_14 = X_bowl_14['away_team']\n",
    "year_bowl_14 = X_bowl_14['A_Year']"
   ]
  },
  {
   "cell_type": "code",
   "execution_count": 29,
   "id": "7f68a0bc",
   "metadata": {},
   "outputs": [],
   "source": [
    "X_bowl_14 = X_bowl_14.drop(['home_team','away_team'],axis = 1)\n",
    "scaler.fit(X_bowl_14)\n",
    "X_bowl_14 = scaler.transform(X_bowl_14)\n",
    "\n",
    "y_bowl_14 = bowls14['home_win']"
   ]
  },
  {
   "cell_type": "code",
   "execution_count": 30,
   "id": "9c9cefcf",
   "metadata": {},
   "outputs": [],
   "source": [
    "X_bowl_15 = bowls15.drop(['Unnamed: 0','H_score','A_score','home_win'],axis=1)\n",
    "\n",
    "home_bowl_15 = X_bowl_15['home_team']\n",
    "away_bowl_15 = X_bowl_15['away_team']\n",
    "year_bowl_15 = X_bowl_15['A_Year']"
   ]
  },
  {
   "cell_type": "code",
   "execution_count": 31,
   "id": "35d3e417",
   "metadata": {},
   "outputs": [],
   "source": [
    "X_bowl_15 = X_bowl_15.drop(['home_team','away_team'],axis = 1)\n",
    "scaler.fit(X_bowl_15)\n",
    "X_bowl_15 = scaler.transform(X_bowl_15)\n",
    "\n",
    "y_bowl_15 = bowls15['home_win']"
   ]
  },
  {
   "cell_type": "code",
   "execution_count": 32,
   "id": "082e1689",
   "metadata": {},
   "outputs": [],
   "source": [
    "X_bowl_16 = bowls16.drop(['Unnamed: 0','H_score','A_score','home_win'],axis=1)\n",
    "\n",
    "home_bowl_16 = X_bowl_16['home_team']\n",
    "away_bowl_16 = X_bowl_16['away_team']\n",
    "year_bowl_16 = X_bowl_16['A_Year']"
   ]
  },
  {
   "cell_type": "code",
   "execution_count": 33,
   "id": "2306e48c",
   "metadata": {},
   "outputs": [],
   "source": [
    "X_bowl_16 = X_bowl_16.drop(['home_team','away_team'],axis = 1)\n",
    "scaler.fit(X_bowl_16)\n",
    "X_bowl_16 = scaler.transform(X_bowl_16)\n",
    "\n",
    "y_bowl_16 = bowls16['home_win']"
   ]
  },
  {
   "cell_type": "code",
   "execution_count": 34,
   "id": "70f0bcfc",
   "metadata": {},
   "outputs": [],
   "source": [
    "X_bowl_17 = bowls17.drop(['Unnamed: 0','H_score','A_score','home_win'],axis=1)\n",
    "\n",
    "home_bowl_17 = X_bowl_17['home_team']\n",
    "away_bowl_17 = X_bowl_17['away_team']\n",
    "year_bowl_17 = X_bowl_17['A_Year']"
   ]
  },
  {
   "cell_type": "code",
   "execution_count": 35,
   "id": "59643241",
   "metadata": {},
   "outputs": [],
   "source": [
    "X_bowl_17 = X_bowl_17.drop(['home_team','away_team'],axis = 1)\n",
    "scaler.fit(X_bowl_17)\n",
    "X_bowl_17 = scaler.transform(X_bowl_17)\n",
    "\n",
    "y_bowl_17 = bowls17['home_win']"
   ]
  },
  {
   "cell_type": "code",
   "execution_count": 36,
   "id": "b385b109",
   "metadata": {},
   "outputs": [],
   "source": [
    "X_bowl_18 = bowls18.drop(['Unnamed: 0','H_score','A_score','home_win'],axis=1)\n",
    "\n",
    "home_bowl_18 = X_bowl_18['home_team']\n",
    "away_bowl_18 = X_bowl_18['away_team']\n",
    "year_bowl_18 = X_bowl_18['A_Year']"
   ]
  },
  {
   "cell_type": "code",
   "execution_count": 37,
   "id": "2d4541fd",
   "metadata": {},
   "outputs": [],
   "source": [
    "X_bowl_18 = X_bowl_18.drop(['home_team','away_team'],axis = 1)\n",
    "scaler.fit(X_bowl_18)\n",
    "X_bowl_18 = scaler.transform(X_bowl_18)\n",
    "\n",
    "y_bowl_18 = bowls18['home_win']"
   ]
  },
  {
   "cell_type": "code",
   "execution_count": 38,
   "id": "ad83fc7c",
   "metadata": {},
   "outputs": [],
   "source": [
    "X_bowl_19 = bowls19.drop(['Unnamed: 0','H_score','A_score','home_win'],axis=1)\n",
    "\n",
    "home_bowl_19 = X_bowl_19['home_team']\n",
    "away_bowl_19 = X_bowl_19['away_team']\n",
    "year_bowl_19 = X_bowl_19['A_Year']"
   ]
  },
  {
   "cell_type": "code",
   "execution_count": 39,
   "id": "229303de",
   "metadata": {},
   "outputs": [],
   "source": [
    "X_bowl_19 = X_bowl_19.drop(['home_team','away_team'],axis = 1)\n",
    "scaler.fit(X_bowl_19)\n",
    "X_bowl_19 = scaler.transform(X_bowl_19)\n",
    "\n",
    "y_bowl_19 = bowls19['home_win']"
   ]
  },
  {
   "cell_type": "code",
   "execution_count": 40,
   "id": "62b5df06",
   "metadata": {},
   "outputs": [],
   "source": [
    "X_bowl_20 = bowls20.drop(['Unnamed: 0','H_score','A_score','home_win'],axis=1)\n",
    "\n",
    "home_bowl_20 = X_bowl_20['home_team']\n",
    "away_bowl_20 = X_bowl_20['away_team']\n",
    "year_bowl_20 = X_bowl_20['A_Year']"
   ]
  },
  {
   "cell_type": "code",
   "execution_count": 41,
   "id": "848aa88a",
   "metadata": {},
   "outputs": [],
   "source": [
    "X_bowl_20 = X_bowl_20.drop(['home_team','away_team'],axis = 1)\n",
    "scaler.fit(X_bowl_20)\n",
    "X_bowl_20 = scaler.transform(X_bowl_20)\n",
    "\n",
    "y_bowl_20 = bowls20['home_win']"
   ]
  },
  {
   "cell_type": "code",
   "execution_count": 42,
   "id": "feaf0359",
   "metadata": {},
   "outputs": [],
   "source": [
    "X_bowl_21 = bowls21.drop(['Unnamed: 0','H_score','A_score','home_win'],axis=1)\n",
    "\n",
    "home_bowl_21 = X_bowl_21['home_team']\n",
    "away_bowl_21 = X_bowl_21['away_team']\n",
    "year_bowl_21 = X_bowl_21['A_Year']"
   ]
  },
  {
   "cell_type": "code",
   "execution_count": 43,
   "id": "0e520f64",
   "metadata": {},
   "outputs": [],
   "source": [
    "X_bowl_21 = X_bowl_21.drop(['home_team','away_team'],axis = 1)\n",
    "scaler.fit(X_bowl_21)\n",
    "X_bowl_21 = scaler.transform(X_bowl_21)\n",
    "\n",
    "y_bowl_21 = bowls21['home_win']"
   ]
  },
  {
   "cell_type": "code",
   "execution_count": 44,
   "id": "dbee1017",
   "metadata": {},
   "outputs": [],
   "source": [
    "X_bowl_22 = bowls22\n",
    "\n",
    "home_bowl_22 = X_bowl_22['home_team']\n",
    "away_bowl_22 = X_bowl_22['away_team']\n",
    "year_bowl_22 = X_bowl_22['A_Year']"
   ]
  },
  {
   "cell_type": "code",
   "execution_count": 45,
   "id": "700c85c9",
   "metadata": {},
   "outputs": [],
   "source": [
    "X_bowl_22 = X_bowl_22.drop(['home_team','away_team'],axis = 1)\n",
    "scaler.fit(X_bowl_22)\n",
    "X_bowl_22 = scaler.transform(X_bowl_22)\n"
   ]
  },
  {
   "cell_type": "markdown",
   "id": "1aaf5f39",
   "metadata": {},
   "source": [
    "# Confusion Matrix Function"
   ]
  },
  {
   "cell_type": "code",
   "execution_count": 46,
   "id": "29db116c",
   "metadata": {},
   "outputs": [],
   "source": [
    "def plot_confusion_matrix(cm, classes=('0','1'),\n",
    "                          normalize=False,\n",
    "                          title='Confusion matrix',\n",
    "                          cmap=plt.cm.Blues):\n",
    "    \"\"\"\n",
    "    This function prints and plots the confusion matrix.\n",
    "    Normalization can be applied by setting `normalize=True`.\n",
    "    \"\"\"\n",
    "\n",
    "    if normalize:\n",
    "        cm = cm.astype('float') / cm.sum(axis=1)[:, np.newaxis]\n",
    "        print(\"Normalized confusion matrix\")\n",
    "    else:\n",
    "        print('Confusion matrix, without normalization')\n",
    "\n",
    "    print(cm)\n",
    "\n",
    "    plt.imshow(cm, interpolation='nearest', cmap=cmap)\n",
    "    plt.title(title)\n",
    "    plt.colorbar()\n",
    "    tick_marks = np.arange(len(classes))\n",
    "    plt.xticks(tick_marks, classes, rotation=45)\n",
    "    plt.yticks(tick_marks, classes)\n",
    "\n",
    "    fmt = '.2f' if normalize else 'd'\n",
    "    thresh = cm.max() / 2.\n",
    "    for i, j in itertools.product(range(cm.shape[0]), range(cm.shape[1])):\n",
    "        plt.text(j, i, format(cm[i, j], fmt),\n",
    "                 horizontalalignment=\"center\",\n",
    "                 color=\"white\" if cm[i, j] > thresh else \"black\")\n",
    "\n",
    "    plt.ylabel('True label')\n",
    "    plt.xlabel('Predicted label')\n",
    "    plt.tight_layout()"
   ]
  },
  {
   "cell_type": "markdown",
   "id": "3e44f3ce",
   "metadata": {},
   "source": [
    "# MLP Model Fits"
   ]
  },
  {
   "cell_type": "markdown",
   "id": "3c705bbd",
   "metadata": {},
   "source": [
    "If regular season test accuracy is below 70%, refit the MLP model for that season. Not sure why it does this, but sometimes classification accuracy will fall below 70% for the regular season test data which is not the optimal MLP model."
   ]
  },
  {
   "cell_type": "code",
   "execution_count": 47,
   "id": "39ff1547",
   "metadata": {},
   "outputs": [],
   "source": [
    "mlp = MLPClassifier(max_iter=1000)  \n",
    "\n",
    "parameter_space = {\n",
    "    'hidden_layer_sizes': [(10,30,10),(20,)],\n",
    "    'activation': ['tanh', 'relu'],\n",
    "    'solver': ['sgd', 'adam'],\n",
    "    'alpha': [0.0001, 0.05],\n",
    "    'learning_rate': ['constant','adaptive'],\n",
    "}\n"
   ]
  },
  {
   "cell_type": "code",
   "execution_count": 48,
   "id": "8751f9c7",
   "metadata": {},
   "outputs": [
    {
     "data": {
      "text/plain": [
       "GridSearchCV(cv=5, estimator=MLPClassifier(max_iter=1000), n_jobs=-1,\n",
       "             param_grid={'activation': ['tanh', 'relu'],\n",
       "                         'alpha': [0.0001, 0.05],\n",
       "                         'hidden_layer_sizes': [(10, 30, 10), (20,)],\n",
       "                         'learning_rate': ['constant', 'adaptive'],\n",
       "                         'solver': ['sgd', 'adam']})"
      ]
     },
     "execution_count": 48,
     "metadata": {},
     "output_type": "execute_result"
    }
   ],
   "source": [
    "mlp_14 = GridSearchCV(mlp, parameter_space, n_jobs=-1, cv=5)\n",
    "\n",
    "mlp_14.fit(X_14_train, y_14_train.values.ravel())  "
   ]
  },
  {
   "cell_type": "code",
   "execution_count": 49,
   "id": "69876ba2",
   "metadata": {},
   "outputs": [
    {
     "data": {
      "text/plain": [
       "GridSearchCV(cv=5, estimator=MLPClassifier(max_iter=1000), n_jobs=-1,\n",
       "             param_grid={'activation': ['tanh', 'relu'],\n",
       "                         'alpha': [0.0001, 0.05],\n",
       "                         'hidden_layer_sizes': [(10, 30, 10), (20,)],\n",
       "                         'learning_rate': ['constant', 'adaptive'],\n",
       "                         'solver': ['sgd', 'adam']})"
      ]
     },
     "execution_count": 49,
     "metadata": {},
     "output_type": "execute_result"
    }
   ],
   "source": [
    "mlp_15 = GridSearchCV(mlp, parameter_space, n_jobs=-1, cv=5)\n",
    "\n",
    "mlp_15.fit(X_15_train, y_15_train.values.ravel())  "
   ]
  },
  {
   "cell_type": "code",
   "execution_count": 50,
   "id": "f9452f7b",
   "metadata": {},
   "outputs": [
    {
     "data": {
      "text/plain": [
       "GridSearchCV(cv=5, estimator=MLPClassifier(max_iter=1000), n_jobs=-1,\n",
       "             param_grid={'activation': ['tanh', 'relu'],\n",
       "                         'alpha': [0.0001, 0.05],\n",
       "                         'hidden_layer_sizes': [(10, 30, 10), (20,)],\n",
       "                         'learning_rate': ['constant', 'adaptive'],\n",
       "                         'solver': ['sgd', 'adam']})"
      ]
     },
     "execution_count": 50,
     "metadata": {},
     "output_type": "execute_result"
    }
   ],
   "source": [
    "mlp_16 = GridSearchCV(mlp, parameter_space, n_jobs=-1, cv=5)\n",
    "\n",
    "mlp_16.fit(X_16_train, y_16_train.values.ravel())  "
   ]
  },
  {
   "cell_type": "code",
   "execution_count": 87,
   "id": "d3484e38",
   "metadata": {},
   "outputs": [
    {
     "data": {
      "text/plain": [
       "GridSearchCV(cv=5, estimator=MLPClassifier(max_iter=1000), n_jobs=-1,\n",
       "             param_grid={'activation': ['tanh', 'relu'],\n",
       "                         'alpha': [0.0001, 0.05],\n",
       "                         'hidden_layer_sizes': [(10, 30, 10), (20,)],\n",
       "                         'learning_rate': ['constant', 'adaptive'],\n",
       "                         'solver': ['sgd', 'adam']})"
      ]
     },
     "execution_count": 87,
     "metadata": {},
     "output_type": "execute_result"
    }
   ],
   "source": [
    "mlp_17 = GridSearchCV(mlp, parameter_space, n_jobs=-1, cv=5)\n",
    "\n",
    "mlp_17.fit(X_17_train, y_17_train.values.ravel())  "
   ]
  },
  {
   "cell_type": "code",
   "execution_count": 52,
   "id": "d3def857",
   "metadata": {},
   "outputs": [
    {
     "data": {
      "text/plain": [
       "GridSearchCV(cv=5, estimator=MLPClassifier(max_iter=1000), n_jobs=-1,\n",
       "             param_grid={'activation': ['tanh', 'relu'],\n",
       "                         'alpha': [0.0001, 0.05],\n",
       "                         'hidden_layer_sizes': [(10, 30, 10), (20,)],\n",
       "                         'learning_rate': ['constant', 'adaptive'],\n",
       "                         'solver': ['sgd', 'adam']})"
      ]
     },
     "execution_count": 52,
     "metadata": {},
     "output_type": "execute_result"
    }
   ],
   "source": [
    "mlp_18 = GridSearchCV(mlp, parameter_space, n_jobs=-1, cv=5)\n",
    "\n",
    "mlp_18.fit(X_18_train, y_18_train.values.ravel())  "
   ]
  },
  {
   "cell_type": "code",
   "execution_count": 53,
   "id": "85b8d4d6",
   "metadata": {},
   "outputs": [
    {
     "data": {
      "text/plain": [
       "GridSearchCV(cv=5, estimator=MLPClassifier(max_iter=1000), n_jobs=-1,\n",
       "             param_grid={'activation': ['tanh', 'relu'],\n",
       "                         'alpha': [0.0001, 0.05],\n",
       "                         'hidden_layer_sizes': [(10, 30, 10), (20,)],\n",
       "                         'learning_rate': ['constant', 'adaptive'],\n",
       "                         'solver': ['sgd', 'adam']})"
      ]
     },
     "execution_count": 53,
     "metadata": {},
     "output_type": "execute_result"
    }
   ],
   "source": [
    "mlp_19 = GridSearchCV(mlp, parameter_space, n_jobs=-1, cv=5)\n",
    "\n",
    "mlp_19.fit(X_19_train, y_19_train.values.ravel())  "
   ]
  },
  {
   "cell_type": "code",
   "execution_count": 88,
   "id": "92ac13c2",
   "metadata": {},
   "outputs": [
    {
     "data": {
      "text/plain": [
       "GridSearchCV(cv=5, estimator=MLPClassifier(max_iter=1000), n_jobs=-1,\n",
       "             param_grid={'activation': ['tanh', 'relu'],\n",
       "                         'alpha': [0.0001, 0.05],\n",
       "                         'hidden_layer_sizes': [(10, 30, 10), (20,)],\n",
       "                         'learning_rate': ['constant', 'adaptive'],\n",
       "                         'solver': ['sgd', 'adam']})"
      ]
     },
     "execution_count": 88,
     "metadata": {},
     "output_type": "execute_result"
    }
   ],
   "source": [
    "mlp_20 = GridSearchCV(mlp, parameter_space, n_jobs=-1, cv=5)\n",
    "\n",
    "mlp_20.fit(X_20_train, y_20_train.values.ravel())  "
   ]
  },
  {
   "cell_type": "code",
   "execution_count": 89,
   "id": "3114746d",
   "metadata": {},
   "outputs": [
    {
     "data": {
      "text/plain": [
       "GridSearchCV(cv=5, estimator=MLPClassifier(max_iter=1000), n_jobs=-1,\n",
       "             param_grid={'activation': ['tanh', 'relu'],\n",
       "                         'alpha': [0.0001, 0.05],\n",
       "                         'hidden_layer_sizes': [(10, 30, 10), (20,)],\n",
       "                         'learning_rate': ['constant', 'adaptive'],\n",
       "                         'solver': ['sgd', 'adam']})"
      ]
     },
     "execution_count": 89,
     "metadata": {},
     "output_type": "execute_result"
    }
   ],
   "source": [
    "mlp_21 = GridSearchCV(mlp, parameter_space, n_jobs=-1, cv=5)\n",
    "\n",
    "mlp_21.fit(X_21_train, y_21_train.values.ravel())"
   ]
  },
  {
   "cell_type": "code",
   "execution_count": 56,
   "id": "1238e586",
   "metadata": {},
   "outputs": [
    {
     "data": {
      "text/plain": [
       "GridSearchCV(cv=5, estimator=MLPClassifier(max_iter=1000), n_jobs=-1,\n",
       "             param_grid={'activation': ['tanh', 'relu'],\n",
       "                         'alpha': [0.0001, 0.05],\n",
       "                         'hidden_layer_sizes': [(10, 30, 10), (20,)],\n",
       "                         'learning_rate': ['constant', 'adaptive'],\n",
       "                         'solver': ['sgd', 'adam']})"
      ]
     },
     "execution_count": 56,
     "metadata": {},
     "output_type": "execute_result"
    }
   ],
   "source": [
    "mlp_22 = GridSearchCV(mlp, parameter_space, n_jobs=-1, cv=5)\n",
    "\n",
    "mlp_22.fit(X_22_train, y_22_train.values.ravel())  "
   ]
  },
  {
   "cell_type": "markdown",
   "id": "e37bb883",
   "metadata": {},
   "source": [
    "# MLP Reg. Season Test"
   ]
  },
  {
   "cell_type": "code",
   "execution_count": 57,
   "id": "b92541c4",
   "metadata": {},
   "outputs": [
    {
     "name": "stdout",
     "output_type": "stream",
     "text": [
      "              precision    recall  f1-score   support\n",
      "\n",
      "           0       0.91      0.64      0.75        67\n",
      "           1       0.78      0.96      0.86        91\n",
      "\n",
      "    accuracy                           0.82       158\n",
      "   macro avg       0.85      0.80      0.81       158\n",
      "weighted avg       0.84      0.82      0.82       158\n",
      "\n",
      "This set of predictions was 82.28% accurate\n",
      "\n"
     ]
    }
   ],
   "source": [
    "mlp_14_preds = mlp_14.predict(X_14_test)\n",
    "\n",
    "print(classification_report(y_14_test,mlp_14_preds))\n",
    "print(\"This set of predictions was %s%% accurate\\n\" %str(round(100*accuracy_score(y_14_test,mlp_14_preds),2)))"
   ]
  },
  {
   "cell_type": "code",
   "execution_count": 58,
   "id": "34237e98",
   "metadata": {},
   "outputs": [
    {
     "name": "stdout",
     "output_type": "stream",
     "text": [
      "              precision    recall  f1-score   support\n",
      "\n",
      "           0       0.91      0.78      0.84        63\n",
      "           1       0.87      0.95      0.91       100\n",
      "\n",
      "    accuracy                           0.88       163\n",
      "   macro avg       0.89      0.86      0.87       163\n",
      "weighted avg       0.89      0.88      0.88       163\n",
      "\n",
      "This set of predictions was 88.34% accurate\n",
      "\n"
     ]
    }
   ],
   "source": [
    "mlp_15_preds = mlp_15.predict(X_15_test)\n",
    "\n",
    "print(classification_report(y_15_test,mlp_15_preds))\n",
    "print(\"This set of predictions was %s%% accurate\\n\" %str(round(100*accuracy_score(y_15_test,mlp_15_preds),2)))"
   ]
  },
  {
   "cell_type": "code",
   "execution_count": 59,
   "id": "ecd30625",
   "metadata": {},
   "outputs": [
    {
     "name": "stdout",
     "output_type": "stream",
     "text": [
      "              precision    recall  f1-score   support\n",
      "\n",
      "           0       0.85      0.83      0.84        64\n",
      "           1       0.89      0.91      0.90        98\n",
      "\n",
      "    accuracy                           0.88       162\n",
      "   macro avg       0.87      0.87      0.87       162\n",
      "weighted avg       0.88      0.88      0.88       162\n",
      "\n",
      "This set of predictions was 87.65% accurate\n",
      "\n"
     ]
    }
   ],
   "source": [
    "mlp_16_preds = mlp_16.predict(X_16_test)\n",
    "\n",
    "print(classification_report(y_16_test,mlp_16_preds))\n",
    "print(\"This set of predictions was %s%% accurate\\n\" %str(round(100*accuracy_score(y_16_test,mlp_16_preds),2)))"
   ]
  },
  {
   "cell_type": "code",
   "execution_count": 90,
   "id": "9cb91b56",
   "metadata": {},
   "outputs": [
    {
     "name": "stdout",
     "output_type": "stream",
     "text": [
      "              precision    recall  f1-score   support\n",
      "\n",
      "           0       0.78      0.89      0.83        76\n",
      "           1       0.89      0.78      0.83        87\n",
      "\n",
      "    accuracy                           0.83       163\n",
      "   macro avg       0.84      0.84      0.83       163\n",
      "weighted avg       0.84      0.83      0.83       163\n",
      "\n",
      "This set of predictions was 83.44% accurate\n",
      "\n"
     ]
    }
   ],
   "source": [
    "mlp_17_preds = mlp_17.predict(X_17_test)\n",
    "\n",
    "print(classification_report(y_17_test,mlp_17_preds))\n",
    "print(\"This set of predictions was %s%% accurate\\n\" %str(round(100*accuracy_score(y_17_test,mlp_17_preds),2)))"
   ]
  },
  {
   "cell_type": "code",
   "execution_count": 61,
   "id": "b5aa6a7e",
   "metadata": {},
   "outputs": [
    {
     "name": "stdout",
     "output_type": "stream",
     "text": [
      "              precision    recall  f1-score   support\n",
      "\n",
      "           0       0.76      0.82      0.79        57\n",
      "           1       0.90      0.86      0.88       108\n",
      "\n",
      "    accuracy                           0.85       165\n",
      "   macro avg       0.83      0.84      0.84       165\n",
      "weighted avg       0.85      0.85      0.85       165\n",
      "\n",
      "This set of predictions was 84.85% accurate\n",
      "\n"
     ]
    }
   ],
   "source": [
    "mlp_18_preds = mlp_18.predict(X_18_test)\n",
    "\n",
    "print(classification_report(y_18_test,mlp_18_preds))\n",
    "print(\"This set of predictions was %s%% accurate\\n\" %str(round(100*accuracy_score(y_18_test,mlp_18_preds),2)))"
   ]
  },
  {
   "cell_type": "code",
   "execution_count": 62,
   "id": "091a3a2b",
   "metadata": {},
   "outputs": [
    {
     "name": "stdout",
     "output_type": "stream",
     "text": [
      "              precision    recall  f1-score   support\n",
      "\n",
      "           0       0.88      0.84      0.86        58\n",
      "           1       0.92      0.94      0.93       108\n",
      "\n",
      "    accuracy                           0.90       166\n",
      "   macro avg       0.90      0.89      0.89       166\n",
      "weighted avg       0.90      0.90      0.90       166\n",
      "\n",
      "This set of predictions was 90.36% accurate\n",
      "\n"
     ]
    }
   ],
   "source": [
    "mlp_19_preds = mlp_19.predict(X_19_test)\n",
    "\n",
    "print(classification_report(y_19_test,mlp_19_preds))\n",
    "print(\"This set of predictions was %s%% accurate\\n\" %str(round(100*accuracy_score(y_19_test,mlp_19_preds),2)))"
   ]
  },
  {
   "cell_type": "code",
   "execution_count": 91,
   "id": "baaa0e42",
   "metadata": {},
   "outputs": [
    {
     "name": "stdout",
     "output_type": "stream",
     "text": [
      "              precision    recall  f1-score   support\n",
      "\n",
      "           0       0.70      0.55      0.62        38\n",
      "           1       0.74      0.84      0.79        58\n",
      "\n",
      "    accuracy                           0.73        96\n",
      "   macro avg       0.72      0.70      0.70        96\n",
      "weighted avg       0.73      0.73      0.72        96\n",
      "\n",
      "This set of predictions was 72.92% accurate\n",
      "\n"
     ]
    }
   ],
   "source": [
    "mlp_20_preds = mlp_20.predict(X_20_test)\n",
    "\n",
    "print(classification_report(y_20_test,mlp_20_preds))\n",
    "print(\"This set of predictions was %s%% accurate\\n\" %str(round(100*accuracy_score(y_20_test,mlp_20_preds),2)))"
   ]
  },
  {
   "cell_type": "code",
   "execution_count": 92,
   "id": "f5b836cd",
   "metadata": {},
   "outputs": [
    {
     "name": "stdout",
     "output_type": "stream",
     "text": [
      "              precision    recall  f1-score   support\n",
      "\n",
      "           0       0.73      0.87      0.79        61\n",
      "           1       0.91      0.80      0.85        98\n",
      "\n",
      "    accuracy                           0.82       159\n",
      "   macro avg       0.82      0.83      0.82       159\n",
      "weighted avg       0.84      0.82      0.83       159\n",
      "\n",
      "This set of predictions was 82.39% accurate\n",
      "\n"
     ]
    }
   ],
   "source": [
    "mlp_21_preds = mlp_21.predict(X_21_test)\n",
    "\n",
    "print(classification_report(y_21_test,mlp_21_preds))\n",
    "print(\"This set of predictions was %s%% accurate\\n\" %str(round(100*accuracy_score(y_21_test,mlp_21_preds),2)))"
   ]
  },
  {
   "cell_type": "code",
   "execution_count": 66,
   "id": "30b6e915",
   "metadata": {},
   "outputs": [
    {
     "name": "stdout",
     "output_type": "stream",
     "text": [
      "              precision    recall  f1-score   support\n",
      "\n",
      "           0       0.87      0.83      0.85       102\n",
      "           1       0.90      0.92      0.91       167\n",
      "\n",
      "    accuracy                           0.89       269\n",
      "   macro avg       0.88      0.88      0.88       269\n",
      "weighted avg       0.89      0.89      0.89       269\n",
      "\n",
      "This set of predictions was 88.85% accurate\n",
      "\n"
     ]
    }
   ],
   "source": [
    "mlp_22_preds = mlp_22.predict(X_22_test)\n",
    "\n",
    "print(classification_report(y_22_test,mlp_22_preds))\n",
    "print(\"This set of predictions was %s%% accurate\\n\" %str(round(100*accuracy_score(y_22_test,mlp_22_preds),2)))"
   ]
  },
  {
   "cell_type": "markdown",
   "id": "9960cc63",
   "metadata": {},
   "source": [
    "# MLP Bowl Predictions"
   ]
  },
  {
   "cell_type": "code",
   "execution_count": 67,
   "id": "55e9195c",
   "metadata": {},
   "outputs": [
    {
     "name": "stderr",
     "output_type": "stream",
     "text": [
      "/opt/anaconda3/lib/python3.9/site-packages/sklearn/base.py:450: UserWarning: X does not have valid feature names, but MLPClassifier was fitted with feature names\n",
      "  warnings.warn(\n",
      "/var/folders/kn/qx4j8z6162vd2k57zrwz_w_h0000gp/T/ipykernel_1850/3398209949.py:20: MatplotlibDeprecationWarning: Auto-removal of grids by pcolor() and pcolormesh() is deprecated since 3.5 and will be removed two minor releases later; please call grid(False) first.\n",
      "  plt.colorbar()\n"
     ]
    },
    {
     "name": "stdout",
     "output_type": "stream",
     "text": [
      "              precision    recall  f1-score   support\n",
      "\n",
      "           0       0.43      0.18      0.25        17\n",
      "           1       0.56      0.82      0.67        22\n",
      "\n",
      "    accuracy                           0.54        39\n",
      "   macro avg       0.50      0.50      0.46        39\n",
      "weighted avg       0.50      0.54      0.49        39\n",
      "\n",
      "This set of predictions was 53.85% accurate\n",
      "\n",
      "Confusion matrix, without normalization\n",
      "[[ 3 14]\n",
      " [ 4 18]]\n"
     ]
    },
    {
     "data": {
      "image/png": "[encoded data removed]",
      "text/plain": [
       "<Figure size 748.8x514.8 with 2 Axes>"
      ]
     },
     "metadata": {},
     "output_type": "display_data"
    }
   ],
   "source": [
    "mlp_bowl_14 = mlp_14.predict(X_bowl_14)\n",
    "\n",
    "mlp_cm_14 = confusion_matrix(y_bowl_14,mlp_bowl_14)\n",
    "print(classification_report(y_bowl_14,mlp_bowl_14))\n",
    "print(\"This set of predictions was %s%% accurate\\n\" %str(round(100*accuracy_score(y_bowl_14,mlp_bowl_14),2)))\n",
    "\n",
    "plot_confusion_matrix(mlp_cm_14,title='Multi-Layered Perceptron', cmap=plt.cm.Blues)"
   ]
  },
  {
   "cell_type": "code",
   "execution_count": 68,
   "id": "e18ecce3",
   "metadata": {},
   "outputs": [
    {
     "name": "stderr",
     "output_type": "stream",
     "text": [
      "/opt/anaconda3/lib/python3.9/site-packages/sklearn/base.py:450: UserWarning: X does not have valid feature names, but MLPClassifier was fitted with feature names\n",
      "  warnings.warn(\n",
      "/var/folders/kn/qx4j8z6162vd2k57zrwz_w_h0000gp/T/ipykernel_1850/3398209949.py:20: MatplotlibDeprecationWarning: Auto-removal of grids by pcolor() and pcolormesh() is deprecated since 3.5 and will be removed two minor releases later; please call grid(False) first.\n",
      "  plt.colorbar()\n"
     ]
    },
    {
     "name": "stdout",
     "output_type": "stream",
     "text": [
      "              precision    recall  f1-score   support\n",
      "\n",
      "           0       0.50      0.88      0.64        17\n",
      "           1       0.82      0.38      0.51        24\n",
      "\n",
      "    accuracy                           0.59        41\n",
      "   macro avg       0.66      0.63      0.58        41\n",
      "weighted avg       0.69      0.59      0.57        41\n",
      "\n",
      "This set of predictions was 58.54% accurate\n",
      "\n",
      "Confusion matrix, without normalization\n",
      "[[15  2]\n",
      " [15  9]]\n"
     ]
    },
    {
     "data": {
      "image/png": "[encoded data removed]",
      "text/plain": [
       "<Figure size 748.8x514.8 with 2 Axes>"
      ]
     },
     "metadata": {},
     "output_type": "display_data"
    }
   ],
   "source": [
    "mlp_bowl_15 = mlp_15.predict(X_bowl_15)\n",
    "\n",
    "mlp_cm_15 = confusion_matrix(y_bowl_15,mlp_bowl_15)\n",
    "print(classification_report(y_bowl_15,mlp_bowl_15))\n",
    "print(\"This set of predictions was %s%% accurate\\n\" %str(round(100*accuracy_score(y_bowl_15,mlp_bowl_15),2)))\n",
    "\n",
    "plot_confusion_matrix(mlp_cm_15,title='Multi-Layered Perceptron', cmap=plt.cm.Blues)"
   ]
  },
  {
   "cell_type": "code",
   "execution_count": 69,
   "id": "9d357501",
   "metadata": {},
   "outputs": [
    {
     "name": "stdout",
     "output_type": "stream",
     "text": [
      "              precision    recall  f1-score   support\n",
      "\n",
      "           0       0.33      0.10      0.15        20\n",
      "           1       0.49      0.81      0.61        21\n",
      "\n",
      "    accuracy                           0.46        41\n",
      "   macro avg       0.41      0.45      0.38        41\n",
      "weighted avg       0.41      0.46      0.39        41\n",
      "\n",
      "This set of predictions was 46.34% accurate\n",
      "\n",
      "Confusion matrix, without normalization\n",
      "[[ 2 18]\n",
      " [ 4 17]]\n"
     ]
    },
    {
     "name": "stderr",
     "output_type": "stream",
     "text": [
      "/opt/anaconda3/lib/python3.9/site-packages/sklearn/base.py:450: UserWarning: X does not have valid feature names, but MLPClassifier was fitted with feature names\n",
      "  warnings.warn(\n",
      "/var/folders/kn/qx4j8z6162vd2k57zrwz_w_h0000gp/T/ipykernel_1850/3398209949.py:20: MatplotlibDeprecationWarning: Auto-removal of grids by pcolor() and pcolormesh() is deprecated since 3.5 and will be removed two minor releases later; please call grid(False) first.\n",
      "  plt.colorbar()\n"
     ]
    },
    {
     "data": {
      "image/png": "[encoded data removed]",
      "text/plain": [
       "<Figure size 748.8x514.8 with 2 Axes>"
      ]
     },
     "metadata": {},
     "output_type": "display_data"
    }
   ],
   "source": [
    "mlp_bowl_16 = mlp_16.predict(X_bowl_16)\n",
    "\n",
    "mlp_cm_16 = confusion_matrix(y_bowl_16,mlp_bowl_16)\n",
    "print(classification_report(y_bowl_16,mlp_bowl_16))\n",
    "print(\"This set of predictions was %s%% accurate\\n\" %str(round(100*accuracy_score(y_bowl_16,mlp_bowl_16),2)))\n",
    "\n",
    "plot_confusion_matrix(mlp_cm_16,title='Multi-Layered Perceptron', cmap=plt.cm.Blues)"
   ]
  },
  {
   "cell_type": "code",
   "execution_count": 93,
   "id": "92a850aa",
   "metadata": {},
   "outputs": [
    {
     "name": "stdout",
     "output_type": "stream",
     "text": [
      "              precision    recall  f1-score   support\n",
      "\n",
      "           0       0.64      0.30      0.41        23\n",
      "           1       0.45      0.76      0.57        17\n",
      "\n",
      "    accuracy                           0.50        40\n",
      "   macro avg       0.54      0.53      0.49        40\n",
      "weighted avg       0.56      0.50      0.48        40\n",
      "\n",
      "This set of predictions was 50.0% accurate\n",
      "\n",
      "Confusion matrix, without normalization\n",
      "[[ 7 16]\n",
      " [ 4 13]]\n"
     ]
    },
    {
     "name": "stderr",
     "output_type": "stream",
     "text": [
      "/opt/anaconda3/lib/python3.9/site-packages/sklearn/base.py:450: UserWarning: X does not have valid feature names, but MLPClassifier was fitted with feature names\n",
      "  warnings.warn(\n",
      "/var/folders/kn/qx4j8z6162vd2k57zrwz_w_h0000gp/T/ipykernel_1850/3398209949.py:20: MatplotlibDeprecationWarning: Auto-removal of grids by pcolor() and pcolormesh() is deprecated since 3.5 and will be removed two minor releases later; please call grid(False) first.\n",
      "  plt.colorbar()\n"
     ]
    },
    {
     "data": {
      "image/png": "[encoded data removed]",
      "text/plain": [
       "<Figure size 748.8x514.8 with 2 Axes>"
      ]
     },
     "metadata": {},
     "output_type": "display_data"
    }
   ],
   "source": [
    "mlp_bowl_17 = mlp_17.predict(X_bowl_17)\n",
    "\n",
    "mlp_cm_17 = confusion_matrix(y_bowl_17,mlp_bowl_17)\n",
    "print(classification_report(y_bowl_17,mlp_bowl_17))\n",
    "print(\"This set of predictions was %s%% accurate\\n\" %str(round(100*accuracy_score(y_bowl_17,mlp_bowl_17),2)))\n",
    "\n",
    "plot_confusion_matrix(mlp_cm_17,title='Multi-Layered Perceptron', cmap=plt.cm.Blues)"
   ]
  },
  {
   "cell_type": "code",
   "execution_count": 72,
   "id": "bab74544",
   "metadata": {},
   "outputs": [
    {
     "name": "stderr",
     "output_type": "stream",
     "text": [
      "/opt/anaconda3/lib/python3.9/site-packages/sklearn/base.py:450: UserWarning: X does not have valid feature names, but MLPClassifier was fitted with feature names\n",
      "  warnings.warn(\n",
      "/var/folders/kn/qx4j8z6162vd2k57zrwz_w_h0000gp/T/ipykernel_1850/3398209949.py:20: MatplotlibDeprecationWarning: Auto-removal of grids by pcolor() and pcolormesh() is deprecated since 3.5 and will be removed two minor releases later; please call grid(False) first.\n",
      "  plt.colorbar()\n"
     ]
    },
    {
     "name": "stdout",
     "output_type": "stream",
     "text": [
      "              precision    recall  f1-score   support\n",
      "\n",
      "           0       0.44      0.44      0.44        16\n",
      "           1       0.61      0.61      0.61        23\n",
      "\n",
      "    accuracy                           0.54        39\n",
      "   macro avg       0.52      0.52      0.52        39\n",
      "weighted avg       0.54      0.54      0.54        39\n",
      "\n",
      "This set of predictions was 53.85% accurate\n",
      "\n",
      "Confusion matrix, without normalization\n",
      "[[ 7  9]\n",
      " [ 9 14]]\n"
     ]
    },
    {
     "data": {
      "image/png": "[encoded data removed]",
      "text/plain": [
       "<Figure size 748.8x514.8 with 2 Axes>"
      ]
     },
     "metadata": {},
     "output_type": "display_data"
    }
   ],
   "source": [
    "mlp_bowl_18 = mlp_18.predict(X_bowl_18)\n",
    "\n",
    "mlp_cm_18 = confusion_matrix(y_bowl_18,mlp_bowl_18)\n",
    "print(classification_report(y_bowl_18,mlp_bowl_18))\n",
    "print(\"This set of predictions was %s%% accurate\\n\" %str(round(100*accuracy_score(y_bowl_18,mlp_bowl_18),2)))\n",
    "\n",
    "plot_confusion_matrix(mlp_cm_18,title='Multi-Layered Perceptron', cmap=plt.cm.Blues)"
   ]
  },
  {
   "cell_type": "code",
   "execution_count": 73,
   "id": "de538ca8",
   "metadata": {},
   "outputs": [
    {
     "name": "stdout",
     "output_type": "stream",
     "text": [
      "              precision    recall  f1-score   support\n",
      "\n",
      "           0       0.70      0.32      0.44        22\n",
      "           1       0.50      0.83      0.62        18\n",
      "\n",
      "    accuracy                           0.55        40\n",
      "   macro avg       0.60      0.58      0.53        40\n",
      "weighted avg       0.61      0.55      0.52        40\n",
      "\n",
      "This set of predictions was 55.0% accurate\n",
      "\n",
      "Confusion matrix, without normalization\n",
      "[[ 7 15]\n",
      " [ 3 15]]\n"
     ]
    },
    {
     "name": "stderr",
     "output_type": "stream",
     "text": [
      "/opt/anaconda3/lib/python3.9/site-packages/sklearn/base.py:450: UserWarning: X does not have valid feature names, but MLPClassifier was fitted with feature names\n",
      "  warnings.warn(\n",
      "/var/folders/kn/qx4j8z6162vd2k57zrwz_w_h0000gp/T/ipykernel_1850/3398209949.py:20: MatplotlibDeprecationWarning: Auto-removal of grids by pcolor() and pcolormesh() is deprecated since 3.5 and will be removed two minor releases later; please call grid(False) first.\n",
      "  plt.colorbar()\n"
     ]
    },
    {
     "data": {
      "image/png": "[encoded data removed]",
      "text/plain": [
       "<Figure size 748.8x514.8 with 2 Axes>"
      ]
     },
     "metadata": {},
     "output_type": "display_data"
    }
   ],
   "source": [
    "mlp_bowl_19 = mlp_14.predict(X_bowl_19)\n",
    "\n",
    "mlp_cm_19 = confusion_matrix(y_bowl_19,mlp_bowl_19)\n",
    "print(classification_report(y_bowl_19,mlp_bowl_19))\n",
    "print(\"This set of predictions was %s%% accurate\\n\" %str(round(100*accuracy_score(y_bowl_19,mlp_bowl_19),2)))\n",
    "\n",
    "plot_confusion_matrix(mlp_cm_19,title='Multi-Layered Perceptron', cmap=plt.cm.Blues)"
   ]
  },
  {
   "cell_type": "code",
   "execution_count": 94,
   "id": "ec68b158",
   "metadata": {},
   "outputs": [
    {
     "name": "stderr",
     "output_type": "stream",
     "text": [
      "/opt/anaconda3/lib/python3.9/site-packages/sklearn/base.py:450: UserWarning: X does not have valid feature names, but MLPClassifier was fitted with feature names\n",
      "  warnings.warn(\n",
      "/opt/anaconda3/lib/python3.9/site-packages/sklearn/metrics/_classification.py:1318: UndefinedMetricWarning: Precision and F-score are ill-defined and being set to 0.0 in labels with no predicted samples. Use `zero_division` parameter to control this behavior.\n",
      "  _warn_prf(average, modifier, msg_start, len(result))\n",
      "/opt/anaconda3/lib/python3.9/site-packages/sklearn/metrics/_classification.py:1318: UndefinedMetricWarning: Precision and F-score are ill-defined and being set to 0.0 in labels with no predicted samples. Use `zero_division` parameter to control this behavior.\n",
      "  _warn_prf(average, modifier, msg_start, len(result))\n",
      "/opt/anaconda3/lib/python3.9/site-packages/sklearn/metrics/_classification.py:1318: UndefinedMetricWarning: Precision and F-score are ill-defined and being set to 0.0 in labels with no predicted samples. Use `zero_division` parameter to control this behavior.\n",
      "  _warn_prf(average, modifier, msg_start, len(result))\n",
      "/var/folders/kn/qx4j8z6162vd2k57zrwz_w_h0000gp/T/ipykernel_1850/3398209949.py:20: MatplotlibDeprecationWarning: Auto-removal of grids by pcolor() and pcolormesh() is deprecated since 3.5 and will be removed two minor releases later; please call grid(False) first.\n",
      "  plt.colorbar()\n"
     ]
    },
    {
     "name": "stdout",
     "output_type": "stream",
     "text": [
      "              precision    recall  f1-score   support\n",
      "\n",
      "           0       0.00      0.00      0.00        12\n",
      "           1       0.54      1.00      0.70        14\n",
      "\n",
      "    accuracy                           0.54        26\n",
      "   macro avg       0.27      0.50      0.35        26\n",
      "weighted avg       0.29      0.54      0.38        26\n",
      "\n",
      "This set of predictions was 53.85% accurate\n",
      "\n",
      "Confusion matrix, without normalization\n",
      "[[ 0 12]\n",
      " [ 0 14]]\n"
     ]
    },
    {
     "data": {
      "image/png": "[encoded data removed]",
      "text/plain": [
       "<Figure size 748.8x514.8 with 2 Axes>"
      ]
     },
     "metadata": {},
     "output_type": "display_data"
    }
   ],
   "source": [
    "mlp_bowl_20 = mlp_20.predict(X_bowl_20)\n",
    "\n",
    "mlp_cm_20 = confusion_matrix(y_bowl_20,mlp_bowl_20)\n",
    "print(classification_report(y_bowl_20,mlp_bowl_20))\n",
    "print(\"This set of predictions was %s%% accurate\\n\" %str(round(100*accuracy_score(y_bowl_20,mlp_bowl_20),2)))\n",
    "\n",
    "plot_confusion_matrix(mlp_cm_20,title='Multi-Layered Perceptron', cmap=plt.cm.Blues)"
   ]
  },
  {
   "cell_type": "code",
   "execution_count": 95,
   "id": "7976b84f",
   "metadata": {},
   "outputs": [
    {
     "name": "stdout",
     "output_type": "stream",
     "text": [
      "              precision    recall  f1-score   support\n",
      "\n",
      "           0       0.47      0.44      0.46        18\n",
      "           1       0.52      0.55      0.54        20\n",
      "\n",
      "    accuracy                           0.50        38\n",
      "   macro avg       0.50      0.50      0.50        38\n",
      "weighted avg       0.50      0.50      0.50        38\n",
      "\n",
      "This set of predictions was 50.0% accurate\n",
      "\n",
      "Confusion matrix, without normalization\n",
      "[[ 8 10]\n",
      " [ 9 11]]\n"
     ]
    },
    {
     "name": "stderr",
     "output_type": "stream",
     "text": [
      "/opt/anaconda3/lib/python3.9/site-packages/sklearn/base.py:450: UserWarning: X does not have valid feature names, but MLPClassifier was fitted with feature names\n",
      "  warnings.warn(\n",
      "/var/folders/kn/qx4j8z6162vd2k57zrwz_w_h0000gp/T/ipykernel_1850/3398209949.py:20: MatplotlibDeprecationWarning: Auto-removal of grids by pcolor() and pcolormesh() is deprecated since 3.5 and will be removed two minor releases later; please call grid(False) first.\n",
      "  plt.colorbar()\n"
     ]
    },
    {
     "data": {
      "image/png": "[encoded data removed]",
      "text/plain": [
       "<Figure size 748.8x514.8 with 2 Axes>"
      ]
     },
     "metadata": {},
     "output_type": "display_data"
    }
   ],
   "source": [
    "mlp_bowl_21 = mlp_21.predict(X_bowl_21)\n",
    "\n",
    "mlp_cm_21 = confusion_matrix(y_bowl_21,mlp_bowl_21)\n",
    "print(classification_report(y_bowl_21,mlp_bowl_21))\n",
    "print(\"This set of predictions was %s%% accurate\\n\" %str(round(100*accuracy_score(y_bowl_21,mlp_bowl_21),2)))\n",
    "\n",
    "plot_confusion_matrix(mlp_cm_21,title='Multi-Layered Perceptron', cmap=plt.cm.Blues)"
   ]
  },
  {
   "cell_type": "code",
   "execution_count": 77,
   "id": "aebc8aa7",
   "metadata": {},
   "outputs": [
    {
     "name": "stderr",
     "output_type": "stream",
     "text": [
      "/opt/anaconda3/lib/python3.9/site-packages/sklearn/base.py:450: UserWarning: X does not have valid feature names, but MLPClassifier was fitted with feature names\n",
      "  warnings.warn(\n"
     ]
    }
   ],
   "source": [
    "mlp_bowl_22 = mlp_22.predict(X_bowl_22)\n",
    "\n"
   ]
  },
  {
   "cell_type": "markdown",
   "id": "3c75fc2d",
   "metadata": {},
   "source": [
    "# Get Correct Predictions from Bowls before 2022"
   ]
  },
  {
   "cell_type": "markdown",
   "id": "f5fdb81e",
   "metadata": {},
   "source": [
    "### 2014"
   ]
  },
  {
   "cell_type": "code",
   "execution_count": 78,
   "id": "9b0169b1",
   "metadata": {},
   "outputs": [
    {
     "name": "stdout",
     "output_type": "stream",
     "text": [
      "For 2014, Louisiana vs Nevada, predicted winner Louisiana <br>\n",
      "For 2014, Air Force vs Western Michigan, predicted winner Air Force <br>\n",
      "For 2014, Bowling Green vs South Alabama, predicted winner Bowling Green <br>\n",
      "For 2014, Memphis vs BYU, predicted winner Memphis <br>\n",
      "For 2014, Rice vs Fresno State, predicted winner Rice <br>\n",
      "For 2014, Louisiana Tech vs Illinois, predicted winner Louisiana Tech <br>\n",
      "For 2014, North Carolina vs Rutgers, predicted winner Rutgers <br>\n",
      "For 2014, Virginia Tech vs Cincinnati, predicted winner Virginia Tech <br>\n",
      "For 2014, South Carolina vs Miami, predicted winner South Carolina <br>\n",
      "For 2014, Penn State vs Boston College, predicted winner Penn State <br>\n",
      "For 2014, Clemson vs Oklahoma, predicted winner Clemson <br>\n",
      "For 2014, LSU vs Notre Dame, predicted winner Notre Dame <br>\n",
      "For 2014, Stanford vs Maryland, predicted winner Stanford <br>\n",
      "For 2014, TCU vs Ole Miss, predicted winner TCU <br>\n",
      "For 2014, Georgia Tech vs Mississippi State, predicted winner Georgia Tech <br>\n",
      "For 2014, Wisconsin vs Auburn, predicted winner Wisconsin <br>\n",
      "For 2014, Minnesota vs Missouri, predicted winner Missouri <br>\n",
      "For 2014, Tennessee vs Iowa, predicted winner Tennessee <br>\n",
      "For 2014, Oklahoma State vs Washington, predicted winner Oklahoma State <br>\n",
      "For 2014, Florida vs East Carolina, predicted winner Florida <br>\n",
      "For 2014, Ohio State vs Oregon, predicted winner Ohio State <br>\n"
     ]
    }
   ],
   "source": [
    "for bowl, home, away,year,actual in zip(mlp_bowl_14, home_bowl_14, away_bowl_14,year_bowl_14,y_bowl_14):\n",
    "    year = str(year)\n",
    "    if actual == bowl:\n",
    "        if bowl == 1:\n",
    "            predicted_winner = home\n",
    "        else:\n",
    "            predicted_winner = away\n",
    "        print(\"For %s, %s vs %s, predicted winner %s <br>\" % (year, home, away, predicted_winner))"
   ]
  },
  {
   "cell_type": "markdown",
   "id": "84fc4280",
   "metadata": {},
   "source": [
    "### 2015"
   ]
  },
  {
   "cell_type": "code",
   "execution_count": 79,
   "id": "b8aaf76b",
   "metadata": {},
   "outputs": [
    {
     "name": "stdout",
     "output_type": "stream",
     "text": [
      "For 2015, New Mexico vs Arizona, predicted winner Arizona <br>\n",
      "For 2015, Louisiana Tech vs Arkansas State, predicted winner Louisiana Tech <br>\n",
      "For 2015, South Florida vs Western Kentucky, predicted winner Western Kentucky <br>\n",
      "For 2015, Utah State vs Akron, predicted winner Akron <br>\n",
      "For 2015, Toledo vs Temple, predicted winner Toledo <br>\n",
      "For 2015, Northern Illinois vs Boise State, predicted winner Boise State <br>\n",
      "For 2015, Bowling Green vs Georgia Southern, predicted winner Georgia Southern <br>\n",
      "For 2015, Western Michigan vs Middle Tennessee, predicted winner Western Michigan <br>\n",
      "For 2015, Cincinnati vs San Diego State, predicted winner San Diego State <br>\n",
      "For 2015, Southern Mississippi vs Washington, predicted winner Washington <br>\n",
      "For 2015, Duke vs Indiana, predicted winner Duke <br>\n",
      "For 2015, Virginia Tech vs Tulsa, predicted winner Virginia Tech <br>\n",
      "For 2015, Air Force vs California, predicted winner California <br>\n",
      "For 2015, Colorado State vs Nevada, predicted winner Nevada <br>\n",
      "For 2015, Texas Tech vs LSU, predicted winner LSU <br>\n",
      "For 2015, Memphis vs Auburn, predicted winner Auburn <br>\n",
      "For 2015, Mississippi State vs NC State, predicted winner Mississippi State <br>\n",
      "For 2015, Florida State vs Houston, predicted winner Houston <br>\n",
      "For 2015, Tennessee vs Northwestern, predicted winner Tennessee <br>\n",
      "For 2015, Florida vs Michigan, predicted winner Michigan <br>\n",
      "For 2015, Iowa vs Stanford, predicted winner Stanford <br>\n",
      "For 2015, Ole Miss vs Oklahoma State, predicted winner Ole Miss <br>\n",
      "For 2015, Georgia vs Penn State, predicted winner Georgia <br>\n",
      "For 2015, Clemson vs Alabama, predicted winner Alabama <br>\n"
     ]
    }
   ],
   "source": [
    "for bowl, home, away,year,actual in zip(mlp_bowl_15, home_bowl_15, away_bowl_15,year_bowl_15,y_bowl_15):\n",
    "    year = str(year)\n",
    "    if actual == bowl:\n",
    "        if bowl == 1:\n",
    "            predicted_winner = home\n",
    "        else:\n",
    "            predicted_winner = away\n",
    "        print(\"For %s, %s vs %s, predicted winner %s <br>\" % (year, home, away, predicted_winner))"
   ]
  },
  {
   "cell_type": "markdown",
   "id": "16898ee8",
   "metadata": {},
   "source": [
    "### 2016"
   ]
  },
  {
   "cell_type": "code",
   "execution_count": 80,
   "id": "930d97c0",
   "metadata": {},
   "outputs": [
    {
     "name": "stdout",
     "output_type": "stream",
     "text": [
      "For 2016, San Diego State vs Houston, predicted winner San Diego State <br>\n",
      "For 2016, Tulsa vs Central Michigan, predicted winner Tulsa <br>\n",
      "For 2016, Western Kentucky vs Memphis, predicted winner Western Kentucky <br>\n",
      "For 2016, Old Dominion vs Eastern Michigan, predicted winner Old Dominion <br>\n",
      "For 2016, Navy vs Louisiana Tech, predicted winner Louisiana Tech <br>\n",
      "For 2016, Troy vs Ohio, predicted winner Troy <br>\n",
      "For 2016, Mississippi State vs Miami (OH), predicted winner Mississippi State <br>\n",
      "For 2016, Boston College vs Maryland, predicted winner Boston College <br>\n",
      "For 2016, North Texas vs Army, predicted winner Army <br>\n",
      "For 2016, Wake Forest vs Temple, predicted winner Wake Forest <br>\n",
      "For 2016, Baylor vs Boise State, predicted winner Baylor <br>\n",
      "For 2016, Northwestern vs Pittsburgh, predicted winner Northwestern <br>\n",
      "For 2016, Miami vs West Virginia, predicted winner Miami <br>\n",
      "For 2016, Utah vs Indiana, predicted winner Utah <br>\n",
      "For 2016, Kansas State vs Texas A&M, predicted winner Kansas State <br>\n",
      "For 2016, Virginia Tech vs Arkansas, predicted winner Virginia Tech <br>\n",
      "For 2016, Tennessee vs Nebraska, predicted winner Tennessee <br>\n",
      "For 2016, Air Force vs South Alabama, predicted winner Air Force <br>\n",
      "For 2016, Florida State vs Michigan, predicted winner Florida State <br>\n"
     ]
    }
   ],
   "source": [
    "for bowl, home, away,year,actual in zip(mlp_bowl_16, home_bowl_16, away_bowl_16,year_bowl_16,y_bowl_16):\n",
    "    year = str(year)\n",
    "    if actual == bowl:\n",
    "        if bowl == 1:\n",
    "            predicted_winner = home\n",
    "        else:\n",
    "            predicted_winner = away\n",
    "        print(\"For %s, %s vs %s, predicted winner %s <br>\" % (year, home, away, predicted_winner))"
   ]
  },
  {
   "cell_type": "markdown",
   "id": "cc1ad272",
   "metadata": {},
   "source": [
    "### 2017"
   ]
  },
  {
   "cell_type": "code",
   "execution_count": 96,
   "id": "27a36129",
   "metadata": {},
   "outputs": [
    {
     "name": "stdout",
     "output_type": "stream",
     "text": [
      "For 2017, Georgia State vs Western Kentucky, predicted winner Georgia State <br>\n",
      "For 2017, Florida Atlantic vs Akron, predicted winner Florida Atlantic <br>\n",
      "For 2017, Wyoming vs Central Michigan, predicted winner Wyoming <br>\n",
      "For 2017, South Florida vs Texas Tech, predicted winner South Florida <br>\n",
      "For 2017, Purdue vs Arizona, predicted winner Purdue <br>\n",
      "For 2017, Oklahoma State vs Virginia Tech, predicted winner Oklahoma State <br>\n",
      "For 2017, Michigan State vs Washington State, predicted winner Michigan State <br>\n",
      "For 2017, TCU vs Stanford, predicted winner TCU <br>\n",
      "For 2017, Northwestern vs Kentucky, predicted winner Northwestern <br>\n",
      "For 2017, Mississippi State vs Louisville, predicted winner Mississippi State <br>\n",
      "For 2017, Memphis vs Iowa State, predicted winner Iowa State <br>\n",
      "For 2017, Penn State vs Washington, predicted winner Penn State <br>\n"
     ]
    }
   ],
   "source": [
    "for bowl, home, away,year,actual in zip(mlp_bowl_14, home_bowl_17, away_bowl_17,year_bowl_17,y_bowl_17):\n",
    "    year = str(year)\n",
    "    if actual == bowl:\n",
    "        if bowl == 1:\n",
    "            predicted_winner = home\n",
    "        else:\n",
    "            predicted_winner = away\n",
    "        print(\"For %s, %s vs %s, predicted winner %s <br>\" % (year, home, away, predicted_winner))"
   ]
  },
  {
   "cell_type": "markdown",
   "id": "23020352",
   "metadata": {},
   "source": [
    "### 2018"
   ]
  },
  {
   "cell_type": "code",
   "execution_count": 82,
   "id": "11b533a6",
   "metadata": {},
   "outputs": [
    {
     "name": "stdout",
     "output_type": "stream",
     "text": [
      "For 2018, Fresno State vs Arizona State, predicted winner Fresno State <br>\n",
      "For 2018, South Florida vs Marshall, predicted winner Marshall <br>\n",
      "For 2018, Toledo vs Florida International, predicted winner Florida International <br>\n",
      "For 2018, BYU vs Western Michigan, predicted winner BYU <br>\n",
      "For 2018, Troy vs Buffalo, predicted winner Troy <br>\n",
      "For 2018, Louisiana Tech vs Hawai'i, predicted winner Louisiana Tech <br>\n",
      "For 2018, Georgia Tech vs Minnesota, predicted winner Minnesota <br>\n",
      "For 2018, TCU vs California, predicted winner TCU <br>\n",
      "For 2018, Duke vs Temple, predicted winner Duke <br>\n",
      "For 2018, Wisconsin vs Miami, predicted winner Wisconsin <br>\n",
      "For 2018, Vanderbilt vs Baylor, predicted winner Baylor <br>\n",
      "For 2018, Auburn vs Purdue, predicted winner Auburn <br>\n",
      "For 2018, Syracuse vs West Virginia, predicted winner Syracuse <br>\n",
      "For 2018, Washington State vs Iowa State, predicted winner Washington State <br>\n",
      "For 2018, Nevada vs Arkansas State, predicted winner Nevada <br>\n",
      "For 2018, Pittsburgh vs Stanford, predicted winner Stanford <br>\n",
      "For 2018, Texas A&M vs NC State, predicted winner Texas A&M <br>\n",
      "For 2018, Iowa vs Mississippi State, predicted winner Iowa <br>\n",
      "For 2018, UCF vs LSU, predicted winner LSU <br>\n",
      "For 2018, Ohio State vs Washington, predicted winner Ohio State <br>\n",
      "For 2018, Georgia vs Texas, predicted winner Texas <br>\n"
     ]
    }
   ],
   "source": [
    "for bowl, home, away,year,actual in zip(mlp_bowl_18, home_bowl_18, away_bowl_18,year_bowl_18,y_bowl_18):\n",
    "    year = str(year)\n",
    "    if actual == bowl:\n",
    "        if bowl == 1:\n",
    "            predicted_winner = home\n",
    "        else:\n",
    "            predicted_winner = away\n",
    "        print(\"For %s, %s vs %s, predicted winner %s <br>\" % (year, home, away, predicted_winner))"
   ]
  },
  {
   "cell_type": "markdown",
   "id": "2238e914",
   "metadata": {},
   "source": [
    "### 2019"
   ]
  },
  {
   "cell_type": "code",
   "execution_count": 83,
   "id": "980cb8be",
   "metadata": {},
   "outputs": [
    {
     "name": "stdout",
     "output_type": "stream",
     "text": [
      "For 2019, Kent State vs Utah State, predicted winner Kent State <br>\n",
      "For 2019, San Diego State vs Central Michigan, predicted winner San Diego State <br>\n",
      "For 2019, Florida Atlantic vs SMU, predicted winner Florida Atlantic <br>\n",
      "For 2019, Arkansas State vs Florida International, predicted winner Arkansas State <br>\n",
      "For 2019, Washington vs Boise State, predicted winner Washington <br>\n",
      "For 2019, BYU vs Hawai'i, predicted winner Hawai'i <br>\n",
      "For 2019, Temple vs North Carolina, predicted winner North Carolina <br>\n",
      "For 2019, Wake Forest vs Michigan State, predicted winner Michigan State <br>\n",
      "For 2019, Texas A&M vs Oklahoma State, predicted winner Texas A&M <br>\n",
      "For 2019, Iowa vs USC, predicted winner Iowa <br>\n",
      "For 2019, Washington State vs Air Force, predicted winner Air Force <br>\n",
      "For 2019, Penn State vs Memphis, predicted winner Penn State <br>\n",
      "For 2019, LSU vs Oklahoma, predicted winner LSU <br>\n",
      "For 2019, Ohio State vs Clemson, predicted winner Clemson <br>\n",
      "For 2019, Kentucky vs Virginia Tech, predicted winner Kentucky <br>\n",
      "For 2019, Arizona State vs Florida State, predicted winner Arizona State <br>\n",
      "For 2019, Auburn vs Minnesota, predicted winner Minnesota <br>\n",
      "For 2019, Alabama vs Michigan, predicted winner Alabama <br>\n",
      "For 2019, Baylor vs Georgia, predicted winner Georgia <br>\n",
      "For 2019, Cincinnati vs Boston College, predicted winner Cincinnati <br>\n",
      "For 2019, Tennessee vs Indiana, predicted winner Tennessee <br>\n",
      "For 2019, LSU vs Clemson, predicted winner LSU <br>\n"
     ]
    }
   ],
   "source": [
    "for bowl, home, away,year,actual in zip(mlp_bowl_19, home_bowl_19, away_bowl_19,year_bowl_19,y_bowl_19):\n",
    "    year = str(year)\n",
    "    if actual == bowl:\n",
    "        if bowl == 1:\n",
    "            predicted_winner = home\n",
    "        else:\n",
    "            predicted_winner = away\n",
    "        print(\"For %s, %s vs %s, predicted winner %s <br>\" % (year, home, away, predicted_winner))"
   ]
  },
  {
   "cell_type": "markdown",
   "id": "db8e17e2",
   "metadata": {},
   "source": [
    "### 2020"
   ]
  },
  {
   "cell_type": "code",
   "execution_count": 97,
   "id": "f8b54989",
   "metadata": {},
   "outputs": [
    {
     "name": "stdout",
     "output_type": "stream",
     "text": [
      "For 2020, Nevada vs Tulane, predicted winner Nevada <br>\n",
      "For 2020, BYU vs UCF, predicted winner BYU <br>\n",
      "For 2020, Georgia Southern vs Louisiana Tech, predicted winner Georgia Southern <br>\n",
      "For 2020, Buffalo vs Marshall, predicted winner Buffalo <br>\n",
      "For 2020, Georgia State vs Western Kentucky, predicted winner Georgia State <br>\n",
      "For 2020, Wisconsin vs Wake Forest, predicted winner Wisconsin <br>\n",
      "For 2020, Oklahoma vs Florida, predicted winner Oklahoma <br>\n",
      "For 2020, Mississippi State vs Tulsa, predicted winner Mississippi State <br>\n",
      "For 2020, Georgia vs Cincinnati, predicted winner Georgia <br>\n",
      "For 2020, Northwestern vs Auburn, predicted winner Northwestern <br>\n",
      "For 2020, Alabama vs Notre Dame, predicted winner Alabama <br>\n",
      "For 2020, Kentucky vs NC State, predicted winner Kentucky <br>\n",
      "For 2020, Iowa State vs Oregon, predicted winner Iowa State <br>\n",
      "For 2020, Alabama vs Ohio State, predicted winner Alabama <br>\n"
     ]
    }
   ],
   "source": [
    "for bowl, home, away,year,actual in zip(mlp_bowl_20, home_bowl_20, away_bowl_20,year_bowl_20,y_bowl_20):\n",
    "    year = str(year)\n",
    "    if actual == bowl:\n",
    "        if bowl == 1:\n",
    "            predicted_winner = home\n",
    "        else:\n",
    "            predicted_winner = away\n",
    "        print(\"For %s, %s vs %s, predicted winner %s <br>\" % (year, home, away, predicted_winner))"
   ]
  },
  {
   "cell_type": "markdown",
   "id": "13999c3c",
   "metadata": {},
   "source": [
    "### 2021"
   ]
  },
  {
   "cell_type": "code",
   "execution_count": 98,
   "id": "257e6a13",
   "metadata": {},
   "outputs": [
    {
     "name": "stdout",
     "output_type": "stream",
     "text": [
      "For 2021, Coastal Carolina vs Northern Illinois, predicted winner Coastal Carolina <br>\n",
      "For 2021, Appalachian State vs Western Kentucky, predicted winner Western Kentucky <br>\n",
      "For 2021, BYU vs UAB, predicted winner UAB <br>\n",
      "For 2021, Oregon State vs Utah State, predicted winner Utah State <br>\n",
      "For 2021, Tulsa vs Old Dominion, predicted winner Tulsa <br>\n",
      "For 2021, Wyoming vs Kent State, predicted winner Wyoming <br>\n",
      "For 2021, Army vs Missouri, predicted winner Army <br>\n",
      "For 2021, Miami (OH) vs North Texas, predicted winner Miami (OH) <br>\n",
      "For 2021, Florida vs UCF, predicted winner UCF <br>\n",
      "For 2021, Auburn vs Houston, predicted winner Houston <br>\n",
      "For 2021, Minnesota vs West Virginia, predicted winner Minnesota <br>\n",
      "For 2021, Purdue vs Tennessee, predicted winner Purdue <br>\n",
      "For 2021, Central Michigan vs Washington State, predicted winner Central Michigan <br>\n",
      "For 2021, Michigan vs Georgia, predicted winner Georgia <br>\n",
      "For 2021, Arkansas vs Penn State, predicted winner Arkansas <br>\n",
      "For 2021, Kentucky vs Iowa, predicted winner Kentucky <br>\n",
      "For 2021, Ole Miss vs Baylor, predicted winner Baylor <br>\n",
      "For 2021, Kansas State vs LSU, predicted winner Kansas State <br>\n",
      "For 2021, Alabama vs Georgia, predicted winner Georgia <br>\n"
     ]
    }
   ],
   "source": [
    "for bowl, home, away,year,actual in zip(mlp_bowl_21, home_bowl_21, away_bowl_21,year_bowl_21,y_bowl_21):\n",
    "    year = str(year)\n",
    "    if actual == bowl:\n",
    "        if bowl == 1:\n",
    "            predicted_winner = home\n",
    "        else:\n",
    "            predicted_winner = away\n",
    "        print(\"For %s, %s vs %s, predicted winner %s <br>\" % (year, home, away, predicted_winner))"
   ]
  },
  {
   "cell_type": "markdown",
   "id": "649208ab",
   "metadata": {},
   "source": [
    "### 2022"
   ]
  },
  {
   "cell_type": "code",
   "execution_count": 1,
   "id": "e381ac9d",
   "metadata": {},
   "outputs": [
    {
     "ename": "NameError",
     "evalue": "name 'mlp_bowl_22' is not defined",
     "output_type": "error",
     "traceback": [
      "\u001b[0;31m---------------------------------------------------------------------------\u001b[0m",
      "\u001b[0;31mNameError\u001b[0m                                 Traceback (most recent call last)",
      "Input \u001b[0;32mIn [1]\u001b[0m, in \u001b[0;36m<cell line: 1>\u001b[0;34m()\u001b[0m\n\u001b[0;32m----> 1\u001b[0m \u001b[38;5;28;01mfor\u001b[39;00m bowl, home, away,year \u001b[38;5;129;01min\u001b[39;00m \u001b[38;5;28mzip\u001b[39m(\u001b[43mmlp_bowl_22\u001b[49m, home_bowl_22, away_bowl_22,year_bowl_22):\n\u001b[1;32m      2\u001b[0m     year \u001b[38;5;241m=\u001b[39m \u001b[38;5;28mstr\u001b[39m(year)\n\u001b[1;32m      3\u001b[0m     \u001b[38;5;28;01mif\u001b[39;00m bowl \u001b[38;5;241m==\u001b[39m \u001b[38;5;241m1\u001b[39m:\n",
      "\u001b[0;31mNameError\u001b[0m: name 'mlp_bowl_22' is not defined"
     ]
    }
   ],
   "source": [
    "for bowl, home, away,year in zip(mlp_bowl_22, home_bowl_22, away_bowl_22,year_bowl_22):\n",
    "    year = str(year)\n",
    "    if bowl == 1:\n",
    "        predicted_winner = home\n",
    "    else:\n",
    "        predicted_winner = away\n",
    "    print(\"For %s, %s vs %s, predicted winner %s <br>\" % (year, home, away, predicted_winner))"
   ]
  },
  {
   "cell_type": "code",
   "execution_count": null,
   "id": "e81ee35e",
   "metadata": {},
   "outputs": [],
   "source": []
  }
 ],
 "metadata": {
  "kernelspec": {
   "display_name": "Python 3 (ipykernel)",
   "language": "python",
   "name": "python3"
  },
  "language_info": {
   "codemirror_mode": {
    "name": "ipython",
    "version": 3
   },
   "file_extension": ".py",
   "mimetype": "text/x-python",
   "name": "python",
   "nbconvert_exporter": "python",
   "pygments_lexer": "ipython3",
   "version": "3.9.12"
  }
 },
 "nbformat": 4,
 "nbformat_minor": 5
}
